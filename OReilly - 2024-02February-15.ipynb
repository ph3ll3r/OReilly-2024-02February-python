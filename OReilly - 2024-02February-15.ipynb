{
 "cells": [
  {
   "cell_type": "markdown",
   "metadata": {},
   "source": [
    "# Agenda: Day 2\n",
    "\n",
    "1. Q&A from last time\n",
    "2. Loops\n",
    "    - `for` on strings (and other iterables)\n",
    "    - `for` on numbers (with `range`)\n",
    "    - The index (or lack thereof)\n",
    "    - `while` loops\n",
    "    - Controlling our loops with `break` and `continue`\n",
    "3. Lists\n",
    "    - What are lists?\n",
    "    - Compare lists with strings\n",
    "    - Lists are mutable -- and what this means\n",
    "4. Turning strings into lists, and back\n",
    "    - `str.split`\n",
    "    - `str.join`\n",
    "5. Tuples\n",
    "    - What are tuples, and how do they fit into what we've already learned?\n",
    "    - Unpacking "
   ]
  },
  {
   "cell_type": "markdown",
   "metadata": {},
   "source": [
    "# Loops\n",
    "\n",
    "One of the most important ideas in the world of programming is the \"DRY rule,\" meaning, \"Don't repeat yourself.\" \n",
    "\n",
    "The idea is that if you have the same code running several times in a row, then you shouldn't be doing that. You should find a way to contract that code into a smaller, more elegant way of expressing it.\n",
    "\n",
    "Why?\n",
    "\n",
    "- It'll take less time to write\n",
    "- It'll take less time to read/understand/maintain\n",
    "- You avoid the potential issue of having multiple, different versions of the same code\n",
    "\n"
   ]
  },
  {
   "cell_type": "code",
   "execution_count": 1,
   "metadata": {},
   "outputs": [
    {
     "name": "stdout",
     "output_type": "stream",
     "text": [
      "a\n",
      "b\n",
      "c\n",
      "d\n"
     ]
    }
   ],
   "source": [
    "# Example: Let's print every character in a string\n",
    "\n",
    "s = 'abcd'\n",
    "\n",
    "print(s[0])\n",
    "print(s[1])\n",
    "print(s[2])\n",
    "print(s[3])"
   ]
  },
  {
   "cell_type": "code",
   "execution_count": 2,
   "metadata": {},
   "outputs": [
    {
     "name": "stdout",
     "output_type": "stream",
     "text": [
      "a\n",
      "b\n",
      "c\n",
      "d\n"
     ]
    }
   ],
   "source": [
    "# there is a better way -- a loop!\n",
    "# a loop allows us to repeat (more or less) the same command on several different objects\n",
    "# in this case, we want to repeat the same call to \"print\" on each character\n",
    "\n",
    "# Python has two kinds of loops: for and while\n",
    "\n",
    "for one_character in s:\n",
    "    print(one_character)"
   ]
  },
  {
   "cell_type": "markdown",
   "metadata": {},
   "source": [
    "# Syntax of the `for` loop\n",
    "\n",
    "- We need to write the word `for` \n",
    "- We need to indicate into what variable will each iteration (time running the loop) be assigned? This is known as the \"loop variable.\"\n",
    "- The word `in` \n",
    "- The object on which we're iterating\n",
    "- A colon at the end of the line\n",
    "- The next line(s) must be indented -- that's the loop body\n",
    "- The loop body can be as long as we want; it will run once for each iteration of the loop\n",
    "\n",
    "The loop body can contain *any* code we want:\n",
    "- Assignment\n",
    "- `print`\n",
    "- `input`\n",
    "- `if`/`else`\n",
    "- Another `for` loop (\"nested loop\")"
   ]
  },
  {
   "cell_type": "markdown",
   "metadata": {},
   "source": [
    "# What's really happening in our `for` loop?\n",
    "\n",
    "1. `for` asks the object at the end of the line: Are you iterable? Do you know how to behave in a `for` loop?\n",
    "    - If the answer is \"no,\" the loop exits right away\n",
    "2. If the object is iterable, then `for` says: Give me the next value. What comes next?\n",
    "    - If there are no more values, then the object says so, and the `for` loop ends.\n",
    "4. The object (`s`, in this case) gives `for` its next value, which is assigned to our variable (in this case, `one_character`)\n",
    "5. Once that assignment has taken place, the loop body is executed with the variable assigned.\n",
    "6. When the loop body is done, we go back to step 2.\n",
    "\n",
    "*MANY MANY MANY* people in my courses believe that we get one character at a time from `s`, because we named our variable `one_character`. This is *NOT TRUE*. We will get one character at a time from a string, no matter what we call the variable. The variable name is 100% for us to understand the program; Python couldn't care less what we call it.\n",
    "\n",
    "`one_character` is a variable (\"loop variable\" or \"iteration variable\"), and it's assigned a value once per iteration, by the `for` loop. We aren't assigning it a value directly."
   ]
  },
  {
   "cell_type": "code",
   "execution_count": 3,
   "metadata": {},
   "outputs": [
    {
     "name": "stdout",
     "output_type": "stream",
     "text": [
      "a\n",
      "b\n",
      "c\n",
      "d\n"
     ]
    }
   ],
   "source": [
    "for one_character in s:\n",
    "    print(one_character)"
   ]
  },
  {
   "cell_type": "code",
   "execution_count": 4,
   "metadata": {},
   "outputs": [
    {
     "name": "stdout",
     "output_type": "stream",
     "text": [
      "a\n",
      "b\n",
      "c\n",
      "d\n"
     ]
    }
   ],
   "source": [
    "for one_terabyte in s:\n",
    "    print(one_terabyte)"
   ]
  },
  {
   "cell_type": "code",
   "execution_count": 5,
   "metadata": {},
   "outputs": [
    {
     "name": "stdout",
     "output_type": "stream",
     "text": [
      "a\n",
      "b\n",
      "c\n",
      "d\n"
     ]
    }
   ],
   "source": [
    "for one_pizza in s:\n",
    "    print(one_pizza)"
   ]
  },
  {
   "cell_type": "code",
   "execution_count": 6,
   "metadata": {},
   "outputs": [
    {
     "name": "stdout",
     "output_type": "stream",
     "text": [
      "abcd\n"
     ]
    }
   ],
   "source": [
    "print(s)"
   ]
  },
  {
   "cell_type": "markdown",
   "metadata": {},
   "source": [
    "# Exercise: Vowels, digits, and others\n",
    "\n",
    "1. Define three variables, `vowels`, `digits`, and `others`. Assign 0 to each of them.\n",
    "2. Ask the user to enter a string.\n",
    "3. Go through the string, one character at a time:\n",
    "    - If the character is a vowel, add 1 to `vowels`.\n",
    "    - If the character is a digit, add 1 to `digits`.\n",
    "    - Otherwise, add 1 to `others`.\n",
    "4. Print the values of each of these three variables.\n",
    "\n",
    "Example:\n",
    "\n",
    "    Enter some text: hello!! 123\n",
    "    vowels: 2\n",
    "    digits: 3\n",
    "    others: 6\n",
    "\n",
    "Hints/reminders:\n",
    "- You can get input from the user with `input`\n",
    "- You can check character membership in a string with `in`\n",
    "- You can check if a string contains only digits 0-9 with the `str.isdigit` method"
   ]
  },
  {
   "cell_type": "code",
   "execution_count": null,
   "metadata": {},
   "outputs": [],
   "source": []
  }
 ],
 "metadata": {
  "kernelspec": {
   "display_name": "Python 3 (ipykernel)",
   "language": "python",
   "name": "python3"
  },
  "language_info": {
   "codemirror_mode": {
    "name": "ipython",
    "version": 3
   },
   "file_extension": ".py",
   "mimetype": "text/x-python",
   "name": "python",
   "nbconvert_exporter": "python",
   "pygments_lexer": "ipython3",
   "version": "3.12.1"
  }
 },
 "nbformat": 4,
 "nbformat_minor": 4
}
