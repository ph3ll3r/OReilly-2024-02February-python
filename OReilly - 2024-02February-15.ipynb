{
 "cells": [
  {
   "cell_type": "markdown",
   "metadata": {},
   "source": [
    "# Agenda: Day 2\n",
    "\n",
    "1. Q&A from last time\n",
    "2. Loops\n",
    "    - `for` on strings (and other iterables)\n",
    "    - `for` on numbers (with `range`)\n",
    "    - The index (or lack thereof)\n",
    "    - `while` loops\n",
    "    - Controlling our loops with `break` and `continue`\n",
    "3. Lists\n",
    "    - What are lists?\n",
    "    - Compare lists with strings\n",
    "    - Lists are mutable -- and what this means\n",
    "4. Turning strings into lists, and back\n",
    "    - `str.split`\n",
    "    - `str.join`\n",
    "5. Tuples\n",
    "    - What are tuples, and how do they fit into what we've already learned?\n",
    "    - Unpacking "
   ]
  },
  {
   "cell_type": "markdown",
   "metadata": {},
   "source": [
    "# Loops\n",
    "\n",
    "One of the most important ideas in the world of programming is the \"DRY rule,\" meaning, \"Don't repeat yourself.\" \n",
    "\n",
    "The idea is that if you have the same code running several times in a row, then you shouldn't be doing that. You should find a way to contract that code into a smaller, more elegant way of expressing it.\n",
    "\n",
    "Why?\n",
    "\n",
    "- It'll take less time to write\n",
    "- It'll take less time to read/understand/maintain\n",
    "- You avoid the potential issue of having multiple, different versions of the same code\n",
    "\n"
   ]
  },
  {
   "cell_type": "code",
   "execution_count": 1,
   "metadata": {},
   "outputs": [
    {
     "name": "stdout",
     "output_type": "stream",
     "text": [
      "a\n",
      "b\n",
      "c\n",
      "d\n"
     ]
    }
   ],
   "source": [
    "# Example: Let's print every character in a string\n",
    "\n",
    "s = 'abcd'\n",
    "\n",
    "print(s[0])\n",
    "print(s[1])\n",
    "print(s[2])\n",
    "print(s[3])"
   ]
  },
  {
   "cell_type": "code",
   "execution_count": 2,
   "metadata": {},
   "outputs": [
    {
     "name": "stdout",
     "output_type": "stream",
     "text": [
      "a\n",
      "b\n",
      "c\n",
      "d\n"
     ]
    }
   ],
   "source": [
    "# there is a better way -- a loop!\n",
    "# a loop allows us to repeat (more or less) the same command on several different objects\n",
    "# in this case, we want to repeat the same call to \"print\" on each character\n",
    "\n",
    "# Python has two kinds of loops: for and while\n",
    "\n",
    "for one_character in s:\n",
    "    print(one_character)"
   ]
  },
  {
   "cell_type": "markdown",
   "metadata": {},
   "source": [
    "# Syntax of the `for` loop\n",
    "\n",
    "- We need to write the word `for` \n",
    "- We need to indicate into what variable will each iteration (time running the loop) be assigned? This is known as the \"loop variable.\"\n",
    "- The word `in` \n",
    "- The object on which we're iterating\n",
    "- A colon at the end of the line\n",
    "- The next line(s) must be indented -- that's the loop body\n",
    "- The loop body can be as long as we want; it will run once for each iteration of the loop\n",
    "\n",
    "The loop body can contain *any* code we want:\n",
    "- Assignment\n",
    "- `print`\n",
    "- `input`\n",
    "- `if`/`else`\n",
    "- Another `for` loop (\"nested loop\")"
   ]
  },
  {
   "cell_type": "markdown",
   "metadata": {},
   "source": [
    "# What's really happening in our `for` loop?\n",
    "\n",
    "1. `for` asks the object at the end of the line: Are you iterable? Do you know how to behave in a `for` loop?\n",
    "    - If the answer is \"no,\" the loop exits right away\n",
    "2. If the object is iterable, then `for` says: Give me the next value. What comes next?\n",
    "    - If there are no more values, then the object says so, and the `for` loop ends.\n",
    "4. The object (`s`, in this case) gives `for` its next value, which is assigned to our variable (in this case, `one_character`)\n",
    "5. Once that assignment has taken place, the loop body is executed with the variable assigned.\n",
    "6. When the loop body is done, we go back to step 2.\n",
    "\n",
    "*MANY MANY MANY* people in my courses believe that we get one character at a time from `s`, because we named our variable `one_character`. This is *NOT TRUE*. We will get one character at a time from a string, no matter what we call the variable. The variable name is 100% for us to understand the program; Python couldn't care less what we call it.\n",
    "\n",
    "`one_character` is a variable (\"loop variable\" or \"iteration variable\"), and it's assigned a value once per iteration, by the `for` loop. We aren't assigning it a value directly."
   ]
  },
  {
   "cell_type": "code",
   "execution_count": 3,
   "metadata": {},
   "outputs": [
    {
     "name": "stdout",
     "output_type": "stream",
     "text": [
      "a\n",
      "b\n",
      "c\n",
      "d\n"
     ]
    }
   ],
   "source": [
    "for one_character in s:\n",
    "    print(one_character)"
   ]
  },
  {
   "cell_type": "code",
   "execution_count": 4,
   "metadata": {},
   "outputs": [
    {
     "name": "stdout",
     "output_type": "stream",
     "text": [
      "a\n",
      "b\n",
      "c\n",
      "d\n"
     ]
    }
   ],
   "source": [
    "for one_terabyte in s:\n",
    "    print(one_terabyte)"
   ]
  },
  {
   "cell_type": "code",
   "execution_count": 5,
   "metadata": {},
   "outputs": [
    {
     "name": "stdout",
     "output_type": "stream",
     "text": [
      "a\n",
      "b\n",
      "c\n",
      "d\n"
     ]
    }
   ],
   "source": [
    "for one_pizza in s:\n",
    "    print(one_pizza)"
   ]
  },
  {
   "cell_type": "code",
   "execution_count": 6,
   "metadata": {},
   "outputs": [
    {
     "name": "stdout",
     "output_type": "stream",
     "text": [
      "abcd\n"
     ]
    }
   ],
   "source": [
    "print(s)"
   ]
  },
  {
   "cell_type": "markdown",
   "metadata": {},
   "source": [
    "# Exercise: Vowels, digits, and others\n",
    "\n",
    "1. Define three variables, `vowels`, `digits`, and `others`. Assign 0 to each of them.\n",
    "2. Ask the user to enter a string.\n",
    "3. Go through the string, one character at a time:\n",
    "    - If the character is a vowel, add 1 to `vowels`.\n",
    "    - If the character is a digit, add 1 to `digits`.\n",
    "    - Otherwise, add 1 to `others`.\n",
    "4. Print the values of each of these three variables.\n",
    "\n",
    "Example:\n",
    "\n",
    "    Enter some text: hello!! 123\n",
    "    vowels: 2\n",
    "    digits: 3\n",
    "    others: 6\n",
    "\n",
    "Hints/reminders:\n",
    "- You can get input from the user with `input`\n",
    "- You can check character membership in a string with `in`\n",
    "- You can check if a string contains only digits 0-9 with the `str.isdigit` method"
   ]
  },
  {
   "cell_type": "code",
   "execution_count": 7,
   "metadata": {},
   "outputs": [
    {
     "name": "stdin",
     "output_type": "stream",
     "text": [
      "Enter some text:  hello!! 123\n"
     ]
    },
    {
     "name": "stdout",
     "output_type": "stream",
     "text": [
      "vowels = 2\n",
      "digits = 3\n",
      "others = 6\n"
     ]
    }
   ],
   "source": [
    "vowels = 0\n",
    "digits = 0\n",
    "others = 0\n",
    "\n",
    "s = input('Enter some text: ').strip()\n",
    "\n",
    "for one_character in s:\n",
    "    if one_character in 'aeiou':\n",
    "        vowels += 1    # add 1 to the vowels count\n",
    "    elif one_character.isdigit():\n",
    "        digits += 1    # add 1 to the digits count\n",
    "    else:\n",
    "        others += 1\n",
    "\n",
    "print(f'vowels = {vowels}')\n",
    "print(f'digits = {digits}')\n",
    "print(f'others = {others}')"
   ]
  },
  {
   "cell_type": "code",
   "execution_count": 8,
   "metadata": {},
   "outputs": [
    {
     "name": "stdout",
     "output_type": "stream",
     "text": [
      "Hooray!\n",
      "Hooray!\n",
      "Hooray!\n"
     ]
    }
   ],
   "source": [
    "# what if I want to repeat something a number of times?\n",
    "\n",
    "print('Hooray!')\n",
    "print('Hooray!')\n",
    "print('Hooray!')\n"
   ]
  },
  {
   "cell_type": "code",
   "execution_count": 9,
   "metadata": {},
   "outputs": [
    {
     "ename": "TypeError",
     "evalue": "'int' object is not iterable",
     "output_type": "error",
     "traceback": [
      "\u001b[1;31m---------------------------------------------------------------------------\u001b[0m",
      "\u001b[1;31mTypeError\u001b[0m                                 Traceback (most recent call last)",
      "Cell \u001b[1;32mIn[9], line 3\u001b[0m\n\u001b[0;32m      1\u001b[0m \u001b[38;5;66;03m# no no no let's \"DRY up\" this code \u001b[39;00m\n\u001b[1;32m----> 3\u001b[0m \u001b[38;5;28;43;01mfor\u001b[39;49;00m\u001b[43m \u001b[49m\u001b[43mcounter\u001b[49m\u001b[43m \u001b[49m\u001b[38;5;129;43;01min\u001b[39;49;00m\u001b[43m \u001b[49m\u001b[38;5;241;43m3\u001b[39;49m\u001b[43m:\u001b[49m\n\u001b[0;32m      4\u001b[0m \u001b[43m    \u001b[49m\u001b[38;5;28;43mprint\u001b[39;49m\u001b[43m(\u001b[49m\u001b[38;5;124;43m'\u001b[39;49m\u001b[38;5;124;43mHooray!\u001b[39;49m\u001b[38;5;124;43m'\u001b[39;49m\u001b[43m)\u001b[49m\n",
      "\u001b[1;31mTypeError\u001b[0m: 'int' object is not iterable"
     ]
    }
   ],
   "source": [
    "# no no no let's \"DRY up\" this code \n",
    "\n",
    "for counter in 3:     # for loop asked 3, an integer: Are you iterable?\n",
    "    print('Hooray!')  # sadly, the answer is \"no\""
   ]
  },
  {
   "cell_type": "code",
   "execution_count": 10,
   "metadata": {},
   "outputs": [
    {
     "name": "stdout",
     "output_type": "stream",
     "text": [
      "Hooray!\n",
      "Hooray!\n",
      "Hooray!\n"
     ]
    }
   ],
   "source": [
    "# we can iterate over a \"range\" object, which we can create by calling range(3)\n",
    "\n",
    "for counter in range(3):  # range(3) is iterable!\n",
    "    print('Hooray!')"
   ]
  },
  {
   "cell_type": "code",
   "execution_count": 11,
   "metadata": {},
   "outputs": [
    {
     "name": "stdout",
     "output_type": "stream",
     "text": [
      "0 Hooray!\n",
      "1 Hooray!\n",
      "2 Hooray!\n"
     ]
    }
   ],
   "source": [
    "# what are we getting with each iteration here?\n",
    "\n",
    "for counter in range(3):           # here, I chose to use the variable name \"counter\"\n",
    "    print(f'{counter} Hooray!')    #   I could have said \"i\" or \"j\" or \"index\" or \"elephant\""
   ]
  },
  {
   "cell_type": "markdown",
   "metadata": {},
   "source": [
    "# Using `range`\n",
    "\n",
    "When we iterate over `range`, we get the number of iterations we asked for in the argument.\n",
    "\n",
    "We start counting with 0, though. So if we say `range(5)`, we'll get 5 iterations, and the number we get will be 0, 1, 2, 3, and 4.  The maximum number will always be 1 less than what we gave to `range` as an argument."
   ]
  },
  {
   "cell_type": "markdown",
   "metadata": {},
   "source": [
    "# Exercise: Sum numbers\n",
    "\n",
    "1. Define a variable, `total`, and set it to 0.\n",
    "2. Ask the user, how many numbers they're going to enter. Assign that to `count`.\n",
    "3. Using `for` and `range`, ask the user to enter `count` integers.\n",
    "    - Get their input with `input`\n",
    "    - Turn it into an integer with `int`\n",
    "    - (If you want, check that it contains only digits, and can be turned into an `int`, with `isdigit`\n",
    "4. Print the total.\n",
    "\n",
    "Example:\n",
    "\n",
    "    How many numbers? 4\n",
    "    Enter number 0: 10\n",
    "    Enter number 1: 20\n",
    "    Enter number 2: 30\n",
    "    Enter number 3: hello\n",
    "        hello is not a number\n",
    "    Total is 60"
   ]
  },
  {
   "cell_type": "code",
   "execution_count": 12,
   "metadata": {},
   "outputs": [
    {
     "data": {
      "text/plain": [
       "True"
      ]
     },
     "execution_count": 12,
     "metadata": {},
     "output_type": "execute_result"
    }
   ],
   "source": [
    "s = '1'   # this is a string containing a single character, the digit 1  -- it's not an integer!\n",
    "\n",
    "s.isdigit()   "
   ]
  },
  {
   "cell_type": "code",
   "execution_count": 13,
   "metadata": {},
   "outputs": [
    {
     "ename": "TypeError",
     "evalue": "can only concatenate str (not \"int\") to str",
     "output_type": "error",
     "traceback": [
      "\u001b[1;31m---------------------------------------------------------------------------\u001b[0m",
      "\u001b[1;31mTypeError\u001b[0m                                 Traceback (most recent call last)",
      "Cell \u001b[1;32mIn[13], line 1\u001b[0m\n\u001b[1;32m----> 1\u001b[0m \u001b[43ms\u001b[49m\u001b[43m \u001b[49m\u001b[38;5;241;43m+\u001b[39;49m\u001b[38;5;241;43m=\u001b[39;49m\u001b[43m \u001b[49m\u001b[38;5;241;43m1\u001b[39;49m   \u001b[38;5;66;03m# this means: add the integer 1 to the string '1' ... which won't work!\u001b[39;00m\n",
      "\u001b[1;31mTypeError\u001b[0m: can only concatenate str (not \"int\") to str"
     ]
    }
   ],
   "source": [
    "s += 1   # this means: add the integer 1 to the string '1' ... which won't work!"
   ]
  },
  {
   "cell_type": "code",
   "execution_count": 14,
   "metadata": {},
   "outputs": [
    {
     "data": {
      "text/plain": [
       "2"
      ]
     },
     "execution_count": 14,
     "metadata": {},
     "output_type": "execute_result"
    }
   ],
   "source": [
    "# if a string returns True for isdigit, then we know we can turn it into an integer with int()\n",
    "\n",
    "int(s) + 1    # now we're adding an integer to an integer..."
   ]
  },
  {
   "cell_type": "code",
   "execution_count": 18,
   "metadata": {
    "scrolled": true
   },
   "outputs": [
    {
     "name": "stdin",
     "output_type": "stream",
     "text": [
      "How many numbers?  4\n",
      "[0] Enter number:  2\n",
      "[1] Enter number:  4\n",
      "[2] Enter number:  hello\n"
     ]
    },
    {
     "name": "stdout",
     "output_type": "stream",
     "text": [
      "\thello is not numeric; ignoring\n"
     ]
    },
    {
     "name": "stdin",
     "output_type": "stream",
     "text": [
      "[3] Enter number:  6\n"
     ]
    },
    {
     "name": "stdout",
     "output_type": "stream",
     "text": [
      "total = 12\n"
     ]
    }
   ],
   "source": [
    "total = 0\n",
    "\n",
    "s = input('How many numbers? ').strip()  # this is a string, because input returns strings!\n",
    "count = int(s)    # get an integer based on s, and assign to count\n",
    "\n",
    "for index in range(count):\n",
    "    user_input = input(f'[{index}] Enter number: ').strip()     # get the number from the user\n",
    "\n",
    "    if user_input.isdigit():\n",
    "        total += int(user_input)                                    # turn it into an int, and add to total\n",
    "    else:\n",
    "        print(f'\\t{user_input} is not numeric; ignoring')\n",
    "\n",
    "print(f'total = {total}')"
   ]
  },
  {
   "cell_type": "code",
   "execution_count": 20,
   "metadata": {},
   "outputs": [
    {
     "name": "stdin",
     "output_type": "stream",
     "text": [
      "How many numbers?  2\n",
      "[0] Enter number:  5\n",
      "[1] Enter number:  hello\n"
     ]
    },
    {
     "name": "stdout",
     "output_type": "stream",
     "text": [
      "\thello is not numeric; ignoring\n",
      "total = 5\n"
     ]
    }
   ],
   "source": [
    "# what happens if the user gives a non-integer to the inputs in the above exercise?\n",
    "\n",
    "total = 0\n",
    "\n",
    "s = input('How many numbers? ').strip()  # this is a string, because input returns strings!\n",
    "if s.isdigit():\n",
    "    count = int(s)    # get an integer based on s, and assign to count\n",
    "    \n",
    "    for index in range(count):\n",
    "        user_input = input(f'[{index}] Enter number: ').strip()     # get the number from the user\n",
    "    \n",
    "        if user_input.isdigit():\n",
    "            total += int(user_input)                                    # turn it into an int, and add to total\n",
    "        else:\n",
    "            print(f'\\t{user_input} is not numeric; ignoring')\n",
    "    \n",
    "    print(f'total = {total}')\n",
    "else:\n",
    "    print(f'{s} is not numeric; ending now!')"
   ]
  },
  {
   "cell_type": "code",
   "execution_count": null,
   "metadata": {},
   "outputs": [],
   "source": []
  },
  {
   "cell_type": "markdown",
   "metadata": {},
   "source": [
    "# Next up\n",
    "\n",
    "1. Index (or lack thereof)\n",
    "2. Loop controls"
   ]
  },
  {
   "cell_type": "markdown",
   "metadata": {},
   "source": [
    "If you come from another programming language (e.g., C or Java), then you're used to `for` loops that look a bit different: In those languages, you start your variable with 0, and then slowly but surely increment to a maximum number. You use that variable to retrieve values from a string, array, etc.\n",
    "\n",
    "The fact that Python doesn't have an index when we run a `for` loop seems really strange to such people.\n",
    "\n",
    "Think of it this way:\n",
    "\n",
    "- In C, we need to use the index in order to retrieve from a string. The string isn't smart enough to give us its characters, one at a time. So to make up for it, our loop needs to be smarter.\n",
    "- In Python, the string is pretty smart, and knows how to behave. So our loop can be simpler/dumber, doing very little other than just asking the string to give us its successive characters.\n",
    "\n",
    "But... there are times when we might want an index, if only to display characters with their indexes."
   ]
  },
  {
   "cell_type": "code",
   "execution_count": 22,
   "metadata": {},
   "outputs": [
    {
     "name": "stdout",
     "output_type": "stream",
     "text": [
      "0: a\n",
      "1: b\n",
      "2: c\n",
      "3: d\n"
     ]
    }
   ],
   "source": [
    "# what if we want to print each character with its index in the string?\n",
    "# option 1: do it manually\n",
    "\n",
    "s = 'abcd'\n",
    "index = 0     # here, we're just setting a variable\n",
    "\n",
    "for one_character in s:\n",
    "    print(f'{index}: {one_character}')\n",
    "\n",
    "    # each iteration is from the next character\n",
    "    index += 1     # this adds 1 to index"
   ]
  },
  {
   "cell_type": "code",
   "execution_count": 26,
   "metadata": {},
   "outputs": [
    {
     "name": "stdout",
     "output_type": "stream",
     "text": [
      "0: a\n",
      "1: b\n",
      "2: c\n",
      "3: d\n"
     ]
    }
   ],
   "source": [
    "# option 2: Use enumerate\n",
    "# the syntax looks weird -- we'll get to it later today\n",
    "\n",
    "# the enumerate function is something you run on an iterable value\n",
    "# instead of giving one thing with each iteration (i.e., the current character),\n",
    "# enumerate returns *two* things -- the current index (which it calculates) and \n",
    "# the current character\n",
    "\n",
    "# enumerate returns two values: First the index, then the original one\n",
    "# this is considered \"Pythonic\" -- meaning, idiomatic in the Python community\n",
    "\n",
    "s = 'abcd'\n",
    "for index, one_character in enumerate(s):\n",
    "    print(f'{index}: {one_character}')"
   ]
  },
  {
   "cell_type": "code",
   "execution_count": 25,
   "metadata": {},
   "outputs": [
    {
     "name": "stdout",
     "output_type": "stream",
     "text": [
      "0: a\n",
      "1: b\n",
      "2: c\n",
      "3: d\n"
     ]
    }
   ],
   "source": [
    "# this is a total, crazy exaggeration ... and yet, it works\n",
    "\n",
    "s = 'abcd'\n",
    "for book, tissue in enumerate(s):\n",
    "    print(f'{book}: {tissue}')"
   ]
  },
  {
   "cell_type": "markdown",
   "metadata": {},
   "source": [
    "# Exercise: Powers of 10\n",
    "\n",
    "As you might know, numbers in the decimal system are built out of powers of 10.  If I have the number `1234`, we could restate that as:\n",
    "\n",
    "    (1 * 10**3) + (2 * 10**2) + (3 * 10**1) + (4 * 10**0)\n",
    "\n",
    "1. Ask the user to enter a number.\n",
    "2. Print the number in the above expanded format, showing the digit, times the power of 10 we want\n",
    "3. (It's OK to print the output on separate lines.)\n",
    "\n",
    "Remember:\n",
    "- You can get the length of a string with `len`\n",
    "- Don't forget to convert strings into integers if you want to calculate with them -- but if you're just showing the characters, then you don't really need to make that conversion."
   ]
  },
  {
   "cell_type": "code",
   "execution_count": 30,
   "metadata": {},
   "outputs": [
    {
     "name": "stdin",
     "output_type": "stream",
     "text": [
      "Enter a number:  1234\n"
     ]
    },
    {
     "name": "stdout",
     "output_type": "stream",
     "text": [
      "1 * 10**3\n",
      "2 * 10**2\n",
      "3 * 10**1\n",
      "4 * 10**0\n"
     ]
    }
   ],
   "source": [
    "s = input('Enter a number: ').strip()\n",
    "\n",
    "for index, one_digit in enumerate(s):\n",
    "    print(f'{one_digit} * 10**{len(s) - index - 1}')"
   ]
  },
  {
   "cell_type": "code",
   "execution_count": 34,
   "metadata": {},
   "outputs": [
    {
     "name": "stdout",
     "output_type": "stream",
     "text": [
      "1 * 10** 3\n",
      "2 * 10** 2\n",
      "3 * 10** 1\n",
      "4 * 10** 0\n"
     ]
    }
   ],
   "source": [
    "# AB\n",
    "\n",
    "number = '1234'\n",
    "\n",
    "for index, chiffre in enumerate(number):\n",
    "    x = len(number) - index - 1\n",
    "    print(f\"{chiffre} * 10** {x}\")\n",
    "    index+=1"
   ]
  },
  {
   "cell_type": "code",
   "execution_count": 37,
   "metadata": {},
   "outputs": [
    {
     "name": "stdin",
     "output_type": "stream",
     "text": [
      "Enter a number:  1234\n"
     ]
    },
    {
     "name": "stdout",
     "output_type": "stream",
     "text": [
      "(1 * 10**3) (2 * 10**2) (3 * 10**1) (4 * 10**0) \n"
     ]
    }
   ],
   "source": [
    "# print everything on one line\n",
    "# cheap method (better method, with join, will come later)\n",
    "\n",
    "output = ''\n",
    "s = input('Enter a number: ').strip()\n",
    "\n",
    "for index, one_digit in enumerate(s):\n",
    "    output += f'({one_digit} * 10**{len(s) - index - 1}) '\n",
    "\n",
    "print(output)"
   ]
  },
  {
   "cell_type": "markdown",
   "metadata": {},
   "source": [
    "# Why is `len` a function, and not a method?\n",
    "\n",
    "People always think that given a string `s`, they can get the length with `s.len()`. But this *DOES NOT WORK*, because there is no such method. Rather, `len` is a function, which you call as `len(s)`.\n",
    "\n",
    "Why? There's no truly great reason."
   ]
  },
  {
   "cell_type": "markdown",
   "metadata": {},
   "source": [
    "# Controlling our loops\n",
    "\n",
    "Normally, a `for` loop runs until the end. What if you want to stop it prematurely?\n",
    "\n",
    "- Sometimes, you want to stop the entire loop -- exit the loop, right away. This can be done with `break`.\n",
    "- Sometimes, you want to stop the current iteration, and move onto the next one. This can be done with `continue`."
   ]
  },
  {
   "cell_type": "code",
   "execution_count": 39,
   "metadata": {},
   "outputs": [
    {
     "name": "stdout",
     "output_type": "stream",
     "text": [
      "a\n",
      "b\n",
      "d\n"
     ]
    }
   ],
   "source": [
    "# continue is often used to identify a value that we don't want/need/care about, and\n",
    "# to move onto the next iteration of our for loop\n",
    "\n",
    "s = 'abcd'\n",
    "look_for = 'c'\n",
    "\n",
    "for one_character in s:\n",
    "    if one_character == look_for:\n",
    "        continue     # this means: finish the current iteration, and go onto the next one\n",
    "\n",
    "    print(one_character)"
   ]
  },
  {
   "cell_type": "code",
   "execution_count": 41,
   "metadata": {},
   "outputs": [
    {
     "name": "stdout",
     "output_type": "stream",
     "text": [
      "a\n",
      "b\n",
      "Done.\n"
     ]
    }
   ],
   "source": [
    "# by contrast, break means: We have reached the end, and there's no need to continue\n",
    "# iterating past this point.\n",
    "\n",
    "s = 'abcd'\n",
    "look_for = 'c'\n",
    "\n",
    "for one_character in s:\n",
    "    if one_character == look_for:\n",
    "        break\n",
    "\n",
    "    print(one_character)\n",
    "\n",
    "print('Done.')"
   ]
  },
  {
   "cell_type": "markdown",
   "metadata": {},
   "source": [
    "# `while` loops\n",
    "\n",
    "`for` loops execute once for each element in the object over which we're iterating. They're perfect when we know how many iterations we want.\n",
    "\n",
    "But what if we don't know how many iterations we want? What if we know the situation when we'll want to stop, but we can't articulate when that'll be?\n",
    "\n",
    "- We're waiting for a particular type of input from the user\n",
    "- We're waiting to reach a certain goal\n",
    "\n",
    "A `while` loop is like an `if` statement -- it has a condition, and if the condition is `True`, it executes the block. The difference is that an `if` statement runs once. A `while` loop will keep running so long as its condition is `True`.\n",
    "\n",
    "This means that if you say\n",
    "\n",
    "    while True:\n",
    "\n",
    "You now have an infinite loop! Make sure that you have a `break` in your loop body that can be reached so that you don't end up with such a loop.    "
   ]
  },
  {
   "cell_type": "code",
   "execution_count": 42,
   "metadata": {},
   "outputs": [
    {
     "name": "stdout",
     "output_type": "stream",
     "text": [
      "Before\n",
      "5\n",
      "4\n",
      "3\n",
      "2\n",
      "1\n",
      "After\n"
     ]
    }
   ],
   "source": [
    "x = 5\n",
    "\n",
    "print('Before')\n",
    "while x > 0:\n",
    "    print(x)\n",
    "    x -= 1    # this means: x = x - 1\n",
    "print('After')\n"
   ]
  },
  {
   "cell_type": "code",
   "execution_count": 43,
   "metadata": {},
   "outputs": [
    {
     "name": "stdin",
     "output_type": "stream",
     "text": [
      "Enter your name:  Reuven\n"
     ]
    },
    {
     "name": "stdout",
     "output_type": "stream",
     "text": [
      "Hello, Reuven!\n"
     ]
    },
    {
     "name": "stdin",
     "output_type": "stream",
     "text": [
      "Enter your name:  world\n"
     ]
    },
    {
     "name": "stdout",
     "output_type": "stream",
     "text": [
      "Hello, world!\n"
     ]
    },
    {
     "name": "stdin",
     "output_type": "stream",
     "text": [
      "Enter your name:  out there\n"
     ]
    },
    {
     "name": "stdout",
     "output_type": "stream",
     "text": [
      "Hello, out there!\n"
     ]
    },
    {
     "name": "stdin",
     "output_type": "stream",
     "text": [
      "Enter your name:  \n"
     ]
    }
   ],
   "source": [
    "# we can combine while loops and break\n",
    "\n",
    "while True:   # yes, I'm courting danger!\n",
    "    name = input('Enter your name: ').strip()\n",
    "\n",
    "    if name == '':    # empty string?\n",
    "        break         # exit!\n",
    "\n",
    "    print(f'Hello, {name}!')"
   ]
  },
  {
   "cell_type": "markdown",
   "metadata": {},
   "source": [
    "# Exercise: Sum to 100\n",
    "\n",
    "1. Set `total` to be 0.\n",
    "2. Ask the user, repeatedly, to enter a number.\n",
    "    - If it's not digits, then scold the user.\n",
    "3. Turn the user's input into an `int` and add to `total`.\n",
    "4. When `total` is 100 or greater, exit from the loop. This can be the condition in your `while`, or it can be inside of the loop body, with `break`.\n",
    "\n",
    "Example:\n",
    "\n",
    "    Enter a number: 50\n",
    "    total is 50\n",
    "    Enter a number: 20\n",
    "    total is 70\n",
    "    Enter a number: 40\n",
    "    total is 110"
   ]
  },
  {
   "cell_type": "code",
   "execution_count": 44,
   "metadata": {},
   "outputs": [
    {
     "name": "stdin",
     "output_type": "stream",
     "text": [
      "Enter a number:  20\n"
     ]
    },
    {
     "name": "stdout",
     "output_type": "stream",
     "text": [
      "total is 20\n"
     ]
    },
    {
     "name": "stdin",
     "output_type": "stream",
     "text": [
      "Enter a number:  30\n"
     ]
    },
    {
     "name": "stdout",
     "output_type": "stream",
     "text": [
      "total is 50\n"
     ]
    },
    {
     "name": "stdin",
     "output_type": "stream",
     "text": [
      "Enter a number:  50\n"
     ]
    },
    {
     "name": "stdout",
     "output_type": "stream",
     "text": [
      "total is 100\n"
     ]
    }
   ],
   "source": [
    "# my preferred way\n",
    "\n",
    "total = 0\n",
    "\n",
    "while total < 100:\n",
    "    s = input('Enter a number: ').strip()\n",
    "\n",
    "    if s.isdigit():\n",
    "        total += int(s)\n",
    "        print(f'total is {total}')\n",
    "    else:\n",
    "        print(f'{s} is not numeric')   "
   ]
  },
  {
   "cell_type": "code",
   "execution_count": null,
   "metadata": {},
   "outputs": [],
   "source": [
    "# my preferred way\n",
    "\n",
    "total = 0\n",
    "\n",
    "while True:\n",
    "    s = input('Enter a number: ').strip()\n",
    "\n",
    "    if s.isdigit():\n",
    "        total += int(s)\n",
    "        print(f'total is {total}')\n",
    "\n",
    "        if total >= 100:\n",
    "            break\n",
    "    else:\n",
    "        print(f'{s} is not numeric')\n",
    "\n",
    "\n",
    "    "
   ]
  },
  {
   "cell_type": "code",
   "execution_count": 45,
   "metadata": {},
   "outputs": [
    {
     "name": "stdin",
     "output_type": "stream",
     "text": [
      "enter a number please 2\n"
     ]
    },
    {
     "ename": "NameError",
     "evalue": "name 'j' is not defined",
     "output_type": "error",
     "traceback": [
      "\u001b[1;31m---------------------------------------------------------------------------\u001b[0m",
      "\u001b[1;31mNameError\u001b[0m                                 Traceback (most recent call last)",
      "Cell \u001b[1;32mIn[45], line 5\u001b[0m\n\u001b[0;32m      3\u001b[0m \u001b[38;5;28;01mfor\u001b[39;00m i \u001b[38;5;129;01min\u001b[39;00m \u001b[38;5;28mrange\u001b[39m(\u001b[38;5;241m100\u001b[39m):\n\u001b[0;32m      4\u001b[0m  inp \u001b[38;5;241m=\u001b[39m \u001b[38;5;28minput\u001b[39m(\u001b[38;5;124m'\u001b[39m\u001b[38;5;124menter a number please\u001b[39m\u001b[38;5;124m'\u001b[39m)\n\u001b[1;32m----> 5\u001b[0m  \u001b[38;5;28;01mif\u001b[39;00m \u001b[43mj\u001b[49m \u001b[38;5;129;01min\u001b[39;00m inp:\n\u001b[0;32m      6\u001b[0m   \u001b[38;5;28;01mif\u001b[39;00m j \u001b[38;5;129;01min\u001b[39;00m \u001b[38;5;241m0\u001b[39m\u001b[38;5;241m-\u001b[39m\u001b[38;5;241m9\u001b[39m:\n\u001b[0;32m      7\u001b[0m     \u001b[38;5;28;01mbreak\u001b[39;00m\n",
      "\u001b[1;31mNameError\u001b[0m: name 'j' is not defined"
     ]
    }
   ],
   "source": [
    "# MG \n",
    "total = 0\n",
    "for i in range(100):\n",
    " inp = input('enter a number please')\n",
    " for j in inp:\n",
    "  if j in 0-9:\n",
    "    break\n",
    "\n",
    "print(f'thanks')"
   ]
  },
  {
   "cell_type": "markdown",
   "metadata": {},
   "source": [
    "# Next up\n",
    "\n",
    "1. Lists\n",
    "    - Creating\n",
    "    - Retrieving\n",
    "    - Iterating\n",
    "    - Mutable data\n",
    "2. Turning lists to strings with `str.join`\n",
    "3. Turning strings into lists with `str.split`\n",
    "4. Tuples"
   ]
  },
  {
   "cell_type": "markdown",
   "metadata": {},
   "source": [
    "# Lists\n",
    "\n",
    "Strings are \"containers.\" They contain individual characters. Sometimes, we want a more generic container that can contain anything.\n",
    "\n",
    "That's what lists are for. They can contain absolutely any Python values we want.  They're very similar to what other languges would call \"arrays,\" but we use the term \"list\" because technically speaking, arrays are different.\n",
    "\n",
    "To create a list, we use `[]`, with commas between the elements. \n",
    "\n",
    "In theory, you can put any values you want in a list. Traditionally, though, we only create lists where all values are of the same type: List of strings, list of integers, list of floats, list of lists.\n",
    "\n"
   ]
  },
  {
   "cell_type": "code",
   "execution_count": 46,
   "metadata": {},
   "outputs": [
    {
     "data": {
      "text/plain": [
       "list"
      ]
     },
     "execution_count": 46,
     "metadata": {},
     "output_type": "execute_result"
    }
   ],
   "source": [
    "mylist = [10, 20, 30, 40, 50]\n",
    "\n",
    "type(mylist)   # what kind of value is this?"
   ]
  },
  {
   "cell_type": "code",
   "execution_count": 47,
   "metadata": {},
   "outputs": [
    {
     "data": {
      "text/plain": [
       "0"
      ]
     },
     "execution_count": 47,
     "metadata": {},
     "output_type": "execute_result"
    }
   ],
   "source": [
    "mylist = []   # this is the empty list\n",
    "len(mylist)   "
   ]
  },
  {
   "cell_type": "code",
   "execution_count": 48,
   "metadata": {},
   "outputs": [
    {
     "data": {
      "text/plain": [
       "5"
      ]
     },
     "execution_count": 48,
     "metadata": {},
     "output_type": "execute_result"
    }
   ],
   "source": [
    "mylist = [10, 20, 30, 40, 50]\n",
    "len(mylist)"
   ]
  },
  {
   "cell_type": "code",
   "execution_count": 49,
   "metadata": {},
   "outputs": [
    {
     "data": {
      "text/plain": [
       "10"
      ]
     },
     "execution_count": 49,
     "metadata": {},
     "output_type": "execute_result"
    }
   ],
   "source": [
    "mylist[0] "
   ]
  },
  {
   "cell_type": "code",
   "execution_count": 50,
   "metadata": {},
   "outputs": [
    {
     "data": {
      "text/plain": [
       "20"
      ]
     },
     "execution_count": 50,
     "metadata": {},
     "output_type": "execute_result"
    }
   ],
   "source": [
    "mylist[1]"
   ]
  },
  {
   "cell_type": "code",
   "execution_count": 51,
   "metadata": {},
   "outputs": [
    {
     "data": {
      "text/plain": [
       "50"
      ]
     },
     "execution_count": 51,
     "metadata": {},
     "output_type": "execute_result"
    }
   ],
   "source": [
    "mylist[-1]"
   ]
  },
  {
   "cell_type": "code",
   "execution_count": 53,
   "metadata": {},
   "outputs": [
    {
     "data": {
      "text/plain": [
       "[20, 30, 40]"
      ]
     },
     "execution_count": 53,
     "metadata": {},
     "output_type": "execute_result"
    }
   ],
   "source": [
    "# get a slice\n",
    "mylist[1:4]"
   ]
  },
  {
   "cell_type": "code",
   "execution_count": 54,
   "metadata": {},
   "outputs": [
    {
     "data": {
      "text/plain": [
       "True"
      ]
     },
     "execution_count": 54,
     "metadata": {},
     "output_type": "execute_result"
    }
   ],
   "source": [
    "# search in a list\n",
    "30 in mylist"
   ]
  },
  {
   "cell_type": "code",
   "execution_count": 55,
   "metadata": {},
   "outputs": [
    {
     "data": {
      "text/plain": [
       "False"
      ]
     },
     "execution_count": 55,
     "metadata": {},
     "output_type": "execute_result"
    }
   ],
   "source": [
    "100 in mylist"
   ]
  },
  {
   "cell_type": "code",
   "execution_count": 56,
   "metadata": {},
   "outputs": [
    {
     "name": "stdout",
     "output_type": "stream",
     "text": [
      "10\n",
      "20\n",
      "30\n",
      "40\n",
      "50\n"
     ]
    }
   ],
   "source": [
    "# iterate over a list\n",
    "\n",
    "for one_item in mylist:\n",
    "    print(one_item)"
   ]
  },
  {
   "cell_type": "code",
   "execution_count": 57,
   "metadata": {},
   "outputs": [
    {
     "data": {
      "text/plain": [
       "3"
      ]
     },
     "execution_count": 57,
     "metadata": {},
     "output_type": "execute_result"
    }
   ],
   "source": [
    "mylist = [10, 20, 30]\n",
    "biglist = [mylist, mylist, mylist]\n",
    "\n",
    "len(biglist)   # how many elements?"
   ]
  },
  {
   "cell_type": "code",
   "execution_count": 58,
   "metadata": {},
   "outputs": [
    {
     "data": {
      "text/plain": [
       "[[10, 20, 30], [10, 20, 30], [10, 20, 30]]"
      ]
     },
     "execution_count": 58,
     "metadata": {},
     "output_type": "execute_result"
    }
   ],
   "source": [
    "biglist"
   ]
  },
  {
   "cell_type": "code",
   "execution_count": 59,
   "metadata": {},
   "outputs": [
    {
     "ename": "TypeError",
     "evalue": "'str' object does not support item assignment",
     "output_type": "error",
     "traceback": [
      "\u001b[1;31m---------------------------------------------------------------------------\u001b[0m",
      "\u001b[1;31mTypeError\u001b[0m                                 Traceback (most recent call last)",
      "Cell \u001b[1;32mIn[59], line 3\u001b[0m\n\u001b[0;32m      1\u001b[0m \u001b[38;5;66;03m# you might remember that we cannot change strings, because they are immutable\u001b[39;00m\n\u001b[0;32m      2\u001b[0m s \u001b[38;5;241m=\u001b[39m \u001b[38;5;124m'\u001b[39m\u001b[38;5;124mabcd\u001b[39m\u001b[38;5;124m'\u001b[39m\n\u001b[1;32m----> 3\u001b[0m \u001b[43ms\u001b[49m\u001b[43m[\u001b[49m\u001b[38;5;241;43m0\u001b[39;49m\u001b[43m]\u001b[49m \u001b[38;5;241m=\u001b[39m \u001b[38;5;124m'\u001b[39m\u001b[38;5;124m!\u001b[39m\u001b[38;5;124m'\u001b[39m    \u001b[38;5;66;03m# we cannot do this!\u001b[39;00m\n",
      "\u001b[1;31mTypeError\u001b[0m: 'str' object does not support item assignment"
     ]
    }
   ],
   "source": [
    "# you might remember that we cannot change strings, because they are immutable\n",
    "s = 'abcd'\n",
    "s[0] = '!'    # we cannot do this!"
   ]
  },
  {
   "cell_type": "code",
   "execution_count": 60,
   "metadata": {},
   "outputs": [
    {
     "data": {
      "text/plain": [
       "['!', 20, 30]"
      ]
     },
     "execution_count": 60,
     "metadata": {},
     "output_type": "execute_result"
    }
   ],
   "source": [
    "# but... lists are mutable! We can change them!\n",
    "\n",
    "mylist[0] = '!'\n",
    "mylist"
   ]
  },
  {
   "cell_type": "code",
   "execution_count": 61,
   "metadata": {},
   "outputs": [
    {
     "data": {
      "text/plain": [
       "[['!', 20, 30], ['!', 20, 30], ['!', 20, 30]]"
      ]
     },
     "execution_count": 61,
     "metadata": {},
     "output_type": "execute_result"
    }
   ],
   "source": [
    "biglist"
   ]
  },
  {
   "cell_type": "markdown",
   "metadata": {},
   "source": [
    "# How can we change lists?\n",
    "\n",
    "1. We can assign to a particular element, using the index\n",
    "\n",
    "    mylist[0] = 'hello'\n",
    "\n",
    "2. We can add one element to the end of the list, using `list.append`\n",
    "\n",
    "    mylist = [10, 20, 30]\n",
    "    mylist.append(40)\n",
    "    print(mylist)   # [10, 20, 30, 40]\n",
    "\n",
    "3. We can add multiple values to the end of a list with `+=`\n",
    "\n",
    "    mylist = [10, 20, 30]\n",
    "    mylist += [40, 50, 60]    # += will iterate over the thing to its right, appending each to mylist\n",
    "    print(mylist)  # [10, 20, 30, 40, 50, 60]\n",
    "\n",
    "4. We can remove the final element with `list.pop`:\n",
    "\n",
    "    mylist = [10, 20, 30]\n",
    "    mylist.pop()\n",
    "    print(mylist)   # [10, 20]"
   ]
  },
  {
   "cell_type": "code",
   "execution_count": 62,
   "metadata": {},
   "outputs": [
    {
     "data": {
      "text/plain": [
       "[10, 20, 30, 40]"
      ]
     },
     "execution_count": 62,
     "metadata": {},
     "output_type": "execute_result"
    }
   ],
   "source": [
    "mylist = [10, 20, 30]\n",
    "mylist.append(40)\n",
    "mylist"
   ]
  },
  {
   "cell_type": "code",
   "execution_count": 63,
   "metadata": {},
   "outputs": [
    {
     "data": {
      "text/plain": [
       "[10, 20, 30, 40, 'abcd']"
      ]
     },
     "execution_count": 63,
     "metadata": {},
     "output_type": "execute_result"
    }
   ],
   "source": [
    "mylist.append('abcd')\n",
    "mylist"
   ]
  },
  {
   "cell_type": "code",
   "execution_count": 64,
   "metadata": {},
   "outputs": [
    {
     "data": {
      "text/plain": [
       "[10, 20, 30, 40, 'abcd', 50, 60, 70]"
      ]
     },
     "execution_count": 64,
     "metadata": {},
     "output_type": "execute_result"
    }
   ],
   "source": [
    "mylist += [50, 60, 70]   # we'll run a for loop on [50, 60, 70], appending each element to mylist\n",
    "mylist"
   ]
  },
  {
   "cell_type": "code",
   "execution_count": 65,
   "metadata": {},
   "outputs": [
    {
     "ename": "TypeError",
     "evalue": "'int' object is not iterable",
     "output_type": "error",
     "traceback": [
      "\u001b[1;31m---------------------------------------------------------------------------\u001b[0m",
      "\u001b[1;31mTypeError\u001b[0m                                 Traceback (most recent call last)",
      "Cell \u001b[1;32mIn[65], line 3\u001b[0m\n\u001b[0;32m      1\u001b[0m \u001b[38;5;66;03m# what if I try to use += with a number?\u001b[39;00m\n\u001b[1;32m----> 3\u001b[0m \u001b[43mmylist\u001b[49m\u001b[43m \u001b[49m\u001b[38;5;241;43m+\u001b[39;49m\u001b[38;5;241;43m=\u001b[39;49m\u001b[43m \u001b[49m\u001b[38;5;241;43m80\u001b[39;49m   \u001b[38;5;66;03m# this won't work! Because you cannot run a for loop on 80\u001b[39;00m\n",
      "\u001b[1;31mTypeError\u001b[0m: 'int' object is not iterable"
     ]
    }
   ],
   "source": [
    "# what if I try to use += with a number?\n",
    "\n",
    "mylist += 80   # this won't work! Because you cannot run a for loop on 80"
   ]
  },
  {
   "cell_type": "code",
   "execution_count": 66,
   "metadata": {},
   "outputs": [
    {
     "data": {
      "text/plain": [
       "[10, 20, 30, 40, 'abcd', 50, 60, 70, 'a', 'b', 'c', 'd']"
      ]
     },
     "execution_count": 66,
     "metadata": {},
     "output_type": "execute_result"
    }
   ],
   "source": [
    "mylist += 'abcd'   # what happens here?\n",
    "mylist"
   ]
  },
  {
   "cell_type": "code",
   "execution_count": 67,
   "metadata": {},
   "outputs": [
    {
     "data": {
      "text/plain": [
       "'d'"
      ]
     },
     "execution_count": 67,
     "metadata": {},
     "output_type": "execute_result"
    }
   ],
   "source": [
    "mylist.pop()"
   ]
  },
  {
   "cell_type": "code",
   "execution_count": 68,
   "metadata": {},
   "outputs": [
    {
     "data": {
      "text/plain": [
       "[10, 20, 30, 40, 'abcd', 50, 60, 70, 'a', 'b', 'c']"
      ]
     },
     "execution_count": 68,
     "metadata": {},
     "output_type": "execute_result"
    }
   ],
   "source": [
    "mylist"
   ]
  },
  {
   "cell_type": "markdown",
   "metadata": {},
   "source": [
    "It's pretty common to start with an empty list at the top of a program, and then go through inputs of various sorts (from the user or a file) and then categorizing the values we got, and putting them on different lists.\n"
   ]
  },
  {
   "cell_type": "markdown",
   "metadata": {},
   "source": [
    "# Exercise: Vowels, digits, and others -- list edition\n",
    "\n",
    "1. Define three empty lists, `vowels`, `digits`, and `others`.\n",
    "2. Ask the user to enter a string.\n",
    "3. Go through the string, one character at a time.\n",
    "    - If the character is a vowel, append to the end of `vowels`.\n",
    "    - If the character is a digit, append to the end of `digits`.\n",
    "    - Otherwise, append to the end of `others`.\n",
    "4. Print all three lists."
   ]
  },
  {
   "cell_type": "code",
   "execution_count": 69,
   "metadata": {},
   "outputs": [
    {
     "name": "stdin",
     "output_type": "stream",
     "text": [
      "Enter text:  hello!! 123\n"
     ]
    },
    {
     "name": "stdout",
     "output_type": "stream",
     "text": [
      "vowels = ['e', 'o']\n",
      "digits = ['1', '2', '3']\n",
      "others = ['h', 'l', 'l', '!', '!', ' ']\n"
     ]
    }
   ],
   "source": [
    "vowels = []\n",
    "digits = []\n",
    "others = []\n",
    "\n",
    "s = input('Enter text: ').strip()\n",
    "\n",
    "for one_character in s:\n",
    "    if one_character in 'aeiou':\n",
    "        vowels.append(one_character)\n",
    "    elif one_character.isdigit():\n",
    "        digits.append(one_character)\n",
    "    else:\n",
    "        others.append(one_character)\n",
    "\n",
    "print(f'vowels = {vowels}')\n",
    "print(f'digits = {digits}')\n",
    "print(f'others = {others}')"
   ]
  },
  {
   "cell_type": "code",
   "execution_count": 70,
   "metadata": {},
   "outputs": [
    {
     "data": {
      "text/plain": [
       "'10'"
      ]
     },
     "execution_count": 70,
     "metadata": {},
     "output_type": "execute_result"
    }
   ],
   "source": [
    "# given an integer, I can get a string or a float from it\n",
    "\n",
    "n = 10\n",
    "str(n)   # give me a string, based on n\n"
   ]
  },
  {
   "cell_type": "code",
   "execution_count": 71,
   "metadata": {},
   "outputs": [
    {
     "data": {
      "text/plain": [
       "10.0"
      ]
     },
     "execution_count": 71,
     "metadata": {},
     "output_type": "execute_result"
    }
   ],
   "source": [
    "float(n)  # give  me a float, based on n"
   ]
  },
  {
   "cell_type": "code",
   "execution_count": 72,
   "metadata": {},
   "outputs": [
    {
     "data": {
      "text/plain": [
       "1234"
      ]
     },
     "execution_count": 72,
     "metadata": {},
     "output_type": "execute_result"
    }
   ],
   "source": [
    "# given a string, I can get an int or float from it\n",
    "s = '1234'\n",
    "\n",
    "int(s)"
   ]
  },
  {
   "cell_type": "code",
   "execution_count": 73,
   "metadata": {},
   "outputs": [
    {
     "data": {
      "text/plain": [
       "1234.0"
      ]
     },
     "execution_count": 73,
     "metadata": {},
     "output_type": "execute_result"
    }
   ],
   "source": [
    "float(s)"
   ]
  },
  {
   "cell_type": "code",
   "execution_count": 75,
   "metadata": {},
   "outputs": [
    {
     "data": {
      "text/plain": [
       "['a', 'b', 'c', 'd']"
      ]
     },
     "execution_count": 75,
     "metadata": {},
     "output_type": "execute_result"
    }
   ],
   "source": [
    "# the general rule is: If I have data in a variable x, and I want it to be in a different type T,\n",
    "# I can run T(x) and get a new value back, based on x, of type T\n",
    "\n",
    "# what if I have a string, and I want to turn it into a list\n",
    "s = 'abcd'\n",
    "list(s)    # list runs a for loop"
   ]
  },
  {
   "cell_type": "code",
   "execution_count": 76,
   "metadata": {},
   "outputs": [
    {
     "data": {
      "text/plain": [
       "['a', 'b', 'c', 'd', ':', 'e', 'f', ':', 'g', 'h', 'i']"
      ]
     },
     "execution_count": 76,
     "metadata": {},
     "output_type": "execute_result"
    }
   ],
   "source": [
    "# what if my string looks a bit different?\n",
    "\n",
    "s = 'abcd:ef:ghi'\n",
    "\n",
    "list(s)"
   ]
  },
  {
   "cell_type": "code",
   "execution_count": 77,
   "metadata": {},
   "outputs": [
    {
     "data": {
      "text/plain": [
       "['abcd', 'ef', 'ghi']"
      ]
     },
     "execution_count": 77,
     "metadata": {},
     "output_type": "execute_result"
    }
   ],
   "source": [
    "# let's break it apart on :\n",
    "\n",
    "s.split(':')   # the split method runs on a string, and returns a new list of strings, separated by the delimiter"
   ]
  },
  {
   "cell_type": "code",
   "execution_count": 78,
   "metadata": {},
   "outputs": [
    {
     "data": {
      "text/plain": [
       "['abc', ':ef:ghi']"
      ]
     },
     "execution_count": 78,
     "metadata": {},
     "output_type": "execute_result"
    }
   ],
   "source": [
    "s.split('d')  # weird, but it works"
   ]
  },
  {
   "cell_type": "code",
   "execution_count": 79,
   "metadata": {},
   "outputs": [
    {
     "data": {
      "text/plain": [
       "['this', 'is', 'a', 'bunch', 'of', 'words', 'in', 'my', 'course']"
      ]
     },
     "execution_count": 79,
     "metadata": {},
     "output_type": "execute_result"
    }
   ],
   "source": [
    "# what if I get a bunch of words from the user?\n",
    "\n",
    "s = 'this is a bunch of words in my course'\n",
    "s.split(' ')  # use space as a delimiter, get back a list of strings (words)"
   ]
  },
  {
   "cell_type": "code",
   "execution_count": 80,
   "metadata": {},
   "outputs": [
    {
     "data": {
      "text/plain": [
       "['this',\n",
       " '',\n",
       " 'is',\n",
       " 'a',\n",
       " '',\n",
       " '',\n",
       " 'bunch',\n",
       " 'of',\n",
       " 'words',\n",
       " '',\n",
       " '',\n",
       " '',\n",
       " 'in',\n",
       " 'my',\n",
       " '',\n",
       " '',\n",
       " 'course']"
      ]
     },
     "execution_count": 80,
     "metadata": {},
     "output_type": "execute_result"
    }
   ],
   "source": [
    "# what if there are different numbers of spaces between words?\n",
    "s = 'this  is a   bunch of words    in my   course'\n",
    "\n",
    "s.split(' ')   # we get a list of strings back, based on cutting every time we see ' '\n"
   ]
  },
  {
   "cell_type": "code",
   "execution_count": 81,
   "metadata": {},
   "outputs": [
    {
     "data": {
      "text/plain": [
       "['this', 'is', 'a', 'bunch', 'of', 'words', 'in', 'my', 'course']"
      ]
     },
     "execution_count": 81,
     "metadata": {},
     "output_type": "execute_result"
    }
   ],
   "source": [
    "# Python has a solution to this: If you invoke str.split with *no* argument,\n",
    "# then it'll take any whitespace, of any length, and use it as one delimiter\n",
    "\n",
    "s.split()  # look, no argument!"
   ]
  },
  {
   "cell_type": "code",
   "execution_count": 82,
   "metadata": {},
   "outputs": [
    {
     "name": "stdin",
     "output_type": "stream",
     "text": [
      "Enter a word:  right\n"
     ]
    },
    {
     "name": "stdout",
     "output_type": "stream",
     "text": [
      "ightray\n"
     ]
    }
   ],
   "source": [
    "# you might remember, from last week, we wrote a Pig Latin translator\n",
    "\n",
    "word = input('Enter a word: ').strip()\n",
    "if word[0] in 'aeiou':\n",
    "    print(word + 'way')    # starts with a vowel? Add 'way'\n",
    "else:\n",
    "    print(word[1:] + word[0] + 'ay')  # otherwise, move first letter to the end, and add 'ay'"
   ]
  },
  {
   "cell_type": "markdown",
   "metadata": {},
   "source": [
    "# Exercise: Pig Latin sentence!\n",
    "\n",
    "Change the code from last week, such that the user can enter a *sentence* in English (all lowercase, no punctuation), and we print the translation into Pig Latin for each word.\n",
    "\n",
    "It's totally fine for each output word to be on a line by itself."
   ]
  },
  {
   "cell_type": "code",
   "execution_count": 83,
   "metadata": {},
   "outputs": [
    {
     "name": "stdin",
     "output_type": "stream",
     "text": [
      "Enter a sentence:  this is a test\n"
     ]
    },
    {
     "name": "stdout",
     "output_type": "stream",
     "text": [
      "histay\n",
      "isway\n",
      "away\n",
      "esttay\n"
     ]
    }
   ],
   "source": [
    "sentence = input('Enter a sentence: ').strip()\n",
    "\n",
    "for word in sentence.split():\n",
    "    if word[0] in 'aeiou':\n",
    "        print(word + 'way')   \n",
    "    else:\n",
    "        print(word[1:] + word[0] + 'ay') "
   ]
  },
  {
   "cell_type": "code",
   "execution_count": 84,
   "metadata": {},
   "outputs": [
    {
     "name": "stdin",
     "output_type": "stream",
     "text": [
      "Enter a sentence:  this is another test for you to see and enjoy\n"
     ]
    },
    {
     "name": "stdout",
     "output_type": "stream",
     "text": [
      "histay\n",
      "isway\n",
      "anotherway\n",
      "esttay\n",
      "orfay\n",
      "ouyay\n",
      "otay\n",
      "eesay\n",
      "andway\n",
      "enjoyway\n"
     ]
    }
   ],
   "source": [
    "# more explicit version\n",
    "\n",
    "sentence = input('Enter a sentence: ').strip()  # get input from the user\n",
    "words = sentence.split()                        # create a list from user input\n",
    "\n",
    "for word in words:        # iterate over each element of the list\n",
    "    if word[0] in 'aeiou':\n",
    "        print(word + 'way')   \n",
    "    else:\n",
    "        print(word[1:] + word[0] + 'ay') "
   ]
  },
  {
   "cell_type": "markdown",
   "metadata": {},
   "source": [
    "# `strip` vs `split`\n",
    "\n",
    "The `str.strip` method:\n",
    "- Removes whitespace (space, tab, newline, carriage return, and vertical tab) in any quantity from *outside* of the string, on its edges. It doesn't do anything with whitespace inside.\n",
    "- It returns a new string, based on the original one.\n",
    "\n",
    "The `str.split` method:\n",
    "- Always returns a new list of strings\n",
    "- The list is the result of breaking up the original string along the delimiter\n",
    "- By default, the delimiter is any whitespace (space, tab, newline, carriage return, and vertical tab) in any quantity.\n",
    "\n",
    "It's true that if you're going to run `split` with the default, then you don't really need to use `strip` first."
   ]
  },
  {
   "cell_type": "code",
   "execution_count": 85,
   "metadata": {},
   "outputs": [
    {
     "name": "stdin",
     "output_type": "stream",
     "text": [
      "Enter a sentence:  this is a test\n"
     ]
    },
    {
     "name": "stdout",
     "output_type": "stream",
     "text": [
      "histay\n",
      "isway\n",
      "away\n",
      "esttay\n"
     ]
    }
   ],
   "source": [
    "# another option\n",
    "\n",
    "words = input('Enter a sentence: ').strip().split()\n",
    "\n",
    "for word in words:        # iterate over each element of the list\n",
    "    if word[0] in 'aeiou':\n",
    "        print(word + 'way')   \n",
    "    else:\n",
    "        print(word[1:] + word[0] + 'ay') "
   ]
  },
  {
   "cell_type": "code",
   "execution_count": 87,
   "metadata": {},
   "outputs": [
    {
     "data": {
      "text/plain": [
       "['this', 'is', 'a', 'test']"
      ]
     },
     "execution_count": 87,
     "metadata": {},
     "output_type": "execute_result"
    }
   ],
   "source": [
    "words"
   ]
  },
  {
   "cell_type": "code",
   "execution_count": 88,
   "metadata": {},
   "outputs": [
    {
     "data": {
      "text/plain": [
       "'this'"
      ]
     },
     "execution_count": 88,
     "metadata": {},
     "output_type": "execute_result"
    }
   ],
   "source": [
    "words[0]"
   ]
  },
  {
   "cell_type": "code",
   "execution_count": 89,
   "metadata": {},
   "outputs": [
    {
     "data": {
      "text/plain": [
       "'h'"
      ]
     },
     "execution_count": 89,
     "metadata": {},
     "output_type": "execute_result"
    }
   ],
   "source": [
    "words[0][1]  # this means: return index 1 from words[0]"
   ]
  },
  {
   "cell_type": "markdown",
   "metadata": {},
   "source": [
    "# Next up\n",
    "\n",
    "- Joining strings together\n",
    "- Tuples\n",
    "- Unpacking"
   ]
  },
  {
   "cell_type": "code",
   "execution_count": 90,
   "metadata": {},
   "outputs": [
    {
     "data": {
      "text/plain": [
       "'abcd*ef*ghij'"
      ]
     },
     "execution_count": 90,
     "metadata": {},
     "output_type": "execute_result"
    }
   ],
   "source": [
    "# what if we have a list of strings, and we want to turn it into a new string?\n",
    "\n",
    "# that is, I have something like this:\n",
    "\n",
    "mylist = ['abcd', 'ef', 'ghij']\n",
    "\n",
    "# and I want to get back 'abcd*ef*ghij'\n",
    "\n",
    "# for this, we have the str.join method\n",
    "# we run the method on the string that we want *between* the elements (the \"glue\")\n",
    "\n",
    "'*'.join(mylist)   # this will return a new string containing the elements of mylist, glued together with '*'"
   ]
  },
  {
   "cell_type": "code",
   "execution_count": 91,
   "metadata": {},
   "outputs": [
    {
     "data": {
      "text/plain": [
       "'abcd\\nef\\nghij'"
      ]
     },
     "execution_count": 91,
     "metadata": {},
     "output_type": "execute_result"
    }
   ],
   "source": [
    "# what I can use as the glue? ANY STRING I want!\n",
    "\n",
    "'\\n'.join(mylist)"
   ]
  },
  {
   "cell_type": "code",
   "execution_count": 92,
   "metadata": {},
   "outputs": [
    {
     "name": "stdout",
     "output_type": "stream",
     "text": [
      "abcd\n",
      "ef\n",
      "ghij\n"
     ]
    }
   ],
   "source": [
    "print('\\n'.join(mylist))"
   ]
  },
  {
   "cell_type": "code",
   "execution_count": 93,
   "metadata": {},
   "outputs": [
    {
     "ename": "TypeError",
     "evalue": "sequence item 0: expected str instance, int found",
     "output_type": "error",
     "traceback": [
      "\u001b[1;31m---------------------------------------------------------------------------\u001b[0m",
      "\u001b[1;31mTypeError\u001b[0m                                 Traceback (most recent call last)",
      "Cell \u001b[1;32mIn[93], line 5\u001b[0m\n\u001b[0;32m      1\u001b[0m \u001b[38;5;66;03m# what if I have a list of integer?\u001b[39;00m\n\u001b[0;32m      3\u001b[0m mylist \u001b[38;5;241m=\u001b[39m [\u001b[38;5;241m10\u001b[39m, \u001b[38;5;241m20\u001b[39m, \u001b[38;5;241m30\u001b[39m]\n\u001b[1;32m----> 5\u001b[0m \u001b[38;5;124;43m'\u001b[39;49m\u001b[38;5;124;43m*\u001b[39;49m\u001b[38;5;124;43m'\u001b[39;49m\u001b[38;5;241;43m.\u001b[39;49m\u001b[43mjoin\u001b[49m\u001b[43m(\u001b[49m\u001b[43mmylist\u001b[49m\u001b[43m)\u001b[49m\n",
      "\u001b[1;31mTypeError\u001b[0m: sequence item 0: expected str instance, int found"
     ]
    }
   ],
   "source": [
    "# what if I have a list of integer?\n",
    "\n",
    "mylist = [10, 20, 30]\n",
    "\n",
    "'*'.join(mylist)"
   ]
  },
  {
   "cell_type": "code",
   "execution_count": 94,
   "metadata": {},
   "outputs": [
    {
     "data": {
      "text/plain": [
       "'a*b*c*d'"
      ]
     },
     "execution_count": 94,
     "metadata": {},
     "output_type": "execute_result"
    }
   ],
   "source": [
    "# it can actually be any iterable of strings\n",
    "# meaning: any data that knows how to behave in a for loop\n",
    "\n",
    "'*'.join('abcd')  "
   ]
  },
  {
   "cell_type": "code",
   "execution_count": 95,
   "metadata": {},
   "outputs": [
    {
     "data": {
      "text/plain": [
       "['this', 'is', 'a', 'bunch', 'of', 'words']"
      ]
     },
     "execution_count": 95,
     "metadata": {},
     "output_type": "execute_result"
    }
   ],
   "source": [
    "s = 'this     is a      bunch    of words'\n",
    "s.split()"
   ]
  },
  {
   "cell_type": "code",
   "execution_count": 96,
   "metadata": {},
   "outputs": [
    {
     "data": {
      "text/plain": [
       "'this is a bunch of words'"
      ]
     },
     "execution_count": 96,
     "metadata": {},
     "output_type": "execute_result"
    }
   ],
   "source": [
    "' '.join(s.split())"
   ]
  },
  {
   "cell_type": "code",
   "execution_count": 97,
   "metadata": {},
   "outputs": [
    {
     "data": {
      "text/plain": [
       "'thisisabunchofwords'"
      ]
     },
     "execution_count": 97,
     "metadata": {},
     "output_type": "execute_result"
    }
   ],
   "source": [
    "# empty string with join? squish all of the strings together\n",
    "''.join(s.split())"
   ]
  },
  {
   "cell_type": "code",
   "execution_count": 98,
   "metadata": {},
   "outputs": [
    {
     "name": "stdout",
     "output_type": "stream",
     "text": [
      "a b c\n"
     ]
    }
   ],
   "source": [
    "# it's very common, in programs, to create lists, append to them repeatedly, and then\n",
    "# (at the end) to join them together\n",
    "\n",
    "output = []\n",
    "output.append('a')\n",
    "output.append('b')\n",
    "output.append('c')\n",
    "\n",
    "print(' '.join(output))"
   ]
  },
  {
   "cell_type": "markdown",
   "metadata": {},
   "source": [
    "# Exercise: Pig Latin sentence (aesthetic edition)\n",
    "\n",
    "Modify the previous exercise, such that the output is all printed on a single line. (Hint: Use lists and join to do this.)"
   ]
  },
  {
   "cell_type": "code",
   "execution_count": 101,
   "metadata": {},
   "outputs": [
    {
     "name": "stdin",
     "output_type": "stream",
     "text": [
      "Enter a sentence:  this is a test\n"
     ]
    },
    {
     "name": "stdout",
     "output_type": "stream",
     "text": [
      "histay isway away esttay\n"
     ]
    }
   ],
   "source": [
    "output = []   # start with an empty list for output\n",
    "s = input('Enter a sentence: ').strip()\n",
    "\n",
    "for word in s.split(): \n",
    "    if word[0] in 'aeiou':\n",
    "        output.append(word + 'way')   \n",
    "    else:\n",
    "        output.append(word[1:] + word[0] + 'ay') \n",
    "\n",
    "print(' '.join(output))"
   ]
  },
  {
   "cell_type": "code",
   "execution_count": null,
   "metadata": {},
   "outputs": [],
   "source": []
  }
 ],
 "metadata": {
  "kernelspec": {
   "display_name": "Python 3 (ipykernel)",
   "language": "python",
   "name": "python3"
  },
  "language_info": {
   "codemirror_mode": {
    "name": "ipython",
    "version": 3
   },
   "file_extension": ".py",
   "mimetype": "text/x-python",
   "name": "python",
   "nbconvert_exporter": "python",
   "pygments_lexer": "ipython3",
   "version": "3.12.1"
  }
 },
 "nbformat": 4,
 "nbformat_minor": 4
}
