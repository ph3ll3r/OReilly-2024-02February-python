{
 "cells": [
  {
   "cell_type": "markdown",
   "metadata": {},
   "source": [
    "# Agenda: Day 2\n",
    "\n",
    "1. Q&A from last time\n",
    "2. Loops\n",
    "    - `for` on strings (and other iterables)\n",
    "    - `for` on numbers (with `range`)\n",
    "    - The index (or lack thereof)\n",
    "    - `while` loops\n",
    "    - Controlling our loops with `break` and `continue`\n",
    "3. Lists\n",
    "    - What are lists?\n",
    "    - Compare lists with strings\n",
    "    - Lists are mutable -- and what this means\n",
    "4. Turning strings into lists, and back\n",
    "    - `str.split`\n",
    "    - `str.join`\n",
    "5. Tuples\n",
    "    - What are tuples, and how do they fit into what we've already learned?\n",
    "    - Unpacking "
   ]
  },
  {
   "cell_type": "markdown",
   "metadata": {},
   "source": [
    "# Loops\n",
    "\n",
    "One of the most important ideas in the world of programming is the \"DRY rule,\" meaning, \"Don't repeat yourself.\" \n",
    "\n",
    "The idea is that if you have the same code running several times in a row, then you shouldn't be doing that. You should find a way to contract that code into a smaller, more elegant way of expressing it.\n",
    "\n",
    "Why?\n",
    "\n",
    "- It'll take less time to write\n",
    "- It'll take less time to read/understand/maintain\n",
    "- You avoid the potential issue of having multiple, different versions of the same code\n",
    "\n"
   ]
  },
  {
   "cell_type": "code",
   "execution_count": 1,
   "metadata": {},
   "outputs": [
    {
     "name": "stdout",
     "output_type": "stream",
     "text": [
      "a\n",
      "b\n",
      "c\n",
      "d\n"
     ]
    }
   ],
   "source": [
    "# Example: Let's print every character in a string\n",
    "\n",
    "s = 'abcd'\n",
    "\n",
    "print(s[0])\n",
    "print(s[1])\n",
    "print(s[2])\n",
    "print(s[3])"
   ]
  },
  {
   "cell_type": "code",
   "execution_count": 2,
   "metadata": {},
   "outputs": [
    {
     "name": "stdout",
     "output_type": "stream",
     "text": [
      "a\n",
      "b\n",
      "c\n",
      "d\n"
     ]
    }
   ],
   "source": [
    "# there is a better way -- a loop!\n",
    "# a loop allows us to repeat (more or less) the same command on several different objects\n",
    "# in this case, we want to repeat the same call to \"print\" on each character\n",
    "\n",
    "# Python has two kinds of loops: for and while\n",
    "\n",
    "for one_character in s:\n",
    "    print(one_character)"
   ]
  },
  {
   "cell_type": "markdown",
   "metadata": {},
   "source": [
    "# Syntax of the `for` loop\n",
    "\n",
    "- We need to write the word `for` \n",
    "- We need to indicate into what variable will each iteration (time running the loop) be assigned? This is known as the \"loop variable.\"\n",
    "- The word `in` \n",
    "- The object on which we're iterating\n",
    "- A colon at the end of the line\n",
    "- The next line(s) must be indented -- that's the loop body\n",
    "- The loop body can be as long as we want; it will run once for each iteration of the loop\n",
    "\n",
    "The loop body can contain *any* code we want:\n",
    "- Assignment\n",
    "- `print`\n",
    "- `input`\n",
    "- `if`/`else`\n",
    "- Another `for` loop (\"nested loop\")"
   ]
  },
  {
   "cell_type": "markdown",
   "metadata": {},
   "source": [
    "# What's really happening in our `for` loop?\n",
    "\n",
    "1. `for` asks the object at the end of the line: Are you iterable? Do you know how to behave in a `for` loop?\n",
    "    - If the answer is \"no,\" the loop exits right away\n",
    "2. If the object is iterable, then `for` says: Give me the next value. What comes next?\n",
    "    - If there are no more values, then the object says so, and the `for` loop ends.\n",
    "4. The object (`s`, in this case) gives `for` its next value, which is assigned to our variable (in this case, `one_character`)\n",
    "5. Once that assignment has taken place, the loop body is executed with the variable assigned.\n",
    "6. When the loop body is done, we go back to step 2.\n",
    "\n",
    "*MANY MANY MANY* people in my courses believe that we get one character at a time from `s`, because we named our variable `one_character`. This is *NOT TRUE*. We will get one character at a time from a string, no matter what we call the variable. The variable name is 100% for us to understand the program; Python couldn't care less what we call it.\n",
    "\n",
    "`one_character` is a variable (\"loop variable\" or \"iteration variable\"), and it's assigned a value once per iteration, by the `for` loop. We aren't assigning it a value directly."
   ]
  },
  {
   "cell_type": "code",
   "execution_count": 3,
   "metadata": {},
   "outputs": [
    {
     "name": "stdout",
     "output_type": "stream",
     "text": [
      "a\n",
      "b\n",
      "c\n",
      "d\n"
     ]
    }
   ],
   "source": [
    "for one_character in s:\n",
    "    print(one_character)"
   ]
  },
  {
   "cell_type": "code",
   "execution_count": 4,
   "metadata": {},
   "outputs": [
    {
     "name": "stdout",
     "output_type": "stream",
     "text": [
      "a\n",
      "b\n",
      "c\n",
      "d\n"
     ]
    }
   ],
   "source": [
    "for one_terabyte in s:\n",
    "    print(one_terabyte)"
   ]
  },
  {
   "cell_type": "code",
   "execution_count": 5,
   "metadata": {},
   "outputs": [
    {
     "name": "stdout",
     "output_type": "stream",
     "text": [
      "a\n",
      "b\n",
      "c\n",
      "d\n"
     ]
    }
   ],
   "source": [
    "for one_pizza in s:\n",
    "    print(one_pizza)"
   ]
  },
  {
   "cell_type": "code",
   "execution_count": 6,
   "metadata": {},
   "outputs": [
    {
     "name": "stdout",
     "output_type": "stream",
     "text": [
      "abcd\n"
     ]
    }
   ],
   "source": [
    "print(s)"
   ]
  },
  {
   "cell_type": "markdown",
   "metadata": {},
   "source": [
    "# Exercise: Vowels, digits, and others\n",
    "\n",
    "1. Define three variables, `vowels`, `digits`, and `others`. Assign 0 to each of them.\n",
    "2. Ask the user to enter a string.\n",
    "3. Go through the string, one character at a time:\n",
    "    - If the character is a vowel, add 1 to `vowels`.\n",
    "    - If the character is a digit, add 1 to `digits`.\n",
    "    - Otherwise, add 1 to `others`.\n",
    "4. Print the values of each of these three variables.\n",
    "\n",
    "Example:\n",
    "\n",
    "    Enter some text: hello!! 123\n",
    "    vowels: 2\n",
    "    digits: 3\n",
    "    others: 6\n",
    "\n",
    "Hints/reminders:\n",
    "- You can get input from the user with `input`\n",
    "- You can check character membership in a string with `in`\n",
    "- You can check if a string contains only digits 0-9 with the `str.isdigit` method"
   ]
  },
  {
   "cell_type": "code",
   "execution_count": 7,
   "metadata": {},
   "outputs": [
    {
     "name": "stdin",
     "output_type": "stream",
     "text": [
      "Enter some text:  hello!! 123\n"
     ]
    },
    {
     "name": "stdout",
     "output_type": "stream",
     "text": [
      "vowels = 2\n",
      "digits = 3\n",
      "others = 6\n"
     ]
    }
   ],
   "source": [
    "vowels = 0\n",
    "digits = 0\n",
    "others = 0\n",
    "\n",
    "s = input('Enter some text: ').strip()\n",
    "\n",
    "for one_character in s:\n",
    "    if one_character in 'aeiou':\n",
    "        vowels += 1    # add 1 to the vowels count\n",
    "    elif one_character.isdigit():\n",
    "        digits += 1    # add 1 to the digits count\n",
    "    else:\n",
    "        others += 1\n",
    "\n",
    "print(f'vowels = {vowels}')\n",
    "print(f'digits = {digits}')\n",
    "print(f'others = {others}')"
   ]
  },
  {
   "cell_type": "code",
   "execution_count": 8,
   "metadata": {},
   "outputs": [
    {
     "name": "stdout",
     "output_type": "stream",
     "text": [
      "Hooray!\n",
      "Hooray!\n",
      "Hooray!\n"
     ]
    }
   ],
   "source": [
    "# what if I want to repeat something a number of times?\n",
    "\n",
    "print('Hooray!')\n",
    "print('Hooray!')\n",
    "print('Hooray!')\n"
   ]
  },
  {
   "cell_type": "code",
   "execution_count": 9,
   "metadata": {},
   "outputs": [
    {
     "ename": "TypeError",
     "evalue": "'int' object is not iterable",
     "output_type": "error",
     "traceback": [
      "\u001b[1;31m---------------------------------------------------------------------------\u001b[0m",
      "\u001b[1;31mTypeError\u001b[0m                                 Traceback (most recent call last)",
      "Cell \u001b[1;32mIn[9], line 3\u001b[0m\n\u001b[0;32m      1\u001b[0m \u001b[38;5;66;03m# no no no let's \"DRY up\" this code \u001b[39;00m\n\u001b[1;32m----> 3\u001b[0m \u001b[38;5;28;43;01mfor\u001b[39;49;00m\u001b[43m \u001b[49m\u001b[43mcounter\u001b[49m\u001b[43m \u001b[49m\u001b[38;5;129;43;01min\u001b[39;49;00m\u001b[43m \u001b[49m\u001b[38;5;241;43m3\u001b[39;49m\u001b[43m:\u001b[49m\n\u001b[0;32m      4\u001b[0m \u001b[43m    \u001b[49m\u001b[38;5;28;43mprint\u001b[39;49m\u001b[43m(\u001b[49m\u001b[38;5;124;43m'\u001b[39;49m\u001b[38;5;124;43mHooray!\u001b[39;49m\u001b[38;5;124;43m'\u001b[39;49m\u001b[43m)\u001b[49m\n",
      "\u001b[1;31mTypeError\u001b[0m: 'int' object is not iterable"
     ]
    }
   ],
   "source": [
    "# no no no let's \"DRY up\" this code \n",
    "\n",
    "for counter in 3:     # for loop asked 3, an integer: Are you iterable?\n",
    "    print('Hooray!')  # sadly, the answer is \"no\""
   ]
  },
  {
   "cell_type": "code",
   "execution_count": 10,
   "metadata": {},
   "outputs": [
    {
     "name": "stdout",
     "output_type": "stream",
     "text": [
      "Hooray!\n",
      "Hooray!\n",
      "Hooray!\n"
     ]
    }
   ],
   "source": [
    "# we can iterate over a \"range\" object, which we can create by calling range(3)\n",
    "\n",
    "for counter in range(3):  # range(3) is iterable!\n",
    "    print('Hooray!')"
   ]
  },
  {
   "cell_type": "code",
   "execution_count": 11,
   "metadata": {},
   "outputs": [
    {
     "name": "stdout",
     "output_type": "stream",
     "text": [
      "0 Hooray!\n",
      "1 Hooray!\n",
      "2 Hooray!\n"
     ]
    }
   ],
   "source": [
    "# what are we getting with each iteration here?\n",
    "\n",
    "for counter in range(3):           # here, I chose to use the variable name \"counter\"\n",
    "    print(f'{counter} Hooray!')    #   I could have said \"i\" or \"j\" or \"index\" or \"elephant\""
   ]
  },
  {
   "cell_type": "markdown",
   "metadata": {},
   "source": [
    "# Using `range`\n",
    "\n",
    "When we iterate over `range`, we get the number of iterations we asked for in the argument.\n",
    "\n",
    "We start counting with 0, though. So if we say `range(5)`, we'll get 5 iterations, and the number we get will be 0, 1, 2, 3, and 4.  The maximum number will always be 1 less than what we gave to `range` as an argument."
   ]
  },
  {
   "cell_type": "markdown",
   "metadata": {},
   "source": [
    "# Exercise: Sum numbers\n",
    "\n",
    "1. Define a variable, `total`, and set it to 0.\n",
    "2. Ask the user, how many numbers they're going to enter. Assign that to `count`.\n",
    "3. Using `for` and `range`, ask the user to enter `count` integers.\n",
    "    - Get their input with `input`\n",
    "    - Turn it into an integer with `int`\n",
    "    - (If you want, check that it contains only digits, and can be turned into an `int`, with `isdigit`\n",
    "4. Print the total.\n",
    "\n",
    "Example:\n",
    "\n",
    "    How many numbers? 4\n",
    "    Enter number 0: 10\n",
    "    Enter number 1: 20\n",
    "    Enter number 2: 30\n",
    "    Enter number 3: hello\n",
    "        hello is not a number\n",
    "    Total is 60"
   ]
  },
  {
   "cell_type": "code",
   "execution_count": 12,
   "metadata": {},
   "outputs": [
    {
     "data": {
      "text/plain": [
       "True"
      ]
     },
     "execution_count": 12,
     "metadata": {},
     "output_type": "execute_result"
    }
   ],
   "source": [
    "s = '1'   # this is a string containing a single character, the digit 1  -- it's not an integer!\n",
    "\n",
    "s.isdigit()   "
   ]
  },
  {
   "cell_type": "code",
   "execution_count": 13,
   "metadata": {},
   "outputs": [
    {
     "ename": "TypeError",
     "evalue": "can only concatenate str (not \"int\") to str",
     "output_type": "error",
     "traceback": [
      "\u001b[1;31m---------------------------------------------------------------------------\u001b[0m",
      "\u001b[1;31mTypeError\u001b[0m                                 Traceback (most recent call last)",
      "Cell \u001b[1;32mIn[13], line 1\u001b[0m\n\u001b[1;32m----> 1\u001b[0m \u001b[43ms\u001b[49m\u001b[43m \u001b[49m\u001b[38;5;241;43m+\u001b[39;49m\u001b[38;5;241;43m=\u001b[39;49m\u001b[43m \u001b[49m\u001b[38;5;241;43m1\u001b[39;49m   \u001b[38;5;66;03m# this means: add the integer 1 to the string '1' ... which won't work!\u001b[39;00m\n",
      "\u001b[1;31mTypeError\u001b[0m: can only concatenate str (not \"int\") to str"
     ]
    }
   ],
   "source": [
    "s += 1   # this means: add the integer 1 to the string '1' ... which won't work!"
   ]
  },
  {
   "cell_type": "code",
   "execution_count": 14,
   "metadata": {},
   "outputs": [
    {
     "data": {
      "text/plain": [
       "2"
      ]
     },
     "execution_count": 14,
     "metadata": {},
     "output_type": "execute_result"
    }
   ],
   "source": [
    "# if a string returns True for isdigit, then we know we can turn it into an integer with int()\n",
    "\n",
    "int(s) + 1    # now we're adding an integer to an integer..."
   ]
  },
  {
   "cell_type": "code",
   "execution_count": 18,
   "metadata": {
    "scrolled": true
   },
   "outputs": [
    {
     "name": "stdin",
     "output_type": "stream",
     "text": [
      "How many numbers?  4\n",
      "[0] Enter number:  2\n",
      "[1] Enter number:  4\n",
      "[2] Enter number:  hello\n"
     ]
    },
    {
     "name": "stdout",
     "output_type": "stream",
     "text": [
      "\thello is not numeric; ignoring\n"
     ]
    },
    {
     "name": "stdin",
     "output_type": "stream",
     "text": [
      "[3] Enter number:  6\n"
     ]
    },
    {
     "name": "stdout",
     "output_type": "stream",
     "text": [
      "total = 12\n"
     ]
    }
   ],
   "source": [
    "total = 0\n",
    "\n",
    "s = input('How many numbers? ').strip()  # this is a string, because input returns strings!\n",
    "count = int(s)    # get an integer based on s, and assign to count\n",
    "\n",
    "for index in range(count):\n",
    "    user_input = input(f'[{index}] Enter number: ').strip()     # get the number from the user\n",
    "\n",
    "    if user_input.isdigit():\n",
    "        total += int(user_input)                                    # turn it into an int, and add to total\n",
    "    else:\n",
    "        print(f'\\t{user_input} is not numeric; ignoring')\n",
    "\n",
    "print(f'total = {total}')"
   ]
  },
  {
   "cell_type": "code",
   "execution_count": 20,
   "metadata": {},
   "outputs": [
    {
     "name": "stdin",
     "output_type": "stream",
     "text": [
      "How many numbers?  2\n",
      "[0] Enter number:  5\n",
      "[1] Enter number:  hello\n"
     ]
    },
    {
     "name": "stdout",
     "output_type": "stream",
     "text": [
      "\thello is not numeric; ignoring\n",
      "total = 5\n"
     ]
    }
   ],
   "source": [
    "# what happens if the user gives a non-integer to the inputs in the above exercise?\n",
    "\n",
    "total = 0\n",
    "\n",
    "s = input('How many numbers? ').strip()  # this is a string, because input returns strings!\n",
    "if s.isdigit():\n",
    "    count = int(s)    # get an integer based on s, and assign to count\n",
    "    \n",
    "    for index in range(count):\n",
    "        user_input = input(f'[{index}] Enter number: ').strip()     # get the number from the user\n",
    "    \n",
    "        if user_input.isdigit():\n",
    "            total += int(user_input)                                    # turn it into an int, and add to total\n",
    "        else:\n",
    "            print(f'\\t{user_input} is not numeric; ignoring')\n",
    "    \n",
    "    print(f'total = {total}')\n",
    "else:\n",
    "    print(f'{s} is not numeric; ending now!')"
   ]
  },
  {
   "cell_type": "code",
   "execution_count": null,
   "metadata": {},
   "outputs": [],
   "source": []
  },
  {
   "cell_type": "markdown",
   "metadata": {},
   "source": [
    "# Next up\n",
    "\n",
    "1. Index (or lack thereof)\n",
    "2. Loop controls"
   ]
  },
  {
   "cell_type": "markdown",
   "metadata": {},
   "source": [
    "If you come from another programming language (e.g., C or Java), then you're used to `for` loops that look a bit different: In those languages, you start your variable with 0, and then slowly but surely increment to a maximum number. You use that variable to retrieve values from a string, array, etc.\n",
    "\n",
    "The fact that Python doesn't have an index when we run a `for` loop seems really strange to such people.\n",
    "\n",
    "Think of it this way:\n",
    "\n",
    "- In C, we need to use the index in order to retrieve from a string. The string isn't smart enough to give us its characters, one at a time. So to make up for it, our loop needs to be smarter.\n",
    "- In Python, the string is pretty smart, and knows how to behave. So our loop can be simpler/dumber, doing very little other than just asking the string to give us its successive characters.\n",
    "\n",
    "But... there are times when we might want an index, if only to display characters with their indexes."
   ]
  },
  {
   "cell_type": "code",
   "execution_count": 22,
   "metadata": {},
   "outputs": [
    {
     "name": "stdout",
     "output_type": "stream",
     "text": [
      "0: a\n",
      "1: b\n",
      "2: c\n",
      "3: d\n"
     ]
    }
   ],
   "source": [
    "# what if we want to print each character with its index in the string?\n",
    "# option 1: do it manually\n",
    "\n",
    "s = 'abcd'\n",
    "index = 0     # here, we're just setting a variable\n",
    "\n",
    "for one_character in s:\n",
    "    print(f'{index}: {one_character}')\n",
    "\n",
    "    # each iteration is from the next character\n",
    "    index += 1     # this adds 1 to index"
   ]
  },
  {
   "cell_type": "code",
   "execution_count": 26,
   "metadata": {},
   "outputs": [
    {
     "name": "stdout",
     "output_type": "stream",
     "text": [
      "0: a\n",
      "1: b\n",
      "2: c\n",
      "3: d\n"
     ]
    }
   ],
   "source": [
    "# option 2: Use enumerate\n",
    "# the syntax looks weird -- we'll get to it later today\n",
    "\n",
    "# the enumerate function is something you run on an iterable value\n",
    "# instead of giving one thing with each iteration (i.e., the current character),\n",
    "# enumerate returns *two* things -- the current index (which it calculates) and \n",
    "# the current character\n",
    "\n",
    "# enumerate returns two values: First the index, then the original one\n",
    "# this is considered \"Pythonic\" -- meaning, idiomatic in the Python community\n",
    "\n",
    "s = 'abcd'\n",
    "for index, one_character in enumerate(s):\n",
    "    print(f'{index}: {one_character}')"
   ]
  },
  {
   "cell_type": "code",
   "execution_count": 25,
   "metadata": {},
   "outputs": [
    {
     "name": "stdout",
     "output_type": "stream",
     "text": [
      "0: a\n",
      "1: b\n",
      "2: c\n",
      "3: d\n"
     ]
    }
   ],
   "source": [
    "# this is a total, crazy exaggeration ... and yet, it works\n",
    "\n",
    "s = 'abcd'\n",
    "for book, tissue in enumerate(s):\n",
    "    print(f'{book}: {tissue}')"
   ]
  },
  {
   "cell_type": "markdown",
   "metadata": {},
   "source": [
    "# Exercise: Powers of 10\n",
    "\n",
    "As you might know, numbers in the decimal system are built out of powers of 10.  If I have the number `1234`, we could restate that as:\n",
    "\n",
    "    (1 * 10**3) + (2 * 10**2) + (3 * 10**1) + (4 * 10**0)\n",
    "\n",
    "1. Ask the user to enter a number.\n",
    "2. Print the number in the above expanded format, showing the digit, times the power of 10 we want\n",
    "3. (It's OK to print the output on separate lines.)\n",
    "\n",
    "Remember:\n",
    "- You can get the length of a string with `len`\n",
    "- Don't forget to convert strings into integers if you want to calculate with them -- but if you're just showing the characters, then you don't really need to make that conversion."
   ]
  },
  {
   "cell_type": "code",
   "execution_count": null,
   "metadata": {},
   "outputs": [],
   "source": []
  }
 ],
 "metadata": {
  "kernelspec": {
   "display_name": "Python 3 (ipykernel)",
   "language": "python",
   "name": "python3"
  },
  "language_info": {
   "codemirror_mode": {
    "name": "ipython",
    "version": 3
   },
   "file_extension": ".py",
   "mimetype": "text/x-python",
   "name": "python",
   "nbconvert_exporter": "python",
   "pygments_lexer": "ipython3",
   "version": "3.12.1"
  }
 },
 "nbformat": 4,
 "nbformat_minor": 4
}
