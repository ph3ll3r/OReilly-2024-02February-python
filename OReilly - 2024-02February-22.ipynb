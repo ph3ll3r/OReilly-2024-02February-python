{
 "cells": [
  {
   "cell_type": "markdown",
   "metadata": {},
   "source": [
    "# Agenda: Day 3 (Dictionaries and files)\n",
    "\n",
    "1. Q&A\n",
    "2. Dictionaries\n",
    "    - What are dictionaries?\n",
    "    - Defining / retrieving\n",
    "    - Modifying dictionaries\n",
    "    - Accumulating using dictionaries\n",
    "    - Accumulating the unknown\n",
    "    - Looping over dicts\n",
    "    - How do dictionaries work?\n",
    "3. Files\n",
    "    - What does it mean to work with files?\n",
    "    - Reading from files\n",
    "    - Turning files into data structures\n",
    "    - Writing to files, as well (using `with`)\n"
   ]
  },
  {
   "cell_type": "code",
   "execution_count": 1,
   "metadata": {},
   "outputs": [],
   "source": [
    "# you can run both mylist += [80, 90, 100] and mylist += (50, 60, 70) and it works for \n",
    "# both in the same way. But you cannot run mylist.append['abc'] or \n",
    "# mylist.append[40], why?"
   ]
  },
  {
   "cell_type": "code",
   "execution_count": 2,
   "metadata": {},
   "outputs": [],
   "source": [
    "mylist = [10, 20, 30]\n",
    "\n",
    "# when we use += on a list, += looks to its right\n",
    "# and runs a \"for\" loop on what it sees.  Each element we\n",
    "# get in that loop is appended to mylist\n",
    "mylist += [80, 90, 100]"
   ]
  },
  {
   "cell_type": "code",
   "execution_count": 3,
   "metadata": {},
   "outputs": [
    {
     "data": {
      "text/plain": [
       "[10, 20, 30, 80, 90, 100]"
      ]
     },
     "execution_count": 3,
     "metadata": {},
     "output_type": "execute_result"
    }
   ],
   "source": [
    "# the above is basically the same as saying\n",
    "\n",
    "mylist = [10, 20, 30]\n",
    "\n",
    "for one_item in [80, 90, 100]:\n",
    "    mylist.append(one_item)\n",
    "\n",
    "mylist"
   ]
  },
  {
   "cell_type": "code",
   "execution_count": 4,
   "metadata": {},
   "outputs": [
    {
     "data": {
      "text/plain": [
       "[10, 20, 30, 80, 90, 100]"
      ]
     },
     "execution_count": 4,
     "metadata": {},
     "output_type": "execute_result"
    }
   ],
   "source": [
    "# let's try this with a tuple!\n",
    "\n",
    "mylist = [10, 20, 30]\n",
    "\n",
    "# += doesn't care what we have on the right side! It will run \n",
    "# a for loop on whatever we give it. \n",
    "mylist += (80, 90, 100)   \n",
    "\n",
    "mylist"
   ]
  },
  {
   "cell_type": "code",
   "execution_count": 5,
   "metadata": {},
   "outputs": [
    {
     "data": {
      "text/plain": [
       "[10, 20, 30, 80, 90, 100, 'abc']"
      ]
     },
     "execution_count": 5,
     "metadata": {},
     "output_type": "execute_result"
    }
   ],
   "source": [
    "# why can't we run mylist.append['abc'] or mylist.append[40]?\n",
    "\n",
    "# append is a method\n",
    "# we need to use () to invoke it\n",
    "# whatever is in the () is appended\n",
    "\n",
    "mylist.append('abc')\n",
    "mylist"
   ]
  },
  {
   "cell_type": "code",
   "execution_count": 6,
   "metadata": {},
   "outputs": [
    {
     "ename": "TypeError",
     "evalue": "'builtin_function_or_method' object is not subscriptable",
     "output_type": "error",
     "traceback": [
      "\u001b[1;31m---------------------------------------------------------------------------\u001b[0m",
      "\u001b[1;31mTypeError\u001b[0m                                 Traceback (most recent call last)",
      "Cell \u001b[1;32mIn[6], line 3\u001b[0m\n\u001b[0;32m      1\u001b[0m \u001b[38;5;66;03m# if you were to say\u001b[39;00m\n\u001b[1;32m----> 3\u001b[0m \u001b[43mmylist\u001b[49m\u001b[38;5;241;43m.\u001b[39;49m\u001b[43mappend\u001b[49m\u001b[43m[\u001b[49m\u001b[38;5;124;43m'\u001b[39;49m\u001b[38;5;124;43mabc\u001b[39;49m\u001b[38;5;124;43m'\u001b[39;49m\u001b[43m]\u001b[49m   \n\u001b[0;32m      5\u001b[0m \u001b[38;5;66;03m# the above means (to Python): Find mylist, and grab its \"append\" method. Then, on the method,\u001b[39;00m\n\u001b[0;32m      6\u001b[0m \u001b[38;5;66;03m# retrieve whatever is at index 'abc'\u001b[39;00m\n",
      "\u001b[1;31mTypeError\u001b[0m: 'builtin_function_or_method' object is not subscriptable"
     ]
    }
   ],
   "source": [
    "# if you were to say\n",
    "\n",
    "mylist.append['abc']   \n",
    "\n",
    "# the above means (to Python): Find mylist, and grab its \"append\" method. Then, on the method,\n",
    "# retrieve whatever is at index 'abc'\n"
   ]
  },
  {
   "cell_type": "code",
   "execution_count": 7,
   "metadata": {},
   "outputs": [
    {
     "data": {
      "text/plain": [
       "[10, 20, 30, 80, 90, 100, 'abc', 40]"
      ]
     },
     "execution_count": 7,
     "metadata": {},
     "output_type": "execute_result"
    }
   ],
   "source": [
    "mylist.append(40)\n",
    "mylist"
   ]
  },
  {
   "cell_type": "code",
   "execution_count": null,
   "metadata": {},
   "outputs": [],
   "source": [
    "## From last session\n",
    "# In google colab i ran the program to get a number from user as input and display it\n",
    "# 1 * 10 ** 3\n",
    "# 2 * 10 ** 2\n",
    "# 3 * 10 ** 1\n",
    "\n",
    "# i didn't have to do index -1. when i ran \n",
    "\n",
    "user_input = input(' enter a number :  ').strip()\n",
    "for index,one_char in enumerate(user_input):\n",
    "    print(f'{one_char} * 10 ** {len(user_input) - index}')\n",
    "\n",
    "# output is\n",
    "# 1 * 10 ** 3\n",
    "# 2 * 10 ** 2\n",
    "# 3 * 10 ** 1\n",
    "\n",
    "# v/s if i do index - 1\n",
    "# output is\n",
    "# 1 * 10 ** 2\n",
    "# 2 * 10 ** 1\n",
    "# 3 * 10 ** 0"
   ]
  },
  {
   "cell_type": "code",
   "execution_count": null,
   "metadata": {},
   "outputs": [],
   "source": [
    "user_input = input(' enter a number :  ').strip()\n",
    "for index,one_char in enumerate(user_input):\n",
    "    print(f'{one_char} * 10 ** {len(user_input) - index}')\n"
   ]
  },
  {
   "cell_type": "code",
   "execution_count": 2,
   "metadata": {},
   "outputs": [
    {
     "name": "stdout",
     "output_type": "stream",
     "text": [
      "4 * 10 ** 3\n",
      "3 * 10 ** 2\n",
      "2 * 10 ** 1\n",
      "1 * 10 ** 0\n"
     ]
    }
   ],
   "source": [
    "user_input = '4321'   # this is 4*10**3  3*10**2  2*10**1   1*10**0\n",
    "\n",
    "for index,one_char in enumerate(user_input):\n",
    "    print(f'{one_char} * 10 ** {len(user_input) - index - 1}')\n"
   ]
  },
  {
   "cell_type": "markdown",
   "metadata": {},
   "source": [
    "# Dictionaries\n",
    "\n",
    "Dictionaries (aka \"dicts\" in the Python world) are the most important data structure in Python. They aren't unique to Python! Many other languages have a similar data structure, often called:\n",
    "\n",
    "- hash tables\n",
    "- hashes\n",
    "- hash maps\n",
    "- maps\n",
    "- key-value stores\n",
    "- name-value stores\n",
    "- associative arrays\n",
    "\n",
    "The basic idea behind a dictionary is as follows:\n",
    "\n",
    "When we store things in a list, we determine the value, but Python normally determines the index. If we want, we can replace a value at a given index, but normally, we're just adding to the end of a list.\n",
    "\n",
    "That's fine, except that the index numbers don't really have any meaning. What if I want to have a list of people in my company? Wouldn't it be better if I could store them not at arbitrary indexes (0, 1, 30, 256) but rather at indexes corresponding to their user IDs?\n",
    "\n",
    "In other words: I'd like to determine not just the values, but also the indexes we use to store those values.\n",
    "\n",
    "If I'm already wishing, I'd like to use not just integers, but also strings as indexes. Those could really come in handy.\n",
    "\n",
    "What I've just described is (basically) a dictionary!\n",
    "\n",
    "- We decide on both the keys (what we call the indexes in a dict) and the values\n",
    "- The keys can be any immutable value (typically, integers and strings, but theoretically also floats and tuples)\n",
    "- The values can be absolutely anything at all\n",
    "- Each key must be unique in a dict, so each key can appear at most once\n",
    "\n",
    "Dicts are incredibly efficient and fast, as well as convenient. They're a big win for everyone.\n",
    "\n",
    "# Defining dicts\n",
    "\n",
    "- We define a dictionary using `{}` (curly braces)\n",
    "- Each key-value pair is defined with a colon separating the key from the value\n",
    "- The pairs are separated from one another using commas.\n",
    "- "
   ]
  },
  {
   "cell_type": "code",
   "execution_count": 3,
   "metadata": {},
   "outputs": [
    {
     "data": {
      "text/plain": [
       "dict"
      ]
     },
     "execution_count": 3,
     "metadata": {},
     "output_type": "execute_result"
    }
   ],
   "source": [
    "d = {'a':10, 'b':20, 'c':30}\n",
    "\n",
    "type(d)"
   ]
  },
  {
   "cell_type": "code",
   "execution_count": 4,
   "metadata": {},
   "outputs": [
    {
     "data": {
      "text/plain": [
       "3"
      ]
     },
     "execution_count": 4,
     "metadata": {},
     "output_type": "execute_result"
    }
   ],
   "source": [
    "# how many pairs are in this dict?\n",
    "\n",
    "len(d) "
   ]
  },
  {
   "cell_type": "code",
   "execution_count": 5,
   "metadata": {},
   "outputs": [
    {
     "data": {
      "text/plain": [
       "10"
      ]
     },
     "execution_count": 5,
     "metadata": {},
     "output_type": "execute_result"
    }
   ],
   "source": [
    "# what if I want to retrieve a value via a key?\n",
    "d['a']   # put the key in square brackets"
   ]
  },
  {
   "cell_type": "code",
   "execution_count": 6,
   "metadata": {},
   "outputs": [
    {
     "ename": "KeyError",
     "evalue": "'x'",
     "output_type": "error",
     "traceback": [
      "\u001b[1;31m---------------------------------------------------------------------------\u001b[0m",
      "\u001b[1;31mKeyError\u001b[0m                                  Traceback (most recent call last)",
      "Cell \u001b[1;32mIn[6], line 2\u001b[0m\n\u001b[0;32m      1\u001b[0m \u001b[38;5;66;03m# what if I try to retrieve a key that doesn't exist?\u001b[39;00m\n\u001b[1;32m----> 2\u001b[0m \u001b[43md\u001b[49m\u001b[43m[\u001b[49m\u001b[38;5;124;43m'\u001b[39;49m\u001b[38;5;124;43mx\u001b[39;49m\u001b[38;5;124;43m'\u001b[39;49m\u001b[43m]\u001b[49m\n",
      "\u001b[1;31mKeyError\u001b[0m: 'x'"
     ]
    }
   ],
   "source": [
    "# what if I try to retrieve a key that doesn't exist?\n",
    "d['x']"
   ]
  },
  {
   "cell_type": "code",
   "execution_count": 7,
   "metadata": {},
   "outputs": [
    {
     "data": {
      "text/plain": [
       "True"
      ]
     },
     "execution_count": 7,
     "metadata": {},
     "output_type": "execute_result"
    }
   ],
   "source": [
    "# how can I know if a key is in a dict?\n",
    "# we can ask with \"in\"\n",
    "# \"in\" *only* searches in the keys; it ignores the values\n",
    "\n",
    "'a' in d"
   ]
  },
  {
   "cell_type": "code",
   "execution_count": 8,
   "metadata": {},
   "outputs": [
    {
     "data": {
      "text/plain": [
       "False"
      ]
     },
     "execution_count": 8,
     "metadata": {},
     "output_type": "execute_result"
    }
   ],
   "source": [
    "10 in d"
   ]
  },
  {
   "cell_type": "code",
   "execution_count": 9,
   "metadata": {},
   "outputs": [
    {
     "data": {
      "text/plain": [
       "10"
      ]
     },
     "execution_count": 9,
     "metadata": {},
     "output_type": "execute_result"
    }
   ],
   "source": [
    "# we can use variables\n",
    "\n",
    "s = 'a'\n",
    "d[s]   # this first evaluates s, getting back 'a', and then evaluates d['a']"
   ]
  },
  {
   "cell_type": "code",
   "execution_count": 10,
   "metadata": {},
   "outputs": [],
   "source": [
    "# we saw that we can get a value via a key.\n",
    "# can we do the opposite? The answer: no\n",
    "\n",
    "# dicts are one way, from keys to values\n",
    "# we could search through a dict, pair by pair, for a value and get its corresonding key\n",
    "# but if you're doing that, you're almost certainly doing something wrong\n",
    "\n",
    "# remember: keys are unique, but values aren't (or don't have to be)"
   ]
  },
  {
   "cell_type": "markdown",
   "metadata": {},
   "source": [
    "# Exercise: Restaurant\n",
    "\n",
    "1. Define a dict, `menu`, representing a menu in a restaurant. The keys will be the menu items (strings), and the values will be the prices of those items (integers).\n",
    "2. Set a variable, `total`, to be 0.\n",
    "3. Ask the user repeatedly to order something.\n",
    "    - If they give us the empty string, stop asking and print the total.\n",
    "    - If they give us the name of something on the menu (i.e., a key in our `menu` dict), then add the price to the total, and print the item, price, and new total.\n",
    "    - If they give us the name of something *not* on the menu, then scold them lightly.\n",
    "4. Print `total`.\n",
    "\n",
    "Example:\n",
    "\n",
    "    Order: sandwich\n",
    "    sandwich costs 10, total is 10\n",
    "    Order: tea\n",
    "    tea costs 5, total is 15\n",
    "    Order: elephant\n",
    "    we are fresh out of elephant today!\n",
    "    Order: [ENTER]\n",
    "    Your total is 15"
   ]
  },
  {
   "cell_type": "code",
   "execution_count": null,
   "metadata": {},
   "outputs": [],
   "source": [
    "menu = {'sandwich':10, 'tea':5, 'cookie':3, 'apple':2}\n",
    "total = 0\n",
    "\n"
   ]
  }
 ],
 "metadata": {
  "kernelspec": {
   "display_name": "Python 3 (ipykernel)",
   "language": "python",
   "name": "python3"
  },
  "language_info": {
   "codemirror_mode": {
    "name": "ipython",
    "version": 3
   },
   "file_extension": ".py",
   "mimetype": "text/x-python",
   "name": "python",
   "nbconvert_exporter": "python",
   "pygments_lexer": "ipython3",
   "version": "3.12.1"
  }
 },
 "nbformat": 4,
 "nbformat_minor": 4
}
