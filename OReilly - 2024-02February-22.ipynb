{
 "cells": [
  {
   "cell_type": "markdown",
   "metadata": {},
   "source": [
    "# Agenda: Day 3 (Dictionaries and files)\n",
    "\n",
    "1. Q&A\n",
    "2. Dictionaries\n",
    "    - What are dictionaries?\n",
    "    - Defining / retrieving\n",
    "    - Modifying dictionaries\n",
    "    - Accumulating using dictionaries\n",
    "    - Accumulating the unknown\n",
    "    - Looping over dicts\n",
    "    - How do dictionaries work?\n",
    "3. Files\n",
    "    - What does it mean to work with files?\n",
    "    - Reading from files\n",
    "    - Turning files into data structures\n",
    "    - Writing to files, as well (using `with`)\n"
   ]
  },
  {
   "cell_type": "code",
   "execution_count": 1,
   "metadata": {},
   "outputs": [],
   "source": [
    "# you can run both mylist += [80, 90, 100] and mylist += (50, 60, 70) and it works for \n",
    "# both in the same way. But you cannot run mylist.append['abc'] or \n",
    "# mylist.append[40], why?"
   ]
  },
  {
   "cell_type": "code",
   "execution_count": 2,
   "metadata": {},
   "outputs": [],
   "source": [
    "mylist = [10, 20, 30]\n",
    "\n",
    "# when we use += on a list, += looks to its right\n",
    "# and runs a \"for\" loop on what it sees.  Each element we\n",
    "# get in that loop is appended to mylist\n",
    "mylist += [80, 90, 100]"
   ]
  },
  {
   "cell_type": "code",
   "execution_count": 3,
   "metadata": {},
   "outputs": [
    {
     "data": {
      "text/plain": [
       "[10, 20, 30, 80, 90, 100]"
      ]
     },
     "execution_count": 3,
     "metadata": {},
     "output_type": "execute_result"
    }
   ],
   "source": [
    "# the above is basically the same as saying\n",
    "\n",
    "mylist = [10, 20, 30]\n",
    "\n",
    "for one_item in [80, 90, 100]:\n",
    "    mylist.append(one_item)\n",
    "\n",
    "mylist"
   ]
  },
  {
   "cell_type": "code",
   "execution_count": 4,
   "metadata": {},
   "outputs": [
    {
     "data": {
      "text/plain": [
       "[10, 20, 30, 80, 90, 100]"
      ]
     },
     "execution_count": 4,
     "metadata": {},
     "output_type": "execute_result"
    }
   ],
   "source": [
    "# let's try this with a tuple!\n",
    "\n",
    "mylist = [10, 20, 30]\n",
    "\n",
    "# += doesn't care what we have on the right side! It will run \n",
    "# a for loop on whatever we give it. \n",
    "mylist += (80, 90, 100)   \n",
    "\n",
    "mylist"
   ]
  },
  {
   "cell_type": "code",
   "execution_count": 5,
   "metadata": {},
   "outputs": [
    {
     "data": {
      "text/plain": [
       "[10, 20, 30, 80, 90, 100, 'abc']"
      ]
     },
     "execution_count": 5,
     "metadata": {},
     "output_type": "execute_result"
    }
   ],
   "source": [
    "# why can't we run mylist.append['abc'] or mylist.append[40]?\n",
    "\n",
    "# append is a method\n",
    "# we need to use () to invoke it\n",
    "# whatever is in the () is appended\n",
    "\n",
    "mylist.append('abc')\n",
    "mylist"
   ]
  },
  {
   "cell_type": "code",
   "execution_count": 6,
   "metadata": {},
   "outputs": [
    {
     "ename": "TypeError",
     "evalue": "'builtin_function_or_method' object is not subscriptable",
     "output_type": "error",
     "traceback": [
      "\u001b[1;31m---------------------------------------------------------------------------\u001b[0m",
      "\u001b[1;31mTypeError\u001b[0m                                 Traceback (most recent call last)",
      "Cell \u001b[1;32mIn[6], line 3\u001b[0m\n\u001b[0;32m      1\u001b[0m \u001b[38;5;66;03m# if you were to say\u001b[39;00m\n\u001b[1;32m----> 3\u001b[0m \u001b[43mmylist\u001b[49m\u001b[38;5;241;43m.\u001b[39;49m\u001b[43mappend\u001b[49m\u001b[43m[\u001b[49m\u001b[38;5;124;43m'\u001b[39;49m\u001b[38;5;124;43mabc\u001b[39;49m\u001b[38;5;124;43m'\u001b[39;49m\u001b[43m]\u001b[49m   \n\u001b[0;32m      5\u001b[0m \u001b[38;5;66;03m# the above means (to Python): Find mylist, and grab its \"append\" method. Then, on the method,\u001b[39;00m\n\u001b[0;32m      6\u001b[0m \u001b[38;5;66;03m# retrieve whatever is at index 'abc'\u001b[39;00m\n",
      "\u001b[1;31mTypeError\u001b[0m: 'builtin_function_or_method' object is not subscriptable"
     ]
    }
   ],
   "source": [
    "# if you were to say\n",
    "\n",
    "mylist.append['abc']   \n",
    "\n",
    "# the above means (to Python): Find mylist, and grab its \"append\" method. Then, on the method,\n",
    "# retrieve whatever is at index 'abc'\n"
   ]
  },
  {
   "cell_type": "code",
   "execution_count": 7,
   "metadata": {},
   "outputs": [
    {
     "data": {
      "text/plain": [
       "[10, 20, 30, 80, 90, 100, 'abc', 40]"
      ]
     },
     "execution_count": 7,
     "metadata": {},
     "output_type": "execute_result"
    }
   ],
   "source": [
    "mylist.append(40)\n",
    "mylist"
   ]
  },
  {
   "cell_type": "code",
   "execution_count": null,
   "metadata": {},
   "outputs": [],
   "source": [
    "## From last session\n",
    "# In google colab i ran the program to get a number from user as input and display it\n",
    "# 1 * 10 ** 3\n",
    "# 2 * 10 ** 2\n",
    "# 3 * 10 ** 1\n",
    "\n",
    "# i didn't have to do index -1. when i ran \n",
    "\n",
    "user_input = input(' enter a number :  ').strip()\n",
    "for index,one_char in enumerate(user_input):\n",
    "    print(f'{one_char} * 10 ** {len(user_input) - index}')\n",
    "\n",
    "# output is\n",
    "# 1 * 10 ** 3\n",
    "# 2 * 10 ** 2\n",
    "# 3 * 10 ** 1\n",
    "\n",
    "# v/s if i do index - 1\n",
    "# output is\n",
    "# 1 * 10 ** 2\n",
    "# 2 * 10 ** 1\n",
    "# 3 * 10 ** 0"
   ]
  },
  {
   "cell_type": "code",
   "execution_count": null,
   "metadata": {},
   "outputs": [],
   "source": [
    "user_input = input(' enter a number :  ').strip()\n",
    "for index,one_char in enumerate(user_input):\n",
    "    print(f'{one_char} * 10 ** {len(user_input) - index}')\n"
   ]
  },
  {
   "cell_type": "code",
   "execution_count": 2,
   "metadata": {},
   "outputs": [
    {
     "name": "stdout",
     "output_type": "stream",
     "text": [
      "4 * 10 ** 3\n",
      "3 * 10 ** 2\n",
      "2 * 10 ** 1\n",
      "1 * 10 ** 0\n"
     ]
    }
   ],
   "source": [
    "user_input = '4321'   # this is 4*10**3  3*10**2  2*10**1   1*10**0\n",
    "\n",
    "for index,one_char in enumerate(user_input):\n",
    "    print(f'{one_char} * 10 ** {len(user_input) - index - 1}')\n"
   ]
  },
  {
   "cell_type": "markdown",
   "metadata": {},
   "source": [
    "# Dictionaries\n",
    "\n",
    "Dictionaries (aka \"dicts\" in the Python world) are the most important data structure in Python. They aren't unique to Python! Many other languages have a similar data structure, often called:\n",
    "\n",
    "- hash tables\n",
    "- hashes\n",
    "- hash maps\n",
    "- maps\n",
    "- key-value stores\n",
    "- name-value stores\n",
    "- associative arrays\n",
    "\n",
    "The basic idea behind a dictionary is as follows:\n",
    "\n",
    "When we store things in a list, we determine the value, but Python normally determines the index. If we want, we can replace a value at a given index, but normally, we're just adding to the end of a list.\n",
    "\n",
    "That's fine, except that the index numbers don't really have any meaning. What if I want to have a list of people in my company? Wouldn't it be better if I could store them not at arbitrary indexes (0, 1, 30, 256) but rather at indexes corresponding to their user IDs?\n",
    "\n",
    "In other words: I'd like to determine not just the values, but also the indexes we use to store those values.\n",
    "\n",
    "If I'm already wishing, I'd like to use not just integers, but also strings as indexes. Those could really come in handy.\n",
    "\n",
    "What I've just described is (basically) a dictionary!\n",
    "\n",
    "- We decide on both the keys (what we call the indexes in a dict) and the values\n",
    "- The keys can be any immutable value (typically, integers and strings, but theoretically also floats and tuples)\n",
    "- The values can be absolutely anything at all\n",
    "- Each key must be unique in a dict, so each key can appear at most once\n",
    "\n",
    "Dicts are incredibly efficient and fast, as well as convenient. They're a big win for everyone.\n",
    "\n",
    "# Defining dicts\n",
    "\n",
    "- We define a dictionary using `{}` (curly braces)\n",
    "- Each key-value pair is defined with a colon separating the key from the value\n",
    "- The pairs are separated from one another using commas.\n",
    "- "
   ]
  },
  {
   "cell_type": "code",
   "execution_count": 3,
   "metadata": {},
   "outputs": [
    {
     "data": {
      "text/plain": [
       "dict"
      ]
     },
     "execution_count": 3,
     "metadata": {},
     "output_type": "execute_result"
    }
   ],
   "source": [
    "d = {'a':10, 'b':20, 'c':30}\n",
    "\n",
    "type(d)"
   ]
  },
  {
   "cell_type": "code",
   "execution_count": 4,
   "metadata": {},
   "outputs": [
    {
     "data": {
      "text/plain": [
       "3"
      ]
     },
     "execution_count": 4,
     "metadata": {},
     "output_type": "execute_result"
    }
   ],
   "source": [
    "# how many pairs are in this dict?\n",
    "\n",
    "len(d) "
   ]
  },
  {
   "cell_type": "code",
   "execution_count": 5,
   "metadata": {},
   "outputs": [
    {
     "data": {
      "text/plain": [
       "10"
      ]
     },
     "execution_count": 5,
     "metadata": {},
     "output_type": "execute_result"
    }
   ],
   "source": [
    "# what if I want to retrieve a value via a key?\n",
    "d['a']   # put the key in square brackets"
   ]
  },
  {
   "cell_type": "code",
   "execution_count": 6,
   "metadata": {},
   "outputs": [
    {
     "ename": "KeyError",
     "evalue": "'x'",
     "output_type": "error",
     "traceback": [
      "\u001b[1;31m---------------------------------------------------------------------------\u001b[0m",
      "\u001b[1;31mKeyError\u001b[0m                                  Traceback (most recent call last)",
      "Cell \u001b[1;32mIn[6], line 2\u001b[0m\n\u001b[0;32m      1\u001b[0m \u001b[38;5;66;03m# what if I try to retrieve a key that doesn't exist?\u001b[39;00m\n\u001b[1;32m----> 2\u001b[0m \u001b[43md\u001b[49m\u001b[43m[\u001b[49m\u001b[38;5;124;43m'\u001b[39;49m\u001b[38;5;124;43mx\u001b[39;49m\u001b[38;5;124;43m'\u001b[39;49m\u001b[43m]\u001b[49m\n",
      "\u001b[1;31mKeyError\u001b[0m: 'x'"
     ]
    }
   ],
   "source": [
    "# what if I try to retrieve a key that doesn't exist?\n",
    "d['x']"
   ]
  },
  {
   "cell_type": "code",
   "execution_count": 7,
   "metadata": {},
   "outputs": [
    {
     "data": {
      "text/plain": [
       "True"
      ]
     },
     "execution_count": 7,
     "metadata": {},
     "output_type": "execute_result"
    }
   ],
   "source": [
    "# how can I know if a key is in a dict?\n",
    "# we can ask with \"in\"\n",
    "# \"in\" *only* searches in the keys; it ignores the values\n",
    "\n",
    "'a' in d"
   ]
  },
  {
   "cell_type": "code",
   "execution_count": 8,
   "metadata": {},
   "outputs": [
    {
     "data": {
      "text/plain": [
       "False"
      ]
     },
     "execution_count": 8,
     "metadata": {},
     "output_type": "execute_result"
    }
   ],
   "source": [
    "10 in d"
   ]
  },
  {
   "cell_type": "code",
   "execution_count": 9,
   "metadata": {},
   "outputs": [
    {
     "data": {
      "text/plain": [
       "10"
      ]
     },
     "execution_count": 9,
     "metadata": {},
     "output_type": "execute_result"
    }
   ],
   "source": [
    "# we can use variables\n",
    "\n",
    "s = 'a'\n",
    "d[s]   # this first evaluates s, getting back 'a', and then evaluates d['a']"
   ]
  },
  {
   "cell_type": "code",
   "execution_count": 10,
   "metadata": {},
   "outputs": [],
   "source": [
    "# we saw that we can get a value via a key.\n",
    "# can we do the opposite? The answer: no\n",
    "\n",
    "# dicts are one way, from keys to values\n",
    "# we could search through a dict, pair by pair, for a value and get its corresonding key\n",
    "# but if you're doing that, you're almost certainly doing something wrong\n",
    "\n",
    "# remember: keys are unique, but values aren't (or don't have to be)"
   ]
  },
  {
   "cell_type": "markdown",
   "metadata": {},
   "source": [
    "# Exercise: Restaurant\n",
    "\n",
    "1. Define a dict, `menu`, representing a menu in a restaurant. The keys will be the menu items (strings), and the values will be the prices of those items (integers).\n",
    "2. Set a variable, `total`, to be 0.\n",
    "3. Ask the user repeatedly to order something.\n",
    "    - If they give us the empty string, stop asking and print the total.\n",
    "    - If they give us the name of something on the menu (i.e., a key in our `menu` dict), then add the price to the total, and print the item, price, and new total.\n",
    "    - If they give us the name of something *not* on the menu, then scold them lightly.\n",
    "4. Print `total`.\n",
    "\n",
    "Example:\n",
    "\n",
    "    Order: sandwich\n",
    "    sandwich costs 10, total is 10\n",
    "    Order: tea\n",
    "    tea costs 5, total is 15\n",
    "    Order: elephant\n",
    "    we are fresh out of elephant today!\n",
    "    Order: [ENTER]\n",
    "    Your total is 15"
   ]
  },
  {
   "cell_type": "code",
   "execution_count": null,
   "metadata": {},
   "outputs": [],
   "source": []
  },
  {
   "cell_type": "code",
   "execution_count": null,
   "metadata": {},
   "outputs": [],
   "source": []
  },
  {
   "cell_type": "code",
   "execution_count": 11,
   "metadata": {},
   "outputs": [
    {
     "name": "stdin",
     "output_type": "stream",
     "text": [
      "Order:  sandwich\n"
     ]
    },
    {
     "name": "stdout",
     "output_type": "stream",
     "text": [
      "sandwich costs 10; total is now 10\n"
     ]
    },
    {
     "name": "stdin",
     "output_type": "stream",
     "text": [
      "Order:  tea\n"
     ]
    },
    {
     "name": "stdout",
     "output_type": "stream",
     "text": [
      "tea costs 5; total is now 15\n"
     ]
    },
    {
     "name": "stdin",
     "output_type": "stream",
     "text": [
      "Order:  elephant\n"
     ]
    },
    {
     "name": "stdout",
     "output_type": "stream",
     "text": [
      "Sorry, we are fresh out of elephant today.\n"
     ]
    },
    {
     "name": "stdin",
     "output_type": "stream",
     "text": [
      "Order:  \n"
     ]
    },
    {
     "name": "stdout",
     "output_type": "stream",
     "text": [
      "15\n"
     ]
    }
   ],
   "source": [
    "menu = {'sandwich':10, 'tea':5, 'cookie':3, 'apple':2}\n",
    "total = 0\n",
    "\n",
    "while True:\n",
    "    s = input('Order: ').strip()\n",
    "\n",
    "    if s == '':   # empty string? break out of the loop\n",
    "        break\n",
    "\n",
    "    # is the user's input a key in our dict?\n",
    "    if s in menu:\n",
    "        price = menu[s]   # get the price for the user's order\n",
    "        total += price    # increase total by this price\n",
    "        print(f'{s} costs {price}; total is now {total}')\n",
    "\n",
    "    else:\n",
    "        print(f'Sorry, we are fresh out of {s} today.')\n",
    "\n",
    "print(total)"
   ]
  },
  {
   "cell_type": "markdown",
   "metadata": {},
   "source": [
    "# When would I use a dict this way?\n",
    "\n",
    "If you have key-value associations that might make sense throughout your program, you might well do this:\n",
    "\n",
    "- Month names and month numbers\n",
    "- Month numbers and month names\n",
    "- User IDs and usernames\n",
    "- Usernames and further data\n",
    "- IP address and computer names"
   ]
  },
  {
   "cell_type": "code",
   "execution_count": 12,
   "metadata": {},
   "outputs": [
    {
     "name": "stdin",
     "output_type": "stream",
     "text": [
      "Order:  apple\n"
     ]
    },
    {
     "name": "stdout",
     "output_type": "stream",
     "text": [
      "apple costs 2.99; total is now 2.99\n"
     ]
    },
    {
     "name": "stdin",
     "output_type": "stream",
     "text": [
      "Order:  sandwich\n"
     ]
    },
    {
     "name": "stdout",
     "output_type": "stream",
     "text": [
      "sandwich costs 10.5; total is now 13.49\n"
     ]
    },
    {
     "name": "stdin",
     "output_type": "stream",
     "text": [
      "Order:  \n"
     ]
    },
    {
     "name": "stdout",
     "output_type": "stream",
     "text": [
      "13.49\n"
     ]
    }
   ],
   "source": [
    "menu = {'sandwich':10.50, 'tea':5.75, 'cookie':3.25, 'apple':2.99}\n",
    "total = 0\n",
    "\n",
    "while True:\n",
    "    s = input('Order: ').strip()\n",
    "\n",
    "    if s == '':   # empty string? break out of the loop\n",
    "        break\n",
    "\n",
    "    # is the user's input a key in our dict?\n",
    "    if s in menu:\n",
    "        price = menu[s]   # get the price for the user's order\n",
    "        total += price    # increase total by this price\n",
    "        print(f'{s} costs {price}; total is now {total}')\n",
    "\n",
    "    else:\n",
    "        print(f'Sorry, we are fresh out of {s} today.')\n",
    "\n",
    "print(total)"
   ]
  },
  {
   "cell_type": "markdown",
   "metadata": {},
   "source": [
    "# Mutable dictionaries\n",
    "\n",
    "We've seen that some data structures in Python are immutable (e.g., `int`, `float`, `str`, and `tuple`). But we know that others are mutable (e.g., `list`). Which is true for dictionaries?\n",
    "\n",
    "Answer: Dicts are mutable. They can be changed:\n",
    "\n",
    "- We can modify existing key-value pairs\n",
    "- We can add new key-value pairs\n",
    "- We can remove existing key-value pairs\n",
    "\n",
    "Every key needs to have a value, and every value needs to have a key. So there's no such thing as removing a key but keeping the value around, or of removing a value and keeping the key around. "
   ]
  },
  {
   "cell_type": "code",
   "execution_count": 13,
   "metadata": {},
   "outputs": [
    {
     "data": {
      "text/plain": [
       "{'a': 10, 'b': 25, 'c': 30}"
      ]
     },
     "execution_count": 13,
     "metadata": {},
     "output_type": "execute_result"
    }
   ],
   "source": [
    "d = {'a':10, 'b':20, 'c':30}\n",
    "\n",
    "# let's update the value associated with 'b'\n",
    "d['b'] = 25   # assigning to an existing key updates the value for that key\n",
    "d"
   ]
  },
  {
   "cell_type": "code",
   "execution_count": 14,
   "metadata": {},
   "outputs": [
    {
     "data": {
      "text/plain": [
       "{'a': 10, 'b': 26, 'c': 30}"
      ]
     },
     "execution_count": 14,
     "metadata": {},
     "output_type": "execute_result"
    }
   ],
   "source": [
    "# I can even use += with an existing dict value\n",
    "d['b'] += 1  # this will add 1 to the existing value\n",
    "\n",
    "d"
   ]
  },
  {
   "cell_type": "code",
   "execution_count": 15,
   "metadata": {},
   "outputs": [
    {
     "ename": "KeyError",
     "evalue": "'x'",
     "output_type": "error",
     "traceback": [
      "\u001b[1;31m---------------------------------------------------------------------------\u001b[0m",
      "\u001b[1;31mKeyError\u001b[0m                                  Traceback (most recent call last)",
      "Cell \u001b[1;32mIn[15], line 3\u001b[0m\n\u001b[0;32m      1\u001b[0m \u001b[38;5;66;03m# what happens if I try to update a value for a key that doesn't exist?\u001b[39;00m\n\u001b[1;32m----> 3\u001b[0m \u001b[43md\u001b[49m\u001b[43m[\u001b[49m\u001b[38;5;124;43m'\u001b[39;49m\u001b[38;5;124;43mx\u001b[39;49m\u001b[38;5;124;43m'\u001b[39;49m\u001b[43m]\u001b[49m \u001b[38;5;241m+\u001b[39m\u001b[38;5;241m=\u001b[39m \u001b[38;5;241m1\u001b[39m\n",
      "\u001b[1;31mKeyError\u001b[0m: 'x'"
     ]
    }
   ],
   "source": [
    "# what happens if I try to update a value for a key that doesn't exist?\n",
    "\n",
    "d['x'] += 1"
   ]
  },
  {
   "cell_type": "code",
   "execution_count": 16,
   "metadata": {},
   "outputs": [],
   "source": [
    "# what if I want to add a new key-value pair?\n",
    "# we know, from lists, that we can use \"append\"\n",
    "# BUT NOT IN DICTS!\n",
    "\n",
    "# In dictionaries, to add a new key-value pair, all we do is assign\n",
    "d['z'] = 1234\n",
    "\n",
    "# it looks just like updating! But it's really adding a new key-value pair"
   ]
  },
  {
   "cell_type": "code",
   "execution_count": 17,
   "metadata": {},
   "outputs": [
    {
     "data": {
      "text/plain": [
       "{'a': 10, 'b': 26, 'c': 30, 'z': 1234}"
      ]
     },
     "execution_count": 17,
     "metadata": {},
     "output_type": "execute_result"
    }
   ],
   "source": [
    "d"
   ]
  },
  {
   "cell_type": "code",
   "execution_count": 18,
   "metadata": {},
   "outputs": [
    {
     "ename": "KeyError",
     "evalue": "('a', 'b')",
     "output_type": "error",
     "traceback": [
      "\u001b[1;31m---------------------------------------------------------------------------\u001b[0m",
      "\u001b[1;31mKeyError\u001b[0m                                  Traceback (most recent call last)",
      "Cell \u001b[1;32mIn[18], line 1\u001b[0m\n\u001b[1;32m----> 1\u001b[0m \u001b[43md\u001b[49m\u001b[43m[\u001b[49m\u001b[38;5;124;43m'\u001b[39;49m\u001b[38;5;124;43ma\u001b[39;49m\u001b[38;5;124;43m'\u001b[39;49m\u001b[43m,\u001b[49m\u001b[43m \u001b[49m\u001b[38;5;124;43m'\u001b[39;49m\u001b[38;5;124;43mb\u001b[39;49m\u001b[38;5;124;43m'\u001b[39;49m\u001b[43m]\u001b[49m \u001b[38;5;241m+\u001b[39m\u001b[38;5;241m=\u001b[39m \u001b[38;5;241m1\u001b[39m    \u001b[38;5;66;03m# no, this doesn't work\u001b[39;00m\n",
      "\u001b[1;31mKeyError\u001b[0m: ('a', 'b')"
     ]
    }
   ],
   "source": [
    "d['a', 'b'] += 1    # no, this doesn't work"
   ]
  },
  {
   "cell_type": "code",
   "execution_count": 19,
   "metadata": {},
   "outputs": [
    {
     "data": {
      "text/plain": [
       "1234"
      ]
     },
     "execution_count": 19,
     "metadata": {},
     "output_type": "execute_result"
    }
   ],
   "source": [
    "# Removing key-value pairs\n",
    "# we can use the \"pop\" method to remove a key-value pair -- specify the key, and the value is returned + removed\n",
    "\n",
    "d.pop('z')"
   ]
  },
  {
   "cell_type": "code",
   "execution_count": 20,
   "metadata": {},
   "outputs": [
    {
     "data": {
      "text/plain": [
       "{'a': 10, 'b': 26, 'c': 30}"
      ]
     },
     "execution_count": 20,
     "metadata": {},
     "output_type": "execute_result"
    }
   ],
   "source": [
    "d"
   ]
  },
  {
   "cell_type": "code",
   "execution_count": 21,
   "metadata": {},
   "outputs": [
    {
     "data": {
      "text/plain": [
       "{'a': 10, 'b': 26, 'c': 30}"
      ]
     },
     "execution_count": 21,
     "metadata": {},
     "output_type": "execute_result"
    }
   ],
   "source": [
    "# can we add multiple key-value pairs to a dict?\n",
    "# yes -- we can do that by defining a second dict, and using the | (union) method\n",
    "\n",
    "d"
   ]
  },
  {
   "cell_type": "code",
   "execution_count": 22,
   "metadata": {},
   "outputs": [
    {
     "data": {
      "text/plain": [
       "{'a': 10, 'b': 26, 'c': 77, 'd': 88, 'e': 99}"
      ]
     },
     "execution_count": 22,
     "metadata": {},
     "output_type": "execute_result"
    }
   ],
   "source": [
    "new_stuff = {'c':77, 'd':88, 'e':99}\n",
    "\n",
    "d | new_stuff    # this returns a new dict -- doens't affect either d or new_stuff"
   ]
  },
  {
   "cell_type": "markdown",
   "metadata": {},
   "source": [
    "# Next up\n",
    "\n",
    "- Accumulating in dicts (known keys)\n",
    "- Accumulating in dicts (unknown keys)"
   ]
  },
  {
   "cell_type": "markdown",
   "metadata": {},
   "source": [
    "We've seen that we can define a dict and then use it as a read-only database inside of a program.  But we can also use it as a read-write data structure. \n",
    "\n",
    "One of the most common ways to use dicts in this format is to define it at the start of the program with some keys and some initial values, such as 0. Then, as the program proceeds, you add to the values. \n",
    "\n",
    "In other words: The keys don't change (no new ones, no removals) but the values do.\n",
    "\n"
   ]
  },
  {
   "cell_type": "code",
   "execution_count": 23,
   "metadata": {},
   "outputs": [
    {
     "name": "stdout",
     "output_type": "stream",
     "text": [
      "{'a': 1, 'e': 3, 'i': 2, 'o': 3, 'u': 2}\n"
     ]
    }
   ],
   "source": [
    "counts = {'a':0, 'e':0, 'i':0, 'o':0, 'u':0}\n",
    "\n",
    "s = 'This is a bunch of letters for my course'\n",
    "\n",
    "for one_character in s:\n",
    "    if one_character in counts:      # if the current character is a key in our dict\n",
    "        counts[one_character] += 1   # add 1 to the value!\n",
    "\n",
    "print(counts)"
   ]
  },
  {
   "cell_type": "markdown",
   "metadata": {},
   "source": [
    "# Exercise: Vowels, digits, and others (dict edition)\n",
    "\n",
    "1. Define a dict in which the keys are `vowels`, `digits`, and `others`, and all values are 0.\n",
    "2. Ask the user, repeatedly, to enter a string.\n",
    "    - If they enter an empty string, stop asking\n",
    "3. Go through each character in the string they gave you\n",
    "    - If the character is a vowel, add 1 to `vowels`\n",
    "    - If the character is a digit, add 1 to `digits`\n",
    "    - Otherwise, add 1 to `others`\n",
    "4. In the end, print the dict with the counts."
   ]
  },
  {
   "cell_type": "code",
   "execution_count": 24,
   "metadata": {},
   "outputs": [
    {
     "name": "stdin",
     "output_type": "stream",
     "text": [
      "Enter text:  hello!! 123\n",
      "Enter text:  what about now?!? 456\n",
      "Enter text:  \n"
     ]
    },
    {
     "name": "stdout",
     "output_type": "stream",
     "text": [
      "{'vowels': 7, 'digits': 6, 'others': 19}\n"
     ]
    }
   ],
   "source": [
    "counts = {'vowels':0,\n",
    "          'digits':0,\n",
    "          'others':0}\n",
    "\n",
    "while True:\n",
    "    s = input('Enter text: ').strip()\n",
    " \n",
    "    if s == '':    # if we got the empty string, exit the loop\n",
    "        break\n",
    "\n",
    "    for one_character in s:\n",
    "        if one_character in 'aeiou':\n",
    "            counts['vowels'] += 1\n",
    "        elif one_character.isdigit():\n",
    "            counts['digits'] += 1\n",
    "        else:\n",
    "            counts['others'] += 1\n",
    "\n",
    "print(counts)"
   ]
  },
  {
   "cell_type": "code",
   "execution_count": null,
   "metadata": {},
   "outputs": [],
   "source": [
    "# AB\n",
    "\n",
    "dicto={'vowels':0,'digits':0,'others':0}\n",
    "while True:\n",
    "    s = input(\"Enter a string? \").strip().lower()\n",
    "    if s == '':\n",
    "        break\n",
    "    for one_character in s:\n",
    "        if one_character in 'aeoiuy':\n",
    "            dicto['vowels'] += 1\n",
    "        elif one_character.isdigit():\n",
    "            dicto['digits'] += 1\n",
    "        else:\n",
    "            dicto['others'] += 1\n",
    "print(dicto)"
   ]
  },
  {
   "cell_type": "code",
   "execution_count": 25,
   "metadata": {},
   "outputs": [
    {
     "data": {
      "text/plain": [
       "'aeiou'"
      ]
     },
     "execution_count": 25,
     "metadata": {},
     "output_type": "execute_result"
    }
   ],
   "source": [
    "# MK\n",
    "# can we define a dict\n",
    "\n",
    "d = {'vowels':'aeiou'}\n",
    "\n",
    "d['vowels']"
   ]
  },
  {
   "cell_type": "code",
   "execution_count": 26,
   "metadata": {},
   "outputs": [],
   "source": [
    "vowels = 'aeiou'"
   ]
  },
  {
   "cell_type": "markdown",
   "metadata": {},
   "source": [
    "# Loops and dicts\n",
    "\n",
    "We know that we can iterate over a number of different data structures:\n",
    "\n",
    "- string, we get one character at a time\n",
    "- list, we get one element at a time\n",
    "- tuple, we get one element at a time\n",
    "\n",
    "This raises an obivous question: Can we iterate over dicts? If so, what do we get?"
   ]
  },
  {
   "cell_type": "code",
   "execution_count": 27,
   "metadata": {},
   "outputs": [
    {
     "name": "stdout",
     "output_type": "stream",
     "text": [
      "a\n",
      "b\n",
      "c\n"
     ]
    }
   ],
   "source": [
    "d = {'a':10, 'b':20, 'c':30}\n",
    "\n",
    "for one_item in d:\n",
    "    print(one_item)"
   ]
  },
  {
   "cell_type": "code",
   "execution_count": 28,
   "metadata": {},
   "outputs": [
    {
     "name": "stdout",
     "output_type": "stream",
     "text": [
      "a: 10\n",
      "b: 20\n",
      "c: 30\n"
     ]
    }
   ],
   "source": [
    "# iterating over a dict gives us the dictionary's keys\n",
    "# we can use this to iterate over the dict\n",
    "\n",
    "for one_key in d:\n",
    "    print(f'{one_key}: {d[one_key]}')"
   ]
  },
  {
   "cell_type": "code",
   "execution_count": 29,
   "metadata": {},
   "outputs": [
    {
     "name": "stdout",
     "output_type": "stream",
     "text": [
      "a: 10\n",
      "b: 20\n",
      "c: 30\n"
     ]
    }
   ],
   "source": [
    "# some people discover that there is a \"keys\" method for dicts\n",
    "# what am I going to get from this?\n",
    "\n",
    "# exactly the same result as iterating over d\n",
    "# **EXCEPT** that it's much slower\n",
    "\n",
    "for one_key in d.keys():\n",
    "    print(f'{one_key}: {d[one_key]}')"
   ]
  },
  {
   "cell_type": "code",
   "execution_count": 30,
   "metadata": {},
   "outputs": [
    {
     "data": {
      "text/plain": [
       "dict_values([10, 20, 30])"
      ]
     },
     "execution_count": 30,
     "metadata": {},
     "output_type": "execute_result"
    }
   ],
   "source": [
    "# there is also a dict.values method\n",
    "# that returns all of the values in a special data structure that's sort of (but not really) a list\n",
    "\n",
    "d.values()"
   ]
  },
  {
   "cell_type": "code",
   "execution_count": 31,
   "metadata": {},
   "outputs": [],
   "source": [
    "# if you want to search or iterate over the values, you can use this"
   ]
  },
  {
   "cell_type": "code",
   "execution_count": 33,
   "metadata": {},
   "outputs": [
    {
     "name": "stdout",
     "output_type": "stream",
     "text": [
      "a: 10\n",
      "b: 20\n",
      "c: 30\n"
     ]
    }
   ],
   "source": [
    "# there is a better way to iterate over a dict\n",
    "# the dict.items method returns one key-value pair for each iteration\n",
    "\n",
    "for t in d.items():  # get a (key, value) tuple with each iteration\n",
    "    key, value = t   # unpacking to get the key and value \n",
    "    print(f'{key}: {value}')"
   ]
  },
  {
   "cell_type": "code",
   "execution_count": 34,
   "metadata": {},
   "outputs": [
    {
     "name": "stdout",
     "output_type": "stream",
     "text": [
      "a: 10\n",
      "b: 20\n",
      "c: 30\n"
     ]
    }
   ],
   "source": [
    "# we can use unpacking directly in the for loop!\n",
    "\n",
    "for key, value  in d.items():  # get a (key, value) tuple with each iteration\n",
    "    print(f'{key}: {value}')"
   ]
  },
  {
   "cell_type": "markdown",
   "metadata": {},
   "source": [
    "# Paradigm 3 for dict usage\n",
    "\n",
    "- In paradigm 1, we define a dict and treat it as a read-only database, never changing it\n",
    "- In paradigm 2, we define a dict and modify the values, but not the keys (no new ones, no removal)\n",
    "- In paradigm 3, we start with an *empty* dict, adding new keys as needed and updating values as needed\n",
    "\n",
    "Paradigm 3 is perfect for when you don't know what keys or values you'll get, but you know what to do with them when you get them.\n",
    "\n",
    "Imagine that you'll get user IDs and names for users on your system. You don't know in advance all of the users' names and IDs. But you can still define a dict and expect that when new users show up, you'll add a new pair to the dict."
   ]
  },
  {
   "cell_type": "code",
   "execution_count": 35,
   "metadata": {},
   "outputs": [
    {
     "name": "stdout",
     "output_type": "stream",
     "text": [
      "T: 1\n",
      "h: 4\n",
      "i: 4\n",
      "s: 5\n",
      " : 12\n",
      "a: 5\n",
      "n: 7\n",
      "o: 3\n",
      "t: 5\n",
      "e: 6\n",
      "r: 2\n",
      "m: 2\n",
      "z: 1\n",
      "g: 1\n",
      "c: 3\n",
      "I: 1\n",
      "u: 2\n",
      "y: 2\n",
      "P: 1\n"
     ]
    }
   ],
   "source": [
    "# counting characters\n",
    "# what if I want to count *all* of the characters in a string?\n",
    "# do I really want to define a new dict with all characters in its keys?\n",
    "# instead, I'll start with an empty dict, and add new keys (characters) as we encounter them.\n",
    "\n",
    "counts = {}\n",
    "\n",
    "s = 'This is another amazing sentence that I can use in my Python course'\n",
    "\n",
    "for one_character in s:\n",
    "    if one_character in counts:\n",
    "        counts[one_character] += 1   # add 1 to the count if we've seen it before\n",
    "    else:\n",
    "        counts[one_character] = 1    # otherwise, start the count with 1\n",
    "\n",
    "for key, value in counts.items():\n",
    "    print(f'{key}: {value}')"
   ]
  },
  {
   "cell_type": "markdown",
   "metadata": {},
   "source": [
    "# Exercise: Rainfall\n",
    "\n",
    "1. Define an empty dict, `rainfall`. Each key-value pair that we add will be a string (a key, the name of a city) and an integer (a value, an amount of rain, in mm, that fell there).\n",
    "2. Ask the user to repeatedly enter the name of a city.\n",
    "    - If we get an empty string, exit from the loop.\n",
    "3. If we got a city name, ask the user how many rain fell there?\n",
    "4. Check:\n",
    "    - If the city already exists in the dict as a key, add the rainfall to the existing value\n",
    "    - If the city does *not* exist in the dict, then add a new key-value pair, the city and the rainfall\n",
    "5. Iterate over our dict, printing the cities and amounts.\n",
    "\n",
    "Example:\n",
    "\n",
    "    City: a\n",
    "    Rain: 5\n",
    "    City: b\n",
    "    Rain: 4\n",
    "    City: a\n",
    "    Rain: 3\n",
    "    City: [ENTER]\n",
    "\n",
    "    a: 8\n",
    "    b: 4"
   ]
  },
  {
   "cell_type": "code",
   "execution_count": null,
   "metadata": {},
   "outputs": [],
   "source": []
  }
 ],
 "metadata": {
  "kernelspec": {
   "display_name": "Python 3 (ipykernel)",
   "language": "python",
   "name": "python3"
  },
  "language_info": {
   "codemirror_mode": {
    "name": "ipython",
    "version": 3
   },
   "file_extension": ".py",
   "mimetype": "text/x-python",
   "name": "python",
   "nbconvert_exporter": "python",
   "pygments_lexer": "ipython3",
   "version": "3.12.1"
  }
 },
 "nbformat": 4,
 "nbformat_minor": 4
}
