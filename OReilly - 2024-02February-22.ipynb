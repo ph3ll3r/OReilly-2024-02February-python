{
 "cells": [
  {
   "cell_type": "markdown",
   "metadata": {},
   "source": [
    "# Agenda: Day 3 (Dictionaries and files)\n",
    "\n",
    "1. Q&A\n",
    "2. Dictionaries\n",
    "    - What are dictionaries?\n",
    "    - Defining / retrieving\n",
    "    - Modifying dictionaries\n",
    "    - Accumulating using dictionaries\n",
    "    - Accumulating the unknown\n",
    "    - Looping over dicts\n",
    "    - How do dictionaries work?\n",
    "3. Files\n",
    "    - What does it mean to work with files?\n",
    "    - Reading from files\n",
    "    - Turning files into data structures\n",
    "    - Writing to files, as well (using `with`)\n"
   ]
  },
  {
   "cell_type": "code",
   "execution_count": 1,
   "metadata": {},
   "outputs": [],
   "source": [
    "# you can run both mylist += [80, 90, 100] and mylist += (50, 60, 70) and it works for \n",
    "# both in the same way. But you cannot run mylist.append['abc'] or \n",
    "# mylist.append[40], why?"
   ]
  },
  {
   "cell_type": "code",
   "execution_count": 2,
   "metadata": {},
   "outputs": [],
   "source": [
    "mylist = [10, 20, 30]\n",
    "\n",
    "# when we use += on a list, += looks to its right\n",
    "# and runs a \"for\" loop on what it sees.  Each element we\n",
    "# get in that loop is appended to mylist\n",
    "mylist += [80, 90, 100]"
   ]
  },
  {
   "cell_type": "code",
   "execution_count": 3,
   "metadata": {},
   "outputs": [
    {
     "data": {
      "text/plain": [
       "[10, 20, 30, 80, 90, 100]"
      ]
     },
     "execution_count": 3,
     "metadata": {},
     "output_type": "execute_result"
    }
   ],
   "source": [
    "# the above is basically the same as saying\n",
    "\n",
    "mylist = [10, 20, 30]\n",
    "\n",
    "for one_item in [80, 90, 100]:\n",
    "    mylist.append(one_item)\n",
    "\n",
    "mylist"
   ]
  },
  {
   "cell_type": "code",
   "execution_count": 4,
   "metadata": {},
   "outputs": [
    {
     "data": {
      "text/plain": [
       "[10, 20, 30, 80, 90, 100]"
      ]
     },
     "execution_count": 4,
     "metadata": {},
     "output_type": "execute_result"
    }
   ],
   "source": [
    "# let's try this with a tuple!\n",
    "\n",
    "mylist = [10, 20, 30]\n",
    "\n",
    "# += doesn't care what we have on the right side! It will run \n",
    "# a for loop on whatever we give it. \n",
    "mylist += (80, 90, 100)   \n",
    "\n",
    "mylist"
   ]
  },
  {
   "cell_type": "code",
   "execution_count": 5,
   "metadata": {},
   "outputs": [
    {
     "data": {
      "text/plain": [
       "[10, 20, 30, 80, 90, 100, 'abc']"
      ]
     },
     "execution_count": 5,
     "metadata": {},
     "output_type": "execute_result"
    }
   ],
   "source": [
    "# why can't we run mylist.append['abc'] or mylist.append[40]?\n",
    "\n",
    "# append is a method\n",
    "# we need to use () to invoke it\n",
    "# whatever is in the () is appended\n",
    "\n",
    "mylist.append('abc')\n",
    "mylist"
   ]
  },
  {
   "cell_type": "code",
   "execution_count": 6,
   "metadata": {},
   "outputs": [
    {
     "ename": "TypeError",
     "evalue": "'builtin_function_or_method' object is not subscriptable",
     "output_type": "error",
     "traceback": [
      "\u001b[1;31m---------------------------------------------------------------------------\u001b[0m",
      "\u001b[1;31mTypeError\u001b[0m                                 Traceback (most recent call last)",
      "Cell \u001b[1;32mIn[6], line 3\u001b[0m\n\u001b[0;32m      1\u001b[0m \u001b[38;5;66;03m# if you were to say\u001b[39;00m\n\u001b[1;32m----> 3\u001b[0m \u001b[43mmylist\u001b[49m\u001b[38;5;241;43m.\u001b[39;49m\u001b[43mappend\u001b[49m\u001b[43m[\u001b[49m\u001b[38;5;124;43m'\u001b[39;49m\u001b[38;5;124;43mabc\u001b[39;49m\u001b[38;5;124;43m'\u001b[39;49m\u001b[43m]\u001b[49m   \n\u001b[0;32m      5\u001b[0m \u001b[38;5;66;03m# the above means (to Python): Find mylist, and grab its \"append\" method. Then, on the method,\u001b[39;00m\n\u001b[0;32m      6\u001b[0m \u001b[38;5;66;03m# retrieve whatever is at index 'abc'\u001b[39;00m\n",
      "\u001b[1;31mTypeError\u001b[0m: 'builtin_function_or_method' object is not subscriptable"
     ]
    }
   ],
   "source": [
    "# if you were to say\n",
    "\n",
    "mylist.append['abc']   \n",
    "\n",
    "# the above means (to Python): Find mylist, and grab its \"append\" method. Then, on the method,\n",
    "# retrieve whatever is at index 'abc'\n"
   ]
  },
  {
   "cell_type": "code",
   "execution_count": 7,
   "metadata": {},
   "outputs": [
    {
     "data": {
      "text/plain": [
       "[10, 20, 30, 80, 90, 100, 'abc', 40]"
      ]
     },
     "execution_count": 7,
     "metadata": {},
     "output_type": "execute_result"
    }
   ],
   "source": [
    "mylist.append(40)\n",
    "mylist"
   ]
  },
  {
   "cell_type": "code",
   "execution_count": null,
   "metadata": {},
   "outputs": [],
   "source": [
    "## From last session\n",
    "# In google colab i ran the program to get a number from user as input and display it\n",
    "# 1 * 10 ** 3\n",
    "# 2 * 10 ** 2\n",
    "# 3 * 10 ** 1\n",
    "\n",
    "# i didn't have to do index -1. when i ran \n",
    "\n",
    "user_input = input(' enter a number :  ').strip()\n",
    "for index,one_char in enumerate(user_input):\n",
    "    print(f'{one_char} * 10 ** {len(user_input) - index}')\n",
    "\n",
    "# output is\n",
    "# 1 * 10 ** 3\n",
    "# 2 * 10 ** 2\n",
    "# 3 * 10 ** 1\n",
    "\n",
    "# v/s if i do index - 1\n",
    "# output is\n",
    "# 1 * 10 ** 2\n",
    "# 2 * 10 ** 1\n",
    "# 3 * 10 ** 0"
   ]
  },
  {
   "cell_type": "code",
   "execution_count": null,
   "metadata": {},
   "outputs": [],
   "source": [
    "user_input = input(' enter a number :  ').strip()\n",
    "for index,one_char in enumerate(user_input):\n",
    "    print(f'{one_char} * 10 ** {len(user_input) - index}')\n"
   ]
  },
  {
   "cell_type": "code",
   "execution_count": null,
   "metadata": {},
   "outputs": [],
   "source": [
    "s = input('Enter something: ').strip()"
   ]
  },
  {
   "cell_type": "code",
   "execution_count": null,
   "metadata": {},
   "outputs": [],
   "source": []
  }
 ],
 "metadata": {
  "kernelspec": {
   "display_name": "Python 3 (ipykernel)",
   "language": "python",
   "name": "python3"
  },
  "language_info": {
   "codemirror_mode": {
    "name": "ipython",
    "version": 3
   },
   "file_extension": ".py",
   "mimetype": "text/x-python",
   "name": "python",
   "nbconvert_exporter": "python",
   "pygments_lexer": "ipython3",
   "version": "3.12.1"
  }
 },
 "nbformat": 4,
 "nbformat_minor": 4
}
