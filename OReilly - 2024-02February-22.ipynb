{
 "cells": [
  {
   "cell_type": "markdown",
   "metadata": {},
   "source": [
    "# Agenda: Day 3 (Dictionaries and files)\n",
    "\n",
    "1. Q&A\n",
    "2. Dictionaries\n",
    "    - What are dictionaries?\n",
    "    - Defining / retrieving\n",
    "    - Modifying dictionaries\n",
    "    - Accumulating using dictionaries\n",
    "    - Accumulating the unknown\n",
    "    - Looping over dicts\n",
    "    - How do dictionaries work?\n",
    "3. Files\n",
    "    - What does it mean to work with files?\n",
    "    - Reading from files\n",
    "    - Turning files into data structures\n",
    "    - Writing to files, as well (using `with`)\n"
   ]
  },
  {
   "cell_type": "code",
   "execution_count": 1,
   "metadata": {},
   "outputs": [],
   "source": [
    "# you can run both mylist += [80, 90, 100] and mylist += (50, 60, 70) and it works for \n",
    "# both in the same way. But you cannot run mylist.append['abc'] or \n",
    "# mylist.append[40], why?"
   ]
  },
  {
   "cell_type": "code",
   "execution_count": null,
   "metadata": {},
   "outputs": [],
   "source": [
    "mylist = [10, 20, 30]\n",
    "\n",
    "# when we use += on a list, += looks to its right\n",
    "# and runs a \"for\" loop on what it sees\n",
    "mylist += [80, 90, 100]"
   ]
  }
 ],
 "metadata": {
  "kernelspec": {
   "display_name": "Python 3 (ipykernel)",
   "language": "python",
   "name": "python3"
  },
  "language_info": {
   "codemirror_mode": {
    "name": "ipython",
    "version": 3
   },
   "file_extension": ".py",
   "mimetype": "text/x-python",
   "name": "python",
   "nbconvert_exporter": "python",
   "pygments_lexer": "ipython3",
   "version": "3.12.1"
  }
 },
 "nbformat": 4,
 "nbformat_minor": 4
}
