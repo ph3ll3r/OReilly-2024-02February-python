{
 "cells": [
  {
   "cell_type": "markdown",
   "metadata": {},
   "source": [
    "# Agenda\n",
    "\n",
    "1. Fundamentals and core concepts\n",
    "    - Syntax of Python\n",
    "    - Values and variables\n",
    "    - Printing things on the screen\n",
    "    - Getting input from the user\n",
    "    - Making decisions with `if` and `else`\n",
    "    - Numbers\n",
    "    - Strings (aka text)\n",
    "    - Methods -- what are they?\n",
    "2. Loops, lists, and tuples\n",
    "    - What are loops (`for` and `while`)\n",
    "    - Looping over strings\n",
    "    - Looping over numbers\n",
    "    - Lists\n",
    "        - Storing in lists\n",
    "        - Retrieving from lists\n",
    "    - Turning strings into lists, and then lists into strings\n",
    "    - Tuples and tuple unpacking\n",
    "3. Dictionaries and files\n",
    "    - What are dicts?\n",
    "    - Reading from them, writing to them\n",
    "    - The different paradigms for working with dicts\n",
    "    - How do they work behind the scenes?\n",
    "    - Reading from and writing to text files\n",
    "4. Functions\n",
    "    - What is a function?\n",
    "    - Writing functions\n",
    "    - Arguments and parameters\n",
    "    - Local vs. global variables\n",
    "    - Return values\n",
    "5. Modules and packages\n",
    "    - What are these, and why do we need them?\n",
    "    - Using modules that Python provides\n",
    "    - Writing our own modules\n",
    "    - Third-party packages and downloading them from PyPI\n",
    "    - What next?"
   ]
  },
  {
   "cell_type": "markdown",
   "metadata": {},
   "source": [
    "# What is Jupyter?\n",
    "\n",
    "Jupyter is a Web-based interface for Python. If you're using Jupyter, then you have the illusion of writing Python inside of your browser. \n",
    "\n",
    "You can install Jupyter on your own computer. It can be complex for someone who is new to programming.\n",
    "\n",
    "One way to get Jupyter (or something like it) on your computer is to use Google Colab. "
   ]
  },
  {
   "cell_type": "markdown",
   "metadata": {},
   "source": [
    "# What is a programming language? What is Python?\n",
    "\n",
    "A general-purpose computer can be given instructions as to what it should do. Those instructions come in the form of binary numbers (1s and 0s). You can, in theory, write those 1s and 0s yourself -- but it's not fun or easy.\n",
    "\n",
    "Instead, we write programs in a \"high-level language,\" one that is closer to how humans think and write, and then our program is translated into binary format.\n",
    "\n",
    "Every programming language works in a slightly different way. Some are closer to the binary code, and some are closer to how humans think and write.\n",
    "\n",
    "- C is a \"low-level language,\" because it's closer to the hardware\n",
    "- Java and C# are mid-level languages, because they're higher level than C, taking care of such things as managing the memory in your program, but they still require you to think a lot like a computer\n",
    "- Python is a \"very high level language,\" where it tries to look and feel like a natural language.\n",
    "\n",
    "Programming languages need to be unambiguous and clear. Python, though, is designed to be as easy as possible for people to learn, while still providing us with the same power as other languages.  \"Low floors and high ceilings\"\n",
    "\n",
    "Who is using Python, and for what?\n",
    "- Python is the #1 language for data science and machine learning\n",
    "- Web applications\n",
    "- Devops\n",
    "- APIs (consumption and production)\n",
    "- Education\n",
    "\n",
    "The one place where Python is missing (sort of) is on mobile apps. But that is (slowly) changing.\n",
    "\n",
    "What's the drawback of Python? It doesn't execute as quickly as Java, C#, or even C.  Python is a perfect language for an age in which people are expensive, and computers are cheap.\n",
    "\n"
   ]
  },
  {
   "cell_type": "markdown",
   "metadata": {},
   "source": [
    "# Quick intro to Jupyter\n",
    "\n",
    "Everything in Jupyter is done inside of \"cells.\" I'm typing, right now, into a cell.\n",
    "\n",
    "Every cell has a \"mode,\" typically either Python code or Markdown. (Right now, I'm in Markdown mode.) Markdown is used for creating HTML/stylized text easily, with just plain text.\n",
    "\n",
    "When I'm in Markdown mode, I'm just typing. I can format it by using shift+ENTER. (Some computers, control-ENTER, some alt-ENTER.)"
   ]
  },
  {
   "cell_type": "code",
   "execution_count": 1,
   "metadata": {},
   "outputs": [
    {
     "name": "stdout",
     "output_type": "stream",
     "text": [
      "Hello, world!\n"
     ]
    }
   ],
   "source": [
    "# the below line is Python code; we're running the \"print\" function, and telling it to display text \n",
    "\n",
    "# anything with a # before it in Python is a comment. It is completely ignored by the language\n",
    "# comments are notes to yourself in the future, or to colleagues who will want to read your code.\n",
    "\n",
    "print('Hello, world!')  \n",
    "\n",
    "# how can I execute this code cell? I press shift+ENTER"
   ]
  },
  {
   "cell_type": "markdown",
   "metadata": {},
   "source": [
    "# What did we do above?\n",
    "\n",
    "- `print` is a function -- a verb -- in the Python world. It displays things on the screen.\n",
    "- To execute the function, and get it to do something, we put parentheses after its name.\n",
    "- We can ask it to print text by putting that text inside of the parentheses\n",
    "- Note that text must be inside of quotes, either `''` or `\"\"`. (You can use either; there is no difference, but the start quotes must match the end quotes.)"
   ]
  },
  {
   "cell_type": "code",
   "execution_count": 2,
   "metadata": {},
   "outputs": [
    {
     "name": "stdout",
     "output_type": "stream",
     "text": [
      "Reuven\n"
     ]
    }
   ],
   "source": [
    "print('Reuven')"
   ]
  },
  {
   "cell_type": "code",
   "execution_count": 3,
   "metadata": {},
   "outputs": [
    {
     "name": "stdout",
     "output_type": "stream",
     "text": [
      "50\n"
     ]
    }
   ],
   "source": [
    "# I can even print numbers\n",
    "print(50)"
   ]
  },
  {
   "cell_type": "code",
   "execution_count": 4,
   "metadata": {},
   "outputs": [
    {
     "name": "stdout",
     "output_type": "stream",
     "text": [
      "53\n"
     ]
    }
   ],
   "source": [
    "print(50+3)   # here, I add 50+3, getting 53, and that number is then displayed on the screen"
   ]
  },
  {
   "cell_type": "code",
   "execution_count": 5,
   "metadata": {},
   "outputs": [
    {
     "name": "stdout",
     "output_type": "stream",
     "text": [
      "503\n"
     ]
    }
   ],
   "source": [
    "# numbers don't have quotes around them\n",
    "# text does\n",
    "\n",
    "# what if I add together something slightly different:\n",
    "print('50' + '3')   # can I add together two pieces of text with +?"
   ]
  },
  {
   "cell_type": "code",
   "execution_count": 7,
   "metadata": {},
   "outputs": [
    {
     "ename": "TypeError",
     "evalue": "unsupported operand type(s) for +: 'int' and 'str'",
     "output_type": "error",
     "traceback": [
      "\u001b[1;31m---------------------------------------------------------------------------\u001b[0m",
      "\u001b[1;31mTypeError\u001b[0m                                 Traceback (most recent call last)",
      "Cell \u001b[1;32mIn[7], line 6\u001b[0m\n\u001b[0;32m      1\u001b[0m \u001b[38;5;66;03m# What happens, by  the way, if I try to add together a number and text?\u001b[39;00m\n\u001b[0;32m      2\u001b[0m \n\u001b[0;32m      3\u001b[0m \u001b[38;5;66;03m# will Python turn the number into text, and give us '503'?\u001b[39;00m\n\u001b[0;32m      4\u001b[0m \u001b[38;5;66;03m# will Python turn the text into a number, and give us 53?\u001b[39;00m\n\u001b[0;32m      5\u001b[0m \u001b[38;5;66;03m# or will it give up, and give us an error?  *** this is the answer\u001b[39;00m\n\u001b[1;32m----> 6\u001b[0m \u001b[38;5;28mprint\u001b[39m(\u001b[38;5;241;43m50\u001b[39;49m\u001b[43m \u001b[49m\u001b[38;5;241;43m+\u001b[39;49m\u001b[43m \u001b[49m\u001b[38;5;124;43m'\u001b[39;49m\u001b[38;5;124;43m3\u001b[39;49m\u001b[38;5;124;43m'\u001b[39;49m)\n",
      "\u001b[1;31mTypeError\u001b[0m: unsupported operand type(s) for +: 'int' and 'str'"
     ]
    }
   ],
   "source": [
    "# What happens, by  the way, if I try to add together a number and text?\n",
    "\n",
    "# will Python turn the number into text, and give us '503'?\n",
    "# will Python turn the text into a number, and give us 53?\n",
    "# or will it give up, and give us an error?  *** this is the answer\n",
    "print(50 + '3')"
   ]
  },
  {
   "cell_type": "code",
   "execution_count": 11,
   "metadata": {},
   "outputs": [
    {
     "ename": "IndentationError",
     "evalue": "unexpected indent (765528687.py, line 2)",
     "output_type": "error",
     "traceback": [
      "\u001b[1;36m  Cell \u001b[1;32mIn[11], line 2\u001b[1;36m\u001b[0m\n\u001b[1;33m    print(50 + 3)\u001b[0m\n\u001b[1;37m    ^\u001b[0m\n\u001b[1;31mIndentationError\u001b[0m\u001b[1;31m:\u001b[0m unexpected indent\n"
     ]
    }
   ],
   "source": [
    "print(50 + 3)\n",
    "    print(50 + 3)\n",
    "print(50 + 3)"
   ]
  },
  {
   "cell_type": "code",
   "execution_count": 12,
   "metadata": {},
   "outputs": [
    {
     "name": "stdout",
     "output_type": "stream",
     "text": [
      "30\n"
     ]
    }
   ],
   "source": [
    "# what if I want to keep values around, rather than typing them explicitly at the computer?\n",
    "# we can assign a value to a variable. Then we can refer to that value with the variable.\n",
    "\n",
    "# assignment is done with the = sign. This is *NOT* the same = as you use in mathematics!\n",
    "# In math, = means that the left side is the same as the right side.\n",
    "# In Python, = means that we take the value from the right side, and assign it to the variable on the left side.\n",
    "\n",
    "x = 10    \n",
    "y = 20\n",
    "\n",
    "# after executing the above lines, we can refer to x and y, rather than to 10 and 20\n",
    "\n",
    "print(x+y)"
   ]
  },
  {
   "cell_type": "code",
   "execution_count": 13,
   "metadata": {},
   "outputs": [
    {
     "data": {
      "text/plain": [
       "10"
      ]
     },
     "execution_count": 13,
     "metadata": {},
     "output_type": "execute_result"
    }
   ],
   "source": [
    "# by the way, in Jupyter (not in regular Python code!), if the final line of a cell is\n",
    "# a value, then we don't need to use print to display it. Jupyter will just show it to us\n",
    "\n",
    "x"
   ]
  },
  {
   "cell_type": "code",
   "execution_count": 14,
   "metadata": {},
   "outputs": [
    {
     "data": {
      "text/plain": [
       "30"
      ]
     },
     "execution_count": 14,
     "metadata": {},
     "output_type": "execute_result"
    }
   ],
   "source": [
    "x+y"
   ]
  },
  {
   "cell_type": "markdown",
   "metadata": {},
   "source": [
    "# Variables\n",
    "\n",
    "1. What names can we give our variables?\n",
    "- Any combination of letters, digits, and `_` is acceptable\n",
    "    - Except: Don't start with a digit (not allowed)\n",
    "    - Except: Don't start with `_` (per convention)\n",
    "- Capital and lowercase letters are different! By tradition, in Python, we only use lowercase letters in our variable names\n",
    "- Try to use variable names that mean something; Python couldn't care less what you call your variables, but your colleagues will care a lot!\n",
    "\n",
    "2. Don't we need to declare them at some point?\n",
    "\n",
    "No! The first time you assign to a variable, it is created. Next times, the value will be assigned to that variable.\n",
    "\n",
    "In some languages, you need to declare variables in advance, to tell the language what type of value it will contain. Python variables can refer to any type of value at all! The notion of declaring them doesn't really exist. "
   ]
  },
  {
   "cell_type": "code",
   "execution_count": 15,
   "metadata": {},
   "outputs": [
    {
     "name": "stdout",
     "output_type": "stream",
     "text": [
      "Hello, Reuven!\n"
     ]
    }
   ],
   "source": [
    "name = 'Reuven'\n",
    "\n",
    "print('Hello, ' + name + '!')"
   ]
  },
  {
   "cell_type": "code",
   "execution_count": 16,
   "metadata": {},
   "outputs": [
    {
     "name": "stdout",
     "output_type": "stream",
     "text": [
      "30\n"
     ]
    }
   ],
   "source": [
    "x = 10\n",
    "y = 20\n",
    "\n",
    "print(x + y)"
   ]
  },
  {
   "cell_type": "markdown",
   "metadata": {},
   "source": [
    "# Exercise: Simple assignment and displaying\n",
    "\n",
    "1. Assign the variable `name` to your name, and print a nice greeting to yourself.\n",
    "2. Assign two numbers to `x` and `y`, and print the result of adding them together with `+`.\n",
    "\n"
   ]
  },
  {
   "cell_type": "code",
   "execution_count": 17,
   "metadata": {},
   "outputs": [
    {
     "name": "stdout",
     "output_type": "stream",
     "text": [
      "Variable   Type    Data/Info\n",
      "----------------------------\n",
      "name       str     Reuven\n",
      "x          int     10\n",
      "y          int     20\n"
     ]
    }
   ],
   "source": [
    "# if you're in Jupyter, you can use the \"magic command\" of %whos to get a list of all assigned variables\n",
    "\n",
    "%whos"
   ]
  },
  {
   "cell_type": "code",
   "execution_count": 18,
   "metadata": {},
   "outputs": [
    {
     "name": "stdout",
     "output_type": "stream",
     "text": [
      "Hello, Reuven!\n"
     ]
    }
   ],
   "source": [
    "name = 'Reuven'    # don't forget that text needs to have quotes around it -- variables *never* have quotes around them!\n",
    "\n",
    "print('Hello, ' + name + '!')"
   ]
  },
  {
   "cell_type": "code",
   "execution_count": 20,
   "metadata": {},
   "outputs": [
    {
     "name": "stdout",
     "output_type": "stream",
     "text": [
      "Hello,Reuven!\n"
     ]
    }
   ],
   "source": [
    "print('Hello,' + name + '!')  # no space at the end of the first string "
   ]
  },
  {
   "cell_type": "code",
   "execution_count": 22,
   "metadata": {},
   "outputs": [
    {
     "name": "stdout",
     "output_type": "stream",
     "text": [
      "Hello, Reuven!\n"
     ]
    }
   ],
   "source": [
    "greeting = 'Hello, ' + name + '!'    # assign a variable the value of our new text string\n",
    "print(greeting)"
   ]
  },
  {
   "cell_type": "code",
   "execution_count": 23,
   "metadata": {},
   "outputs": [
    {
     "name": "stdout",
     "output_type": "stream",
     "text": [
      "253\n"
     ]
    }
   ],
   "source": [
    "x = 15\n",
    "y = 238\n",
    "print(x + y)"
   ]
  },
  {
   "cell_type": "code",
   "execution_count": 24,
   "metadata": {},
   "outputs": [
    {
     "data": {
      "text/plain": [
       "str"
      ]
     },
     "execution_count": 24,
     "metadata": {},
     "output_type": "execute_result"
    }
   ],
   "source": [
    "# we can always ask Python what type of value is in a variable (or what type of value something is)\n",
    "# we can use the \"type\" function\n",
    "\n",
    "type('Reuven')"
   ]
  },
  {
   "cell_type": "code",
   "execution_count": 25,
   "metadata": {},
   "outputs": [
    {
     "data": {
      "text/plain": [
       "str"
      ]
     },
     "execution_count": 25,
     "metadata": {},
     "output_type": "execute_result"
    }
   ],
   "source": [
    "type(name)   # we assigned the variable 'name' to the text string 'Reuven'"
   ]
  },
  {
   "cell_type": "code",
   "execution_count": 26,
   "metadata": {},
   "outputs": [
    {
     "name": "stdout",
     "output_type": "stream",
     "text": [
      "Hello, Reuven!\n"
     ]
    }
   ],
   "source": [
    "print(\"Hello, \" + name + \"!\")"
   ]
  },
  {
   "cell_type": "code",
   "execution_count": null,
   "metadata": {},
   "outputs": [],
   "source": []
  }
 ],
 "metadata": {
  "kernelspec": {
   "display_name": "Python 3 (ipykernel)",
   "language": "python",
   "name": "python3"
  },
  "language_info": {
   "codemirror_mode": {
    "name": "ipython",
    "version": 3
   },
   "file_extension": ".py",
   "mimetype": "text/x-python",
   "name": "python",
   "nbconvert_exporter": "python",
   "pygments_lexer": "ipython3",
   "version": "3.12.1"
  }
 },
 "nbformat": 4,
 "nbformat_minor": 4
}
