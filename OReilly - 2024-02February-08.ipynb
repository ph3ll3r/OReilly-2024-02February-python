{
 "cells": [
  {
   "cell_type": "markdown",
   "metadata": {},
   "source": [
    "# Agenda\n",
    "\n",
    "1. Fundamentals and core concepts\n",
    "    - Syntax of Python\n",
    "    - Values and variables\n",
    "    - Printing things on the screen\n",
    "    - Getting input from the user\n",
    "    - Making decisions with `if` and `else`\n",
    "    - Numbers\n",
    "    - Strings (aka text)\n",
    "    - Methods -- what are they?\n",
    "2. Loops, lists, and tuples\n",
    "    - What are loops (`for` and `while`)\n",
    "    - Looping over strings\n",
    "    - Looping over numbers\n",
    "    - Lists\n",
    "        - Storing in lists\n",
    "        - Retrieving from lists\n",
    "    - Turning strings into lists, and then lists into strings\n",
    "    - Tuples and tuple unpacking\n",
    "3. Dictionaries and files\n",
    "    - What are dicts?\n",
    "    - Reading from them, writing to them\n",
    "    - The different paradigms for working with dicts\n",
    "    - How do they work behind the scenes?\n",
    "    - Reading from and writing to text files\n",
    "4. Functions\n",
    "    - What is a function?\n",
    "    - Writing functions\n",
    "    - Arguments and parameters\n",
    "    - Local vs. global variables\n",
    "    - Return values\n",
    "5. Modules and packages\n",
    "    - What are these, and why do we need them?\n",
    "    - Using modules that Python provides\n",
    "    - Writing our own modules\n",
    "    - Third-party packages and downloading them from PyPI\n",
    "    - What next?"
   ]
  },
  {
   "cell_type": "markdown",
   "metadata": {},
   "source": [
    "# What is Jupyter?\n",
    "\n",
    "Jupyter is a Web-based interface for Python. If you're using Jupyter, then you have the illusion of writing Python inside of your browser. \n",
    "\n",
    "You can install Jupyter on your own computer. It can be complex for someone who is new to programming.\n",
    "\n",
    "One way to get Jupyter (or something like it) on your computer is to use Google Colab. "
   ]
  },
  {
   "cell_type": "markdown",
   "metadata": {},
   "source": [
    "# What is a programming language? What is Python?\n",
    "\n",
    "A general-purpose computer can be given instructions as to what it should do. Those instructions come in the form of binary numbers (1s and 0s). You can, in theory, write those 1s and 0s yourself -- but it's not fun or easy.\n",
    "\n",
    "Instead, we write programs in a \"high-level language,\" one that is closer to how humans think and write, and then our program is translated into binary format.\n",
    "\n",
    "Every programming language works in a slightly different way. Some are closer to the binary code, and some are closer to how humans think and write.\n",
    "\n",
    "- C is a \"low-level language,\" because it's closer to the hardware\n",
    "- Java and C# are mid-level languages, because they're higher level than C, taking care of such things as managing the memory in your program, but they still require you to think a lot like a computer\n",
    "- Python is a \"very high level language,\" where it tries to look and feel like a natural language.\n",
    "\n",
    "Programming languages need to be unambiguous and clear. Python, though, is designed to be as easy as possible for people to learn, while still providing us with the same power as other languages.  \"Low floors and high ceilings\"\n",
    "\n",
    "Who is using Python, and for what?\n",
    "- Python is the #1 language for data science and machine learning\n",
    "- Web applications\n",
    "- Devops\n",
    "- APIs (consumption and production)\n",
    "- Education\n",
    "\n",
    "The one place where Python is missing (sort of) is on mobile apps. But that is (slowly) changing.\n",
    "\n",
    "What's the drawback of Python? It doesn't execute as quickly as Java, C#, or even C.  Python is a perfect language for an age in which people are expensive, and computers are cheap.\n",
    "\n"
   ]
  },
  {
   "cell_type": "markdown",
   "metadata": {},
   "source": [
    "# Quick intro to Jupyter\n",
    "\n",
    "Everything in Jupyter is done inside of \"cells.\" I'm typing, right now, into a cell.\n",
    "\n",
    "Every cell has a \"mode,\" typically either Python code or Markdown. (Right now, I'm in Markdown mode.) Markdown is used for creating HTML/stylized text easily, with just plain text.\n",
    "\n",
    "When I'm in Markdown mode, I'm just typing. I can format it by using shift+ENTER. (Some computers, control-ENTER, some alt-ENTER.)"
   ]
  },
  {
   "cell_type": "code",
   "execution_count": 1,
   "metadata": {},
   "outputs": [
    {
     "name": "stdout",
     "output_type": "stream",
     "text": [
      "Hello, world!\n"
     ]
    }
   ],
   "source": [
    "# the below line is Python code; we're running the \"print\" function, and telling it to display text \n",
    "\n",
    "# anything with a # before it in Python is a comment. It is completely ignored by the language\n",
    "# comments are notes to yourself in the future, or to colleagues who will want to read your code.\n",
    "\n",
    "print('Hello, world!')  \n",
    "\n",
    "# how can I execute this code cell? I press shift+ENTER"
   ]
  },
  {
   "cell_type": "markdown",
   "metadata": {},
   "source": [
    "# What did we do above?\n",
    "\n",
    "- `print` is a function -- a verb -- in the Python world. It displays things on the screen.\n",
    "- To execute the function, and get it to do something, we put parentheses after its name.\n",
    "- We can ask it to print text by putting that text inside of the parentheses\n",
    "- Note that text must be inside of quotes, either `''` or `\"\"`. (You can use either; there is no difference, but the start quotes must match the end quotes.)"
   ]
  },
  {
   "cell_type": "code",
   "execution_count": 2,
   "metadata": {},
   "outputs": [
    {
     "name": "stdout",
     "output_type": "stream",
     "text": [
      "Reuven\n"
     ]
    }
   ],
   "source": [
    "print('Reuven')"
   ]
  },
  {
   "cell_type": "code",
   "execution_count": 3,
   "metadata": {},
   "outputs": [
    {
     "name": "stdout",
     "output_type": "stream",
     "text": [
      "50\n"
     ]
    }
   ],
   "source": [
    "# I can even print numbers\n",
    "print(50)"
   ]
  },
  {
   "cell_type": "code",
   "execution_count": 4,
   "metadata": {},
   "outputs": [
    {
     "name": "stdout",
     "output_type": "stream",
     "text": [
      "53\n"
     ]
    }
   ],
   "source": [
    "print(50+3)   # here, I add 50+3, getting 53, and that number is then displayed on the screen"
   ]
  },
  {
   "cell_type": "code",
   "execution_count": 5,
   "metadata": {},
   "outputs": [
    {
     "name": "stdout",
     "output_type": "stream",
     "text": [
      "503\n"
     ]
    }
   ],
   "source": [
    "# numbers don't have quotes around them\n",
    "# text does\n",
    "\n",
    "# what if I add together something slightly different:\n",
    "print('50' + '3')   # can I add together two pieces of text with +?"
   ]
  },
  {
   "cell_type": "code",
   "execution_count": 7,
   "metadata": {},
   "outputs": [
    {
     "ename": "TypeError",
     "evalue": "unsupported operand type(s) for +: 'int' and 'str'",
     "output_type": "error",
     "traceback": [
      "\u001b[1;31m---------------------------------------------------------------------------\u001b[0m",
      "\u001b[1;31mTypeError\u001b[0m                                 Traceback (most recent call last)",
      "Cell \u001b[1;32mIn[7], line 6\u001b[0m\n\u001b[0;32m      1\u001b[0m \u001b[38;5;66;03m# What happens, by  the way, if I try to add together a number and text?\u001b[39;00m\n\u001b[0;32m      2\u001b[0m \n\u001b[0;32m      3\u001b[0m \u001b[38;5;66;03m# will Python turn the number into text, and give us '503'?\u001b[39;00m\n\u001b[0;32m      4\u001b[0m \u001b[38;5;66;03m# will Python turn the text into a number, and give us 53?\u001b[39;00m\n\u001b[0;32m      5\u001b[0m \u001b[38;5;66;03m# or will it give up, and give us an error?  *** this is the answer\u001b[39;00m\n\u001b[1;32m----> 6\u001b[0m \u001b[38;5;28mprint\u001b[39m(\u001b[38;5;241;43m50\u001b[39;49m\u001b[43m \u001b[49m\u001b[38;5;241;43m+\u001b[39;49m\u001b[43m \u001b[49m\u001b[38;5;124;43m'\u001b[39;49m\u001b[38;5;124;43m3\u001b[39;49m\u001b[38;5;124;43m'\u001b[39;49m)\n",
      "\u001b[1;31mTypeError\u001b[0m: unsupported operand type(s) for +: 'int' and 'str'"
     ]
    }
   ],
   "source": [
    "# What happens, by  the way, if I try to add together a number and text?\n",
    "\n",
    "# will Python turn the number into text, and give us '503'?\n",
    "# will Python turn the text into a number, and give us 53?\n",
    "# or will it give up, and give us an error?  *** this is the answer\n",
    "print(50 + '3')"
   ]
  },
  {
   "cell_type": "code",
   "execution_count": 11,
   "metadata": {},
   "outputs": [
    {
     "ename": "IndentationError",
     "evalue": "unexpected indent (765528687.py, line 2)",
     "output_type": "error",
     "traceback": [
      "\u001b[1;36m  Cell \u001b[1;32mIn[11], line 2\u001b[1;36m\u001b[0m\n\u001b[1;33m    print(50 + 3)\u001b[0m\n\u001b[1;37m    ^\u001b[0m\n\u001b[1;31mIndentationError\u001b[0m\u001b[1;31m:\u001b[0m unexpected indent\n"
     ]
    }
   ],
   "source": [
    "print(50 + 3)\n",
    "    print(50 + 3)\n",
    "print(50 + 3)"
   ]
  },
  {
   "cell_type": "code",
   "execution_count": 12,
   "metadata": {},
   "outputs": [
    {
     "name": "stdout",
     "output_type": "stream",
     "text": [
      "30\n"
     ]
    }
   ],
   "source": [
    "# what if I want to keep values around, rather than typing them explicitly at the computer?\n",
    "# we can assign a value to a variable. Then we can refer to that value with the variable.\n",
    "\n",
    "# assignment is done with the = sign. This is *NOT* the same = as you use in mathematics!\n",
    "# In math, = means that the left side is the same as the right side.\n",
    "# In Python, = means that we take the value from the right side, and assign it to the variable on the left side.\n",
    "\n",
    "x = 10    \n",
    "y = 20\n",
    "\n",
    "# after executing the above lines, we can refer to x and y, rather than to 10 and 20\n",
    "\n",
    "print(x+y)"
   ]
  },
  {
   "cell_type": "code",
   "execution_count": 13,
   "metadata": {},
   "outputs": [
    {
     "data": {
      "text/plain": [
       "10"
      ]
     },
     "execution_count": 13,
     "metadata": {},
     "output_type": "execute_result"
    }
   ],
   "source": [
    "# by the way, in Jupyter (not in regular Python code!), if the final line of a cell is\n",
    "# a value, then we don't need to use print to display it. Jupyter will just show it to us\n",
    "\n",
    "x"
   ]
  },
  {
   "cell_type": "code",
   "execution_count": 14,
   "metadata": {},
   "outputs": [
    {
     "data": {
      "text/plain": [
       "30"
      ]
     },
     "execution_count": 14,
     "metadata": {},
     "output_type": "execute_result"
    }
   ],
   "source": [
    "x+y"
   ]
  },
  {
   "cell_type": "markdown",
   "metadata": {},
   "source": [
    "# Variables\n",
    "\n",
    "1. What names can we give our variables?\n",
    "- Any combination of letters, digits, and `_` is acceptable\n",
    "    - Except: Don't start with a digit (not allowed)\n",
    "    - Except: Don't start with `_` (per convention)\n",
    "- Capital and lowercase letters are different! By tradition, in Python, we only use lowercase letters in our variable names\n",
    "- Try to use variable names that mean something; Python couldn't care less what you call your variables, but your colleagues will care a lot!\n",
    "\n",
    "2. Don't we need to declare them at some point?\n",
    "\n",
    "No! The first time you assign to a variable, it is created. Next times, the value will be assigned to that variable.\n",
    "\n",
    "In some languages, you need to declare variables in advance, to tell the language what type of value it will contain. Python variables can refer to any type of value at all! The notion of declaring them doesn't really exist. "
   ]
  },
  {
   "cell_type": "code",
   "execution_count": 15,
   "metadata": {},
   "outputs": [
    {
     "name": "stdout",
     "output_type": "stream",
     "text": [
      "Hello, Reuven!\n"
     ]
    }
   ],
   "source": [
    "name = 'Reuven'\n",
    "\n",
    "print('Hello, ' + name + '!')"
   ]
  },
  {
   "cell_type": "code",
   "execution_count": 16,
   "metadata": {},
   "outputs": [
    {
     "name": "stdout",
     "output_type": "stream",
     "text": [
      "30\n"
     ]
    }
   ],
   "source": [
    "x = 10\n",
    "y = 20\n",
    "\n",
    "print(x + y)"
   ]
  },
  {
   "cell_type": "markdown",
   "metadata": {},
   "source": [
    "# Exercise: Simple assignment and displaying\n",
    "\n",
    "1. Assign the variable `name` to your name, and print a nice greeting to yourself.\n",
    "2. Assign two numbers to `x` and `y`, and print the result of adding them together with `+`.\n",
    "\n"
   ]
  },
  {
   "cell_type": "code",
   "execution_count": 17,
   "metadata": {},
   "outputs": [
    {
     "name": "stdout",
     "output_type": "stream",
     "text": [
      "Variable   Type    Data/Info\n",
      "----------------------------\n",
      "name       str     Reuven\n",
      "x          int     10\n",
      "y          int     20\n"
     ]
    }
   ],
   "source": [
    "# if you're in Jupyter, you can use the \"magic command\" of %whos to get a list of all assigned variables\n",
    "\n",
    "%whos"
   ]
  },
  {
   "cell_type": "code",
   "execution_count": 18,
   "metadata": {},
   "outputs": [
    {
     "name": "stdout",
     "output_type": "stream",
     "text": [
      "Hello, Reuven!\n"
     ]
    }
   ],
   "source": [
    "name = 'Reuven'    # don't forget that text needs to have quotes around it -- variables *never* have quotes around them!\n",
    "\n",
    "print('Hello, ' + name + '!')"
   ]
  },
  {
   "cell_type": "code",
   "execution_count": 20,
   "metadata": {},
   "outputs": [
    {
     "name": "stdout",
     "output_type": "stream",
     "text": [
      "Hello,Reuven!\n"
     ]
    }
   ],
   "source": [
    "print('Hello,' + name + '!')  # no space at the end of the first string "
   ]
  },
  {
   "cell_type": "code",
   "execution_count": 22,
   "metadata": {},
   "outputs": [
    {
     "name": "stdout",
     "output_type": "stream",
     "text": [
      "Hello, Reuven!\n"
     ]
    }
   ],
   "source": [
    "greeting = 'Hello, ' + name + '!'    # assign a variable the value of our new text string\n",
    "print(greeting)"
   ]
  },
  {
   "cell_type": "code",
   "execution_count": 23,
   "metadata": {},
   "outputs": [
    {
     "name": "stdout",
     "output_type": "stream",
     "text": [
      "253\n"
     ]
    }
   ],
   "source": [
    "x = 15\n",
    "y = 238\n",
    "print(x + y)"
   ]
  },
  {
   "cell_type": "code",
   "execution_count": 24,
   "metadata": {},
   "outputs": [
    {
     "data": {
      "text/plain": [
       "str"
      ]
     },
     "execution_count": 24,
     "metadata": {},
     "output_type": "execute_result"
    }
   ],
   "source": [
    "# we can always ask Python what type of value is in a variable (or what type of value something is)\n",
    "# we can use the \"type\" function\n",
    "\n",
    "type('Reuven')"
   ]
  },
  {
   "cell_type": "code",
   "execution_count": 25,
   "metadata": {},
   "outputs": [
    {
     "data": {
      "text/plain": [
       "str"
      ]
     },
     "execution_count": 25,
     "metadata": {},
     "output_type": "execute_result"
    }
   ],
   "source": [
    "type(name)   # we assigned the variable 'name' to the text string 'Reuven'"
   ]
  },
  {
   "cell_type": "code",
   "execution_count": 26,
   "metadata": {},
   "outputs": [
    {
     "name": "stdout",
     "output_type": "stream",
     "text": [
      "Hello, Reuven!\n"
     ]
    }
   ],
   "source": [
    "print(\"Hello, \" + name + \"!\")"
   ]
  },
  {
   "cell_type": "code",
   "execution_count": 27,
   "metadata": {},
   "outputs": [
    {
     "data": {
      "text/plain": [
       "int"
      ]
     },
     "execution_count": 27,
     "metadata": {},
     "output_type": "execute_result"
    }
   ],
   "source": [
    "type(x)"
   ]
  },
  {
   "cell_type": "code",
   "execution_count": 28,
   "metadata": {},
   "outputs": [
    {
     "name": "stdout",
     "output_type": "stream",
     "text": [
      "hello\n"
     ]
    }
   ],
   "source": [
    "print('hello')  # this works fine"
   ]
  },
  {
   "cell_type": "code",
   "execution_count": 29,
   "metadata": {},
   "outputs": [
    {
     "ename": "NameError",
     "evalue": "name 'Print' is not defined",
     "output_type": "error",
     "traceback": [
      "\u001b[1;31m---------------------------------------------------------------------------\u001b[0m",
      "\u001b[1;31mNameError\u001b[0m                                 Traceback (most recent call last)",
      "Cell \u001b[1;32mIn[29], line 1\u001b[0m\n\u001b[1;32m----> 1\u001b[0m \u001b[43mPrint\u001b[49m(\u001b[38;5;124m'\u001b[39m\u001b[38;5;124mhello\u001b[39m\u001b[38;5;124m'\u001b[39m)   \u001b[38;5;66;03m# why does this not work?\u001b[39;00m\n",
      "\u001b[1;31mNameError\u001b[0m: name 'Print' is not defined"
     ]
    }
   ],
   "source": [
    "Print('hello')   # why does this not work?"
   ]
  },
  {
   "cell_type": "code",
   "execution_count": 30,
   "metadata": {},
   "outputs": [
    {
     "ename": "TypeError",
     "evalue": "can only concatenate str (not \"int\") to str",
     "output_type": "error",
     "traceback": [
      "\u001b[1;31m---------------------------------------------------------------------------\u001b[0m",
      "\u001b[1;31mTypeError\u001b[0m                                 Traceback (most recent call last)",
      "Cell \u001b[1;32mIn[30], line 10\u001b[0m\n\u001b[0;32m      6\u001b[0m total \u001b[38;5;241m=\u001b[39m x \u001b[38;5;241m+\u001b[39m y\n\u001b[0;32m      8\u001b[0m \u001b[38;5;66;03m# never mind that this code is super ugly!\u001b[39;00m\n\u001b[0;32m      9\u001b[0m \u001b[38;5;66;03m# it also won't work!\u001b[39;00m\n\u001b[1;32m---> 10\u001b[0m \u001b[38;5;28mprint\u001b[39m(\u001b[38;5;124;43m'\u001b[39;49m\u001b[38;5;124;43mWhen you add \u001b[39;49m\u001b[38;5;124;43m'\u001b[39;49m\u001b[43m \u001b[49m\u001b[38;5;241;43m+\u001b[39;49m\u001b[43m \u001b[49m\u001b[43mx\u001b[49m \u001b[38;5;241m+\u001b[39m \u001b[38;5;124m'\u001b[39m\u001b[38;5;124m and \u001b[39m\u001b[38;5;124m'\u001b[39m \u001b[38;5;241m+\u001b[39m y \u001b[38;5;241m+\u001b[39m \u001b[38;5;124m'\u001b[39m\u001b[38;5;124m, you get \u001b[39m\u001b[38;5;124m'\u001b[39m \u001b[38;5;241m+\u001b[39m total \u001b[38;5;241m+\u001b[39m \u001b[38;5;124m'\u001b[39m\u001b[38;5;124m.\u001b[39m\u001b[38;5;124m'\u001b[39m)\n",
      "\u001b[1;31mTypeError\u001b[0m: can only concatenate str (not \"int\") to str"
     ]
    }
   ],
   "source": [
    "# what if I want to display numbers and text together?\n",
    "# we've seen that this will fail in a big way.\n",
    "\n",
    "x = 10\n",
    "y = 20\n",
    "total = x + y\n",
    "\n",
    "# never mind that this code is super ugly!\n",
    "# it also won't work!\n",
    "print('When you add ' + x + ' and ' + y + ', you get ' + total + '.')"
   ]
  },
  {
   "cell_type": "code",
   "execution_count": 31,
   "metadata": {},
   "outputs": [
    {
     "name": "stdout",
     "output_type": "stream",
     "text": [
      "When you add 10 and 20, you get 30.\n"
     ]
    }
   ],
   "source": [
    "# we can solve this problem by using a special kind of string\n",
    "# known as an \"f-string\"\n",
    "# basically: Put an f before the opening quote\n",
    "# then inside of the string, you can put {}, and inside of those, you can put Python values\n",
    "# they will automatically be turned into strings, if they aren't already\n",
    "\n",
    "print(f'When you add {x} and {y}, you get {total}.')"
   ]
  },
  {
   "cell_type": "code",
   "execution_count": 32,
   "metadata": {},
   "outputs": [
    {
     "name": "stdout",
     "output_type": "stream",
     "text": [
      "When you add 10 and 20, you get 30.\n"
     ]
    }
   ],
   "source": [
    "# we can do even better!\n",
    "\n",
    "print(f'When you add {x} and {y}, you get {x+y}.')"
   ]
  },
  {
   "cell_type": "markdown",
   "metadata": {},
   "source": [
    "# Next up\n",
    "\n",
    "- Getting input from the user\n",
    "- Equality and comparisons\n",
    "- `if` and making decisions in our programs"
   ]
  },
  {
   "cell_type": "code",
   "execution_count": 33,
   "metadata": {},
   "outputs": [
    {
     "name": "stdin",
     "output_type": "stream",
     "text": [
      "Enter your name:  Reuven\n"
     ]
    }
   ],
   "source": [
    "# how can we get input from the user?\n",
    "# answer: the input function!\n",
    "\n",
    "# the input function takes an argument, a text string -- the question that will be presented to the user\n",
    "# whatever the user enters is returned by the input function -- and is returned as a text string\n",
    "# normally, we'll then take that input and assign it to a variable\n",
    "\n",
    "# in assignment in Python, *ALWAYS* the right side executes before the left\n",
    "# here, the input function will run, and wait for the user's input\n",
    "# whatever the user types will be assigned to the name variable\n",
    "name = input('Enter your name: ')"
   ]
  },
  {
   "cell_type": "code",
   "execution_count": 34,
   "metadata": {},
   "outputs": [
    {
     "name": "stdout",
     "output_type": "stream",
     "text": [
      "Reuven\n"
     ]
    }
   ],
   "source": [
    "print(name)"
   ]
  },
  {
   "cell_type": "code",
   "execution_count": 35,
   "metadata": {},
   "outputs": [
    {
     "data": {
      "text/plain": [
       "str"
      ]
     },
     "execution_count": 35,
     "metadata": {},
     "output_type": "execute_result"
    }
   ],
   "source": [
    "type(name)"
   ]
  },
  {
   "cell_type": "code",
   "execution_count": 36,
   "metadata": {},
   "outputs": [
    {
     "name": "stdin",
     "output_type": "stream",
     "text": [
      "Enter your favorite number:  72\n"
     ]
    }
   ],
   "source": [
    "favorite_number = input('Enter your favorite number: ')"
   ]
  },
  {
   "cell_type": "code",
   "execution_count": 37,
   "metadata": {},
   "outputs": [
    {
     "name": "stdout",
     "output_type": "stream",
     "text": [
      "7272\n"
     ]
    }
   ],
   "source": [
    "# remember: input always returns a text string\n",
    "# it so happens that in Python, multiplying a text string by an integer gives you a new, longer string\n",
    "\n",
    "print(favorite_number * 2)   # what will happen?"
   ]
  },
  {
   "cell_type": "code",
   "execution_count": 38,
   "metadata": {},
   "outputs": [
    {
     "data": {
      "text/plain": [
       "4"
      ]
     },
     "execution_count": 38,
     "metadata": {},
     "output_type": "execute_result"
    }
   ],
   "source": [
    "# we can think of a function as something that calculates a value and then \"returns it\" to us.\n",
    "# so far, we haven't seen much of that, because print doesn't really return something -- it displays on the screen.\n",
    "# most functions are invoked to get their value back\n",
    "\n",
    "# input's value is whatever the user typed.\n",
    "\n",
    "# another function is \"len\", which tells us the length of a string\n",
    "len('abcd')"
   ]
  },
  {
   "cell_type": "code",
   "execution_count": 39,
   "metadata": {},
   "outputs": [],
   "source": [
    "# because len('abcd') returns 4\n",
    "# and because we're assigning that value to length_of_the_string\n",
    "\n",
    "length_of_the_string = len('abcd')"
   ]
  },
  {
   "cell_type": "code",
   "execution_count": 40,
   "metadata": {},
   "outputs": [
    {
     "name": "stdout",
     "output_type": "stream",
     "text": [
      "4\n"
     ]
    }
   ],
   "source": [
    "print(length_of_the_string)"
   ]
  },
  {
   "cell_type": "markdown",
   "metadata": {},
   "source": [
    "# Exercise: Friendly greeting\n",
    "\n",
    "1. Ask the user to enter their name, and assign that to the variable `name`.\n",
    "2. Ask the user to enter their country, and assign to the variable `country`.\n",
    "3. Print a friendly greeting, showing both the name and the country.\n",
    "\n"
   ]
  },
  {
   "cell_type": "code",
   "execution_count": 41,
   "metadata": {},
   "outputs": [
    {
     "name": "stdin",
     "output_type": "stream",
     "text": [
      "Enter your name:  Reuven\n",
      "Enter your country:  Israel\n"
     ]
    },
    {
     "name": "stdout",
     "output_type": "stream",
     "text": [
      "Hello, Reuven from Israel!\n"
     ]
    }
   ],
   "source": [
    "name = input('Enter your name: ')\n",
    "country = input('Enter your country: ')\n",
    "\n",
    "print(f'Hello, {name} from {country}!')"
   ]
  },
  {
   "cell_type": "code",
   "execution_count": 42,
   "metadata": {},
   "outputs": [
    {
     "data": {
      "text/plain": [
       "True"
      ]
     },
     "execution_count": 42,
     "metadata": {},
     "output_type": "execute_result"
    }
   ],
   "source": [
    "# we've seen at least one operator, namely +, which lets us add things together\n",
    "# the result of + is a new integer or a new text string\n",
    "\n",
    "# there are a bunch of other operators, comparison operators, that return True/False\n",
    "# they are around to tell us whether things are the same or different.\n",
    "# they are:\n",
    "\n",
    "# == -- this is the \"equality\" operator. It returns True if the things on both sides are the same\n",
    "\n",
    "x = 10\n",
    "y = 10\n",
    "\n",
    "x == y   # this returns True/False"
   ]
  },
  {
   "cell_type": "code",
   "execution_count": 43,
   "metadata": {},
   "outputs": [
    {
     "data": {
      "text/plain": [
       "False"
      ]
     },
     "execution_count": 43,
     "metadata": {},
     "output_type": "execute_result"
    }
   ],
   "source": [
    "x = 10\n",
    "y = 20\n",
    "\n",
    "x == y  "
   ]
  },
  {
   "cell_type": "code",
   "execution_count": 44,
   "metadata": {},
   "outputs": [
    {
     "data": {
      "text/plain": [
       "False"
      ]
     },
     "execution_count": 44,
     "metadata": {},
     "output_type": "execute_result"
    }
   ],
   "source": [
    "x = 10\n",
    "y = '10'   # text string 10\n",
    "\n",
    "x == y"
   ]
  },
  {
   "cell_type": "markdown",
   "metadata": {},
   "source": [
    "# Comparison operators\n",
    "\n",
    "- `==` -- equality, returns `True` if they are equal in value\n",
    "- `!=` -- inequality, returns `True` if they are *not* equal in value\n",
    "- `<` -- less than\n",
    "- `>` -- greater than\n",
    "- `<=` -- less than or equal\n",
    "- `>=` -- greater than or equal\n",
    "\n",
    "Note that `!=` is one operator, all together. It is *not* the `!` operator that flips the logic of whatever comes to its right."
   ]
  },
  {
   "cell_type": "markdown",
   "metadata": {},
   "source": [
    "# Conditionals\n",
    "\n",
    "The core of all programming is the ability to make a decision based on data. If something is `True`, then we want to do one thing. If it's `False`, then we want to do another thing. \n",
    "\n",
    "The way that we make these decisions is with \"conditionals.\""
   ]
  },
  {
   "cell_type": "markdown",
   "metadata": {},
   "source": [
    "# How do we write conditionals?\n",
    "\n",
    "1. We start with `if`. To the right of `if` is an expression that returns `True` or `False`.\n",
    "    - No parentheses are needed around the condition\n",
    "    - At the end of the line, you *must* have a colon (`:`)\n",
    "2. Following `if`, you have one or more lines that are indented, known as a \"block\"\n",
    "    - Must have at least one line\n",
    "    - Indentation can be any combination of tabs and spaces, *but* you must be consistent; the Python world has generally standardized on 4 spaces\n",
    "    - If you're typing on the space bar to indent, then you're doing something wrong -- your tools for writing Python should know how to indent\n",
    "    - To finish indentation, just use backspace\n",
    "3. You can then have an `else`, which is optional\n",
    "    - Must have a colon at the end of the line\n",
    "    - This block executes if the `if`'s expression was `False`\n",
    "    - Another indented block, just like the previous one\n",
    "  \n",
    "If you use `if`/`else`, then one -- and only one! -- of those blocks is guaranteed to run. "
   ]
  },
  {
   "cell_type": "code",
   "execution_count": 47,
   "metadata": {},
   "outputs": [
    {
     "name": "stdin",
     "output_type": "stream",
     "text": [
      "Enter your name:  someone else\n"
     ]
    },
    {
     "name": "stdout",
     "output_type": "stream",
     "text": [
      "Hello, someone else. Who are you?\n"
     ]
    }
   ],
   "source": [
    "name = input('Enter your name: ')\n",
    "\n",
    "if name == 'Reuven':\n",
    "    print('Hello, boss!')\n",
    "    print('It has been far too long!')\n",
    "else:\n",
    "    print(f'Hello, {name}. Who are you?')    "
   ]
  },
  {
   "cell_type": "markdown",
   "metadata": {},
   "source": [
    "#  Exercise: Which word comes first?\n",
    "\n",
    "1. Ask the user to enter two words, each with its own call to `input` and assigned to a different variable. (Use `first` and `second` as the variables.)\n",
    "2. Indicate which of the words comes earlier alphabetically.\n",
    "\n",
    "Hints/tips:\n",
    "- Let's assume that the user will *not* enter the same word twice.\n",
    "- Also assume that the user will enter only lowercase letters, no punctuation/spaces/etc.\n",
    "- You can use `<` and `>` to compare text strings, not just numbers. Whatever comes earlier alphabetically is considered to be \"less than\" the other."
   ]
  },
  {
   "cell_type": "code",
   "execution_count": 49,
   "metadata": {},
   "outputs": [
    {
     "name": "stdin",
     "output_type": "stream",
     "text": [
      "Enter first word:  soup\n",
      "Enter second word:  dessert\n"
     ]
    },
    {
     "name": "stdout",
     "output_type": "stream",
     "text": [
      "dessert comes before soup\n"
     ]
    }
   ],
   "source": [
    "first = input('Enter first word: ')\n",
    "second = input('Enter second word: ')\n",
    "\n",
    "if first < second:\n",
    "    print(f'{first} comes before {second}')\n",
    "else:\n",
    "    print(f'{second} comes before {first}')"
   ]
  },
  {
   "cell_type": "code",
   "execution_count": 50,
   "metadata": {},
   "outputs": [
    {
     "name": "stdin",
     "output_type": "stream",
     "text": [
      "Enter first word:  dessert\n",
      "Enter second word:  soup\n"
     ]
    },
    {
     "name": "stdout",
     "output_type": "stream",
     "text": [
      "dessert comes before soup\n",
      "soup comes after dessert\n"
     ]
    }
   ],
   "source": [
    "# RM\n",
    "\n",
    "first = input('Enter first word: ')\n",
    "second = input('Enter second word: ')\n",
    "\n",
    "if first < second:\n",
    "    print(f'{first} comes before {second}')\n",
    "else:\n",
    "    print(f'{second} comes before {first}')\n",
    "\n",
    "if first > second:\n",
    "    print(f'{first} comes after {second}')\n",
    "else:\n",
    "    print(f'{second} comes after {first}')"
   ]
  },
  {
   "cell_type": "code",
   "execution_count": 52,
   "metadata": {},
   "outputs": [
    {
     "name": "stdout",
     "output_type": "stream",
     "text": [
      "dessert comes first\n"
     ]
    }
   ],
   "source": [
    "# JG\n",
    "print (first + \" comes first\")"
   ]
  },
  {
   "cell_type": "code",
   "execution_count": 54,
   "metadata": {},
   "outputs": [],
   "source": [
    "# how does Python compare text strings?\n",
    "\n",
    "# it compares the first letter of each string. If the letters are different, then it declares a winner\n",
    "# if not, then it compares the second letters. If the letters are different, then it declares a winnner\n",
    "#. ...\n",
    "# it keeps doing this until:\n",
    "# - the strings are identical\n",
    "# - one ends earlier than the other\n",
    "# - it compares all of the characters\n"
   ]
  },
  {
   "cell_type": "code",
   "execution_count": 55,
   "metadata": {},
   "outputs": [
    {
     "name": "stdout",
     "output_type": "stream",
     "text": [
      "Greater than 40!\n"
     ]
    }
   ],
   "source": [
    "# what about an additional comparison?\n",
    "# that is: What if we don't have just two options, but there are more options than that?\n",
    "# we can use an \"elif\" clause\n",
    "# elif is basically \"elseif\" -- it comes between the \"if\" and any \"else\"\n",
    "# elif has its own comparison\n",
    "# you can have as many \"elif\" clauses as you want\n",
    "# the first one that has a True condition executes; the rest are ignored.\n",
    "\n",
    "x = 50\n",
    "\n",
    "if x > 100:\n",
    "    print('Greater than 100!')\n",
    "elif x > 60:\n",
    "    print('Greater than 60!')\n",
    "elif x > 40:\n",
    "    print('Greater than 40!')\n",
    "elif x > 0:\n",
    "    print('Greater than 0!')\n",
    "else:\n",
    "    print('Very sad; it is <= 0')"
   ]
  },
  {
   "cell_type": "code",
   "execution_count": 56,
   "metadata": {},
   "outputs": [
    {
     "name": "stdout",
     "output_type": "stream",
     "text": [
      "Greater than 0!\n"
     ]
    }
   ],
   "source": [
    "# notice that the if/elif/else clauses are checked *in order*\n",
    "# this means that the order matters!\n",
    "\n",
    "\n",
    "x = 50\n",
    "\n",
    "if x > 0:\n",
    "    print('Greater than 0!')\n",
    "elif x > 40:\n",
    "    print('Greater than 40!')\n",
    "elif x > 60:\n",
    "    print('Greater than 60!')\n",
    "elif x > 100:\n",
    "    print('Greater than 100!')\n",
    "else:\n",
    "    print('Very sad; it is <= 0')"
   ]
  },
  {
   "cell_type": "code",
   "execution_count": 59,
   "metadata": {},
   "outputs": [
    {
     "name": "stdin",
     "output_type": "stream",
     "text": [
      "Enter your name:  Hi there\n"
     ]
    }
   ],
   "source": [
    "name = input('Enter your name: ')\n",
    "\n",
    "if name == 'Reuven':\n",
    "    print('Hi, boss!')\n",
    "elif name == 'someone else':\n",
    "    print('That is an odd name')\n",
    "\n",
    "print('Done')\n"
   ]
  },
  {
   "cell_type": "markdown",
   "metadata": {},
   "source": [
    "# Exercise: Which comes first? (with a tie-breaker)\n",
    "\n",
    "Repeat the previous exercise, but now tell the user if the two words are the same (rather than which comes first)."
   ]
  },
  {
   "cell_type": "code",
   "execution_count": 62,
   "metadata": {},
   "outputs": [
    {
     "name": "stdin",
     "output_type": "stream",
     "text": [
      "Enter first word:  telephone\n",
      "Enter second word:  Telephone\n"
     ]
    },
    {
     "name": "stdout",
     "output_type": "stream",
     "text": [
      "Telephone comes before telephone\n"
     ]
    }
   ],
   "source": [
    "first = input('Enter first word: ')\n",
    "second = input('Enter second word: ')\n",
    "\n",
    "if first < second:\n",
    "    print(f'{first} comes before {second}')\n",
    "elif first > second:\n",
    "    print(f'{second} comes before {first}')\n",
    "else:\n",
    "    print(f'{first} and {second} are the same!')"
   ]
  },
  {
   "cell_type": "code",
   "execution_count": null,
   "metadata": {},
   "outputs": [],
   "source": []
  },
  {
   "cell_type": "markdown",
   "metadata": {},
   "source": [
    "# Next up\n",
    "\n",
    "- or/and/not -- making our comparisons more sophisticated\n",
    "- Working with numbers (integers and floats)\n",
    "- Working with text strings\n",
    "- String methods"
   ]
  },
  {
   "cell_type": "code",
   "execution_count": 63,
   "metadata": {},
   "outputs": [],
   "source": [
    "# sometimes, we don't want to check just one thing\n",
    "# sometimes, we want to know if A *and* B are both true\n",
    "# or, in some cases, we want to know if A *or* B is true\n",
    "\n",
    "# we can do that in Python with\n",
    "# - and\n",
    "# - or\n",
    "# - not (which flips the logic of whatever is to its right, from True -> False or False -> True\n",
    "\n"
   ]
  },
  {
   "cell_type": "code",
   "execution_count": 64,
   "metadata": {},
   "outputs": [
    {
     "data": {
      "text/plain": [
       "True"
      ]
     },
     "execution_count": 64,
     "metadata": {},
     "output_type": "execute_result"
    }
   ],
   "source": [
    "x = 10\n",
    "y = 20\n",
    "\n",
    "x == 10"
   ]
  },
  {
   "cell_type": "code",
   "execution_count": 65,
   "metadata": {},
   "outputs": [
    {
     "data": {
      "text/plain": [
       "True"
      ]
     },
     "execution_count": 65,
     "metadata": {},
     "output_type": "execute_result"
    }
   ],
   "source": [
    "y == 20"
   ]
  },
  {
   "cell_type": "code",
   "execution_count": 66,
   "metadata": {},
   "outputs": [
    {
     "name": "stdout",
     "output_type": "stream",
     "text": [
      "Yes, both are what you want!\n"
     ]
    }
   ],
   "source": [
    "#      True    and     True  ---> True\n",
    "if    x == 10   and   y == 20:\n",
    "    print('Yes, both are what you want!')"
   ]
  },
  {
   "cell_type": "code",
   "execution_count": 67,
   "metadata": {},
   "outputs": [],
   "source": [
    "#       False     and    True   -->  False\n",
    "if    x == 100   and   y == 20:\n",
    "    print('Yes, both are what you want!')"
   ]
  },
  {
   "cell_type": "code",
   "execution_count": 68,
   "metadata": {},
   "outputs": [
    {
     "name": "stdout",
     "output_type": "stream",
     "text": [
      "Yes, at least one is what you want!\n"
     ]
    }
   ],
   "source": [
    "# or means: if one of them is True, then it's True\n",
    "\n",
    "#       False     or    True   --> True\n",
    "if    x == 100   or   y == 20:\n",
    "    print('Yes, at least one is what you want!')"
   ]
  },
  {
   "cell_type": "code",
   "execution_count": 70,
   "metadata": {},
   "outputs": [
    {
     "name": "stdout",
     "output_type": "stream",
     "text": [
      "Yes, at least one is what you want!\n"
     ]
    }
   ],
   "source": [
    "# in general, one line in Python = one statement/command/expression\n",
    "# what if you want to split something across lines?\n",
    "\n",
    "# if you have open parentheses, then Python is much more flexible about this sort of thing\n",
    "# still-open parentheses are treated as a continuation of the previous line\n",
    "\n",
    "if (x == 100 or\n",
    "    y == 20):\n",
    "    print('Yes, at least one is what you want!')"
   ]
  },
  {
   "cell_type": "code",
   "execution_count": 71,
   "metadata": {},
   "outputs": [
    {
     "name": "stdout",
     "output_type": "stream",
     "text": [
      "It is not 20\n"
     ]
    }
   ],
   "source": [
    "# not is used more rarely, but we can use it\n",
    "\n",
    "x = 10\n",
    "\n",
    "if not x == 20:\n",
    "    print('It is not 20')"
   ]
  },
  {
   "cell_type": "markdown",
   "metadata": {},
   "source": [
    "# Exercise: Name and company\n",
    "\n",
    "1. Ask the user to enter their name, and assign to the variable `name`.\n",
    "2. Ask the user to enter their company, and assign to the variable `company`.\n",
    "3. Print one of four things:\n",
    "    - If the name and company are the same as you, then greet yourself\n",
    "    - If the name is the same, but the company is different, greet someone else with a great name\n",
    "    - If the company is the same, but the name is different, greet your colleague\n",
    "    - If both name and company are different, give a snarky greeting.\n",
    "\n"
   ]
  },
  {
   "cell_type": "code",
   "execution_count": null,
   "metadata": {},
   "outputs": [],
   "source": []
  },
  {
   "cell_type": "code",
   "execution_count": 72,
   "metadata": {},
   "outputs": [],
   "source": [
    "# don't say \"if not ... == \" rather say != "
   ]
  },
  {
   "cell_type": "code",
   "execution_count": 73,
   "metadata": {},
   "outputs": [
    {
     "name": "stdin",
     "output_type": "stream",
     "text": [
      "Enter your name:  asdfsafafdsa\n",
      "Enter your company:  asdfafafsafsafas\n"
     ]
    },
    {
     "name": "stdout",
     "output_type": "stream",
     "text": [
      "Hello, weirdo with a terrible name and a terrible employer!\n"
     ]
    }
   ],
   "source": [
    "name = input('Enter your name: ')\n",
    "company = input('Enter your company: ')\n",
    "\n",
    "if name == 'Reuven' and company == 'Lerner':\n",
    "    print('Hey, you are me!')\n",
    "elif name == 'Reuven':\n",
    "    print('Great name, person from another company!')\n",
    "elif company == 'Lerner':\n",
    "    print('Hello, my colleague!')\n",
    "else:\n",
    "    print('Hello, weirdo with a terrible name and a terrible employer!')"
   ]
  },
  {
   "cell_type": "code",
   "execution_count": 74,
   "metadata": {},
   "outputs": [],
   "source": [
    "# some programming languages let you use <> for \"not equal\" -- not in Python, where it's !="
   ]
  },
  {
   "cell_type": "code",
   "execution_count": 75,
   "metadata": {},
   "outputs": [
    {
     "data": {
      "text/plain": [
       "int"
      ]
     },
     "execution_count": 75,
     "metadata": {},
     "output_type": "execute_result"
    }
   ],
   "source": [
    "# Let's talk about numbers in Python!\n",
    "\n",
    "# int -- integers, whole numbers\n",
    "# float -- numbers with a decimal point\n",
    "\n",
    "x = 10\n",
    "type(x)"
   ]
  },
  {
   "cell_type": "code",
   "execution_count": 76,
   "metadata": {},
   "outputs": [],
   "source": [
    "x = 10\n",
    "y = 3\n",
    "\n"
   ]
  },
  {
   "cell_type": "code",
   "execution_count": 77,
   "metadata": {},
   "outputs": [
    {
     "data": {
      "text/plain": [
       "13"
      ]
     },
     "execution_count": 77,
     "metadata": {},
     "output_type": "execute_result"
    }
   ],
   "source": [
    "# what operations can I do on these?\n",
    "\n",
    "x + y   # addition"
   ]
  },
  {
   "cell_type": "code",
   "execution_count": 78,
   "metadata": {},
   "outputs": [
    {
     "data": {
      "text/plain": [
       "7"
      ]
     },
     "execution_count": 78,
     "metadata": {},
     "output_type": "execute_result"
    }
   ],
   "source": [
    "x - y # subtraction"
   ]
  },
  {
   "cell_type": "code",
   "execution_count": 79,
   "metadata": {},
   "outputs": [
    {
     "data": {
      "text/plain": [
       "30"
      ]
     },
     "execution_count": 79,
     "metadata": {},
     "output_type": "execute_result"
    }
   ],
   "source": [
    "x * y   # multiplication"
   ]
  },
  {
   "cell_type": "code",
   "execution_count": 81,
   "metadata": {},
   "outputs": [
    {
     "data": {
      "text/plain": [
       "3.3333333333333335"
      ]
     },
     "execution_count": 81,
     "metadata": {},
     "output_type": "execute_result"
    }
   ],
   "source": [
    "x / y   # division  -- we get a floating-point value back"
   ]
  },
  {
   "cell_type": "code",
   "execution_count": 82,
   "metadata": {},
   "outputs": [
    {
     "data": {
      "text/plain": [
       "3"
      ]
     },
     "execution_count": 82,
     "metadata": {},
     "output_type": "execute_result"
    }
   ],
   "source": [
    "x // y   # floor division -- we get the answer as an integer, chopping off any fractional part"
   ]
  },
  {
   "cell_type": "code",
   "execution_count": 83,
   "metadata": {},
   "outputs": [
    {
     "data": {
      "text/plain": [
       "1000"
      ]
     },
     "execution_count": 83,
     "metadata": {},
     "output_type": "execute_result"
    }
   ],
   "source": [
    "x ** y   # exponentiation"
   ]
  },
  {
   "cell_type": "code",
   "execution_count": 85,
   "metadata": {},
   "outputs": [
    {
     "data": {
      "text/plain": [
       "1"
      ]
     },
     "execution_count": 85,
     "metadata": {},
     "output_type": "execute_result"
    }
   ],
   "source": [
    "x % y  # \"modulo\" -- the integer remainder after dividing x/y"
   ]
  },
  {
   "cell_type": "code",
   "execution_count": 86,
   "metadata": {},
   "outputs": [
    {
     "data": {
      "text/plain": [
       "11"
      ]
     },
     "execution_count": 86,
     "metadata": {},
     "output_type": "execute_result"
    }
   ],
   "source": [
    "# what if I want to add 1 to an integer stored in a variable?\n",
    "\n",
    "x = 10\n",
    "x = x + 1   # notice, this is only OK because = is not the math =, but rather means \"assign\"\n",
    "x"
   ]
  },
  {
   "cell_type": "code",
   "execution_count": 87,
   "metadata": {},
   "outputs": [
    {
     "data": {
      "text/plain": [
       "11"
      ]
     },
     "execution_count": 87,
     "metadata": {},
     "output_type": "execute_result"
    }
   ],
   "source": [
    "# shorthand for this:\n",
    "\n",
    "x = 10\n",
    "x += 1   # this means: x = x + 1\n",
    "x"
   ]
  },
  {
   "cell_type": "code",
   "execution_count": 88,
   "metadata": {},
   "outputs": [
    {
     "ename": "TypeError",
     "evalue": "unsupported operand type(s) for +: 'int' and 'str'",
     "output_type": "error",
     "traceback": [
      "\u001b[1;31m---------------------------------------------------------------------------\u001b[0m",
      "\u001b[1;31mTypeError\u001b[0m                                 Traceback (most recent call last)",
      "Cell \u001b[1;32mIn[88], line 6\u001b[0m\n\u001b[0;32m      3\u001b[0m x \u001b[38;5;241m=\u001b[39m \u001b[38;5;241m10\u001b[39m\n\u001b[0;32m      4\u001b[0m y \u001b[38;5;241m=\u001b[39m \u001b[38;5;124m'\u001b[39m\u001b[38;5;124m20\u001b[39m\u001b[38;5;124m'\u001b[39m\n\u001b[1;32m----> 6\u001b[0m \u001b[43mx\u001b[49m\u001b[43m \u001b[49m\u001b[38;5;241;43m+\u001b[39;49m\u001b[43m \u001b[49m\u001b[43my\u001b[49m\n",
      "\u001b[1;31mTypeError\u001b[0m: unsupported operand type(s) for +: 'int' and 'str'"
     ]
    }
   ],
   "source": [
    "# remember, strings and integers cannot be added together\n",
    "\n",
    "x = 10\n",
    "y = '20'\n",
    "\n",
    "x + y"
   ]
  },
  {
   "cell_type": "code",
   "execution_count": 89,
   "metadata": {},
   "outputs": [
    {
     "data": {
      "text/plain": [
       "20"
      ]
     },
     "execution_count": 89,
     "metadata": {},
     "output_type": "execute_result"
    }
   ],
   "source": [
    "# I can get a new integer based on y by calling int() on y\n",
    "\n",
    "int(y)  # this returns a new integer -- it doesn't change y!"
   ]
  },
  {
   "cell_type": "code",
   "execution_count": 90,
   "metadata": {},
   "outputs": [
    {
     "data": {
      "text/plain": [
       "30"
      ]
     },
     "execution_count": 90,
     "metadata": {},
     "output_type": "execute_result"
    }
   ],
   "source": [
    "# one solution is to say:\n",
    "\n",
    "x + int(y)"
   ]
  },
  {
   "cell_type": "code",
   "execution_count": 91,
   "metadata": {},
   "outputs": [
    {
     "data": {
      "text/plain": [
       "30"
      ]
     },
     "execution_count": 91,
     "metadata": {},
     "output_type": "execute_result"
    }
   ],
   "source": [
    "# I could also say\n",
    "y = int(y)\n",
    "x + y"
   ]
  },
  {
   "cell_type": "markdown",
   "metadata": {},
   "source": [
    "# Guessing game\n",
    "\n",
    "1. Assign an integer to the variable `secret`. This is the number that the user needs to guess.\n",
    "2. Ask the user to guess the secret integer.\n",
    "3. Give the user one of these three outputs:\n",
    "    - Too high\n",
    "    - Too low\n",
    "    - You got it\n",
    "  \n",
    "The user gets *one* chance to guess the number!"
   ]
  },
  {
   "cell_type": "code",
   "execution_count": 92,
   "metadata": {},
   "outputs": [
    {
     "name": "stdin",
     "output_type": "stream",
     "text": [
      "Enter your guess:  42\n"
     ]
    },
    {
     "ename": "TypeError",
     "evalue": "'<' not supported between instances of 'str' and 'int'",
     "output_type": "error",
     "traceback": [
      "\u001b[1;31m---------------------------------------------------------------------------\u001b[0m",
      "\u001b[1;31mTypeError\u001b[0m                                 Traceback (most recent call last)",
      "Cell \u001b[1;32mIn[92], line 5\u001b[0m\n\u001b[0;32m      1\u001b[0m secret \u001b[38;5;241m=\u001b[39m \u001b[38;5;241m42\u001b[39m\n\u001b[0;32m      3\u001b[0m guess \u001b[38;5;241m=\u001b[39m \u001b[38;5;28minput\u001b[39m(\u001b[38;5;124m'\u001b[39m\u001b[38;5;124mEnter your guess: \u001b[39m\u001b[38;5;124m'\u001b[39m)\n\u001b[1;32m----> 5\u001b[0m \u001b[38;5;28;01mif\u001b[39;00m \u001b[43mguess\u001b[49m\u001b[43m \u001b[49m\u001b[38;5;241;43m<\u001b[39;49m\u001b[43m \u001b[49m\u001b[43msecret\u001b[49m:\n\u001b[0;32m      6\u001b[0m     \u001b[38;5;28mprint\u001b[39m(\u001b[38;5;124m'\u001b[39m\u001b[38;5;124mToo low!\u001b[39m\u001b[38;5;124m'\u001b[39m)\n\u001b[0;32m      7\u001b[0m \u001b[38;5;28;01melif\u001b[39;00m guess \u001b[38;5;241m>\u001b[39m secret:\n",
      "\u001b[1;31mTypeError\u001b[0m: '<' not supported between instances of 'str' and 'int'"
     ]
    }
   ],
   "source": [
    "secret = 42\n",
    "\n",
    "guess = input('Enter your guess: ')\n",
    "\n",
    "if guess < secret:\n",
    "    print('Too low!')\n",
    "elif guess > secret:\n",
    "    print('Too high!')\n",
    "else:\n",
    "    print('You got it!')"
   ]
  },
  {
   "cell_type": "code",
   "execution_count": 93,
   "metadata": {},
   "outputs": [
    {
     "data": {
      "text/plain": [
       "False"
      ]
     },
     "execution_count": 93,
     "metadata": {},
     "output_type": "execute_result"
    }
   ],
   "source": [
    "42 == '42'"
   ]
  },
  {
   "cell_type": "code",
   "execution_count": 97,
   "metadata": {},
   "outputs": [
    {
     "name": "stdin",
     "output_type": "stream",
     "text": [
      "Enter your guess:  hello out there\n"
     ]
    },
    {
     "ename": "ValueError",
     "evalue": "invalid literal for int() with base 10: 'hello out there'",
     "output_type": "error",
     "traceback": [
      "\u001b[1;31m---------------------------------------------------------------------------\u001b[0m",
      "\u001b[1;31mValueError\u001b[0m                                Traceback (most recent call last)",
      "Cell \u001b[1;32mIn[97], line 4\u001b[0m\n\u001b[0;32m      1\u001b[0m secret \u001b[38;5;241m=\u001b[39m \u001b[38;5;241m42\u001b[39m\n\u001b[0;32m      3\u001b[0m guess \u001b[38;5;241m=\u001b[39m \u001b[38;5;28minput\u001b[39m(\u001b[38;5;124m'\u001b[39m\u001b[38;5;124mEnter your guess: \u001b[39m\u001b[38;5;124m'\u001b[39m)\n\u001b[1;32m----> 4\u001b[0m guess \u001b[38;5;241m=\u001b[39m \u001b[38;5;28;43mint\u001b[39;49m\u001b[43m(\u001b[49m\u001b[43mguess\u001b[49m\u001b[43m)\u001b[49m   \u001b[38;5;66;03m# turn guess into an integer\u001b[39;00m\n\u001b[0;32m      6\u001b[0m \u001b[38;5;28;01mif\u001b[39;00m guess \u001b[38;5;241m<\u001b[39m secret:\n\u001b[0;32m      7\u001b[0m     \u001b[38;5;28mprint\u001b[39m(\u001b[38;5;124m'\u001b[39m\u001b[38;5;124mToo low!\u001b[39m\u001b[38;5;124m'\u001b[39m)\n",
      "\u001b[1;31mValueError\u001b[0m: invalid literal for int() with base 10: 'hello out there'"
     ]
    }
   ],
   "source": [
    "secret = 42\n",
    "\n",
    "guess = input('Enter your guess: ')\n",
    "guess = int(guess)   # turn guess into an integer\n",
    "\n",
    "if guess < secret:\n",
    "    print('Too low!')\n",
    "elif guess > secret:\n",
    "    print('Too high!')\n",
    "else:\n",
    "    print('You got it!')"
   ]
  },
  {
   "cell_type": "code",
   "execution_count": 98,
   "metadata": {},
   "outputs": [
    {
     "data": {
      "text/plain": [
       "10.0"
      ]
     },
     "execution_count": 98,
     "metadata": {},
     "output_type": "execute_result"
    }
   ],
   "source": [
    "# floats\n",
    "\n",
    "# if a number contains a decimal point, it's known as a \"float\"\n",
    "# you can convert a float to an int , or an int, to a float\n",
    "\n",
    "x = 10\n",
    "float(x)"
   ]
  },
  {
   "cell_type": "code",
   "execution_count": 99,
   "metadata": {},
   "outputs": [
    {
     "data": {
      "text/plain": [
       "float"
      ]
     },
     "execution_count": 99,
     "metadata": {},
     "output_type": "execute_result"
    }
   ],
   "source": [
    "x = 12.34\n",
    "type(x)"
   ]
  },
  {
   "cell_type": "code",
   "execution_count": 100,
   "metadata": {},
   "outputs": [
    {
     "data": {
      "text/plain": [
       "12"
      ]
     },
     "execution_count": 100,
     "metadata": {},
     "output_type": "execute_result"
    }
   ],
   "source": [
    "int(x)  # get an integer based on the float"
   ]
  },
  {
   "cell_type": "code",
   "execution_count": 101,
   "metadata": {},
   "outputs": [
    {
     "data": {
      "text/plain": [
       "30.35"
      ]
     },
     "execution_count": 101,
     "metadata": {},
     "output_type": "execute_result"
    }
   ],
   "source": [
    "# if you use floats and ints together in the same expression, then that's fine -- the int is\n",
    "# \"promoted\" to a float\n",
    "\n",
    "10 + 20.35"
   ]
  },
  {
   "cell_type": "markdown",
   "metadata": {},
   "source": [
    "# Next up\n",
    "\n",
    "- Strings\n",
    "- Defining them\n",
    "- Retrieving from them\n",
    "- Searching in them\n",
    "- Strings are *immutable*\n",
    "- A little about methods"
   ]
  },
  {
   "cell_type": "code",
   "execution_count": null,
   "metadata": {},
   "outputs": [],
   "source": []
  }
 ],
 "metadata": {
  "kernelspec": {
   "display_name": "Python 3 (ipykernel)",
   "language": "python",
   "name": "python3"
  },
  "language_info": {
   "codemirror_mode": {
    "name": "ipython",
    "version": 3
   },
   "file_extension": ".py",
   "mimetype": "text/x-python",
   "name": "python",
   "nbconvert_exporter": "python",
   "pygments_lexer": "ipython3",
   "version": "3.12.1"
  }
 },
 "nbformat": 4,
 "nbformat_minor": 4
}
