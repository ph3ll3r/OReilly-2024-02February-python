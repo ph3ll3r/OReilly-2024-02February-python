{
 "cells": [
  {
   "cell_type": "markdown",
   "metadata": {},
   "source": [
    "# Agenda\n",
    "\n",
    "1. Fundamentals and core concepts\n",
    "    - Syntax of Python\n",
    "    - Values and variables\n",
    "    - Printing things on the screen\n",
    "    - Getting input from the user\n",
    "    - Making decisions with `if` and `else`\n",
    "    - Numbers\n",
    "    - Strings (aka text)\n",
    "    - Methods -- what are they?\n",
    "2. Loops, lists, and tuples\n",
    "    - What are loops (`for` and `while`)\n",
    "    - Looping over strings\n",
    "    - Looping over numbers\n",
    "    - Lists\n",
    "        - Storing in lists\n",
    "        - Retrieving from lists\n",
    "    - Turning strings into lists, and then lists into strings\n",
    "    - Tuples and tuple unpacking\n",
    "3. Dictionaries and files\n",
    "    - What are dicts?\n",
    "    - Reading from them, writing to them\n",
    "    - The different paradigms for working with dicts\n",
    "    - How do they work behind the scenes?\n",
    "    - Reading from and writing to text files\n",
    "4. Functions\n",
    "    - What is a function?\n",
    "    - Writing functions\n",
    "    - Arguments and parameters\n",
    "    - Local vs. global variables\n",
    "    - Return values\n",
    "5. Modules and packages\n",
    "    - What are these, and why do we need them?\n",
    "    - Using modules that Python provides\n",
    "    - Writing our own modules\n",
    "    - Third-party packages and downloading them from PyPI\n",
    "    - What next?"
   ]
  },
  {
   "cell_type": "markdown",
   "metadata": {},
   "source": [
    "# What is Jupyter?\n",
    "\n",
    "Jupyter is a Web-based interface for Python. If you're using Jupyter, then you have the illusion of writing Python inside of your browser. \n",
    "\n",
    "You can install Jupyter on your own computer. It can be complex for someone who is new to programming.\n",
    "\n",
    "One way to get Jupyter (or something like it) on your computer is to use Google Colab. "
   ]
  },
  {
   "cell_type": "markdown",
   "metadata": {},
   "source": [
    "# What is a programming language? What is Python?\n",
    "\n",
    "A general-purpose computer can be given instructions as to what it should do. Those instructions come in the form of binary numbers (1s and 0s). You can, in theory, write those 1s and 0s yourself -- but it's not fun or easy.\n",
    "\n",
    "Instead, we write programs in a \"high-level language,\" one that is closer to how humans think and write, and then our program is translated into binary format.\n",
    "\n",
    "Every programming language works in a slightly different way. Some are closer to the binary code, and some are closer to how humans think and write.\n",
    "\n",
    "- C is a \"low-level language,\" because it's closer to the hardware\n",
    "- Java and C# are mid-level languages, because they're higher level than C, taking care of such things as managing the memory in your program, but they still require you to think a lot like a computer\n",
    "- Python is a \"very high level language,\" where it tries to look and feel like a natural language.\n",
    "\n",
    "Programming languages need to be unambiguous and clear. Python, though, is designed to be as easy as possible for people to learn, while still providing us with the same power as other languages.  \"Low floors and high ceilings\"\n",
    "\n",
    "Who is using Python, and for what?\n",
    "- Python is the #1 language for data science and machine learning\n",
    "- Web applications\n",
    "- Devops\n",
    "- APIs (consumption and production)\n",
    "- Education\n",
    "\n",
    "The one place where Python is missing (sort of) is on mobile apps. But that is (slowly) changing.\n",
    "\n",
    "What's the drawback of Python? It doesn't execute as quickly as Java, C#, or even C.  Python is a perfect language for an age in which people are expensive, and computers are cheap.\n",
    "\n"
   ]
  },
  {
   "cell_type": "markdown",
   "metadata": {},
   "source": [
    "# Quick intro to Jupyter\n",
    "\n",
    "Everything in Jupyter is done inside of \"cells.\" I'm typing, right now, into a cell.\n",
    "\n",
    "Every cell has a \"mode,\" typically either Python code or Markdown. (Right now, I'm in Markdown mode.) Markdown is used for creating HTML/stylized text easily, with just plain text.\n",
    "\n",
    "When I'm in Markdown mode, I'm just typing. I can format it by using shift+ENTER. (Some computers, control-ENTER, some alt-ENTER.)"
   ]
  },
  {
   "cell_type": "code",
   "execution_count": 1,
   "metadata": {},
   "outputs": [
    {
     "name": "stdout",
     "output_type": "stream",
     "text": [
      "Hello, world!\n"
     ]
    }
   ],
   "source": [
    "# the below line is Python code; we're running the \"print\" function, and telling it to display text \n",
    "\n",
    "# anything with a # before it in Python is a comment. It is completely ignored by the language\n",
    "# comments are notes to yourself in the future, or to colleagues who will want to read your code.\n",
    "\n",
    "print('Hello, world!')  \n",
    "\n",
    "# how can I execute this code cell? I press shift+ENTER"
   ]
  },
  {
   "cell_type": "code",
   "execution_count": null,
   "metadata": {},
   "outputs": [],
   "source": []
  }
 ],
 "metadata": {
  "kernelspec": {
   "display_name": "Python 3 (ipykernel)",
   "language": "python",
   "name": "python3"
  },
  "language_info": {
   "codemirror_mode": {
    "name": "ipython",
    "version": 3
   },
   "file_extension": ".py",
   "mimetype": "text/x-python",
   "name": "python",
   "nbconvert_exporter": "python",
   "pygments_lexer": "ipython3",
   "version": "3.12.1"
  }
 },
 "nbformat": 4,
 "nbformat_minor": 4
}
