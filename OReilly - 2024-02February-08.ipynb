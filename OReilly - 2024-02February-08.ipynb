{
 "cells": [
  {
   "cell_type": "markdown",
   "metadata": {},
   "source": [
    "# Agenda\n",
    "\n",
    "1. Fundamentals and core concepts\n",
    "    - Syntax of Python\n",
    "    - Values and variables\n",
    "    - Printing things on the screen\n",
    "    - Getting input from the user\n",
    "    - Making decisions with `if` and `else`\n",
    "    - Numbers\n",
    "    - Strings (aka text)\n",
    "    - Methods -- what are they?\n",
    "2. Loops, lists, and tuples\n",
    "    - What are loops (`for` and `while`)\n",
    "    - Looping over strings\n",
    "    - Looping over numbers\n",
    "    - Lists\n",
    "        - Storing in lists\n",
    "        - Retrieving from lists\n",
    "    - Turning strings into lists, and then lists into strings\n",
    "    - Tuples and tuple unpacking\n",
    "3. Dictionaries and files\n",
    "    - What are dicts?\n",
    "    - Reading from them, writing to them\n",
    "    - The different paradigms for working with dicts\n",
    "    - How do they work behind the scenes?\n",
    "    - Reading from and writing to text files\n",
    "4. Functions\n",
    "    - What is a function?\n",
    "    - Writing functions\n",
    "    - Arguments and parameters\n",
    "    - Local vs. global variables\n",
    "    - Return values\n",
    "5. Modules and packages\n",
    "    - What are these, and why do we need them?\n",
    "    - Using modules that Python provides\n",
    "    - Writing our own modules\n",
    "    - Third-party packages and downloading them from PyPI\n",
    "    - What next?"
   ]
  },
  {
   "cell_type": "markdown",
   "metadata": {},
   "source": [
    "# What is Jupyter?\n",
    "\n",
    "Jupyter is a Web-based interface for Python. If you're using Jupyter, then you have the illusion of writing Python inside of your browser. \n",
    "\n",
    "You can install Jupyter on your own computer. It can be complex for someone who is new to programming.\n",
    "\n",
    "One way to get Jupyter (or something like it) on your computer is to use Google Colab. "
   ]
  },
  {
   "cell_type": "markdown",
   "metadata": {},
   "source": [
    "# What is a programming language? What is Python?\n",
    "\n",
    "A general-purpose computer can be given instructions as to what it should do. Those instructions come in the form of binary numbers (1s and 0s). You can, in theory, write those 1s and 0s yourself -- but it's not fun or easy.\n",
    "\n",
    "Instead, we write programs in a \"high-level language,\" one that is closer to how humans think and write, and then our program is translated into binary format.\n",
    "\n",
    "Every programming language works in a slightly different way. Some are closer to the binary code, and some are closer to how humans think and write.\n",
    "\n",
    "- C is a \"low-level language,\" because it's closer to the hardware\n",
    "- Ja"
   ]
  }
 ],
 "metadata": {
  "kernelspec": {
   "display_name": "Python 3 (ipykernel)",
   "language": "python",
   "name": "python3"
  },
  "language_info": {
   "codemirror_mode": {
    "name": "ipython",
    "version": 3
   },
   "file_extension": ".py",
   "mimetype": "text/x-python",
   "name": "python",
   "nbconvert_exporter": "python",
   "pygments_lexer": "ipython3",
   "version": "3.12.1"
  }
 },
 "nbformat": 4,
 "nbformat_minor": 4
}
