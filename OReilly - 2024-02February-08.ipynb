{
 "cells": [
  {
   "cell_type": "markdown",
   "metadata": {},
   "source": [
    "# Agenda\n",
    "\n",
    "1. Fundamentals and core concepts\n",
    "    - Syntax of Python\n",
    "    - Values and variables\n",
    "    - Printing things on the screen\n",
    "    - Getting input from the user\n",
    "    - Making decisions with `if` and `else`\n",
    "    - Numbers\n",
    "    - Strings (aka text)\n",
    "    - Methods -- what are they?\n",
    "2. Loops, lists, and tuples\n",
    "    - What are loops (`for` and `while`)\n",
    "    - Looping over strings\n",
    "    - Looping over numbers\n",
    "    - Lists\n",
    "        - Storing in lists\n",
    "        - Retrieving from lists\n",
    "    - Turning strings into lists, and then lists into strings\n",
    "    - Tuples and tuple unpacking\n",
    "3. Dictionaries and files\n",
    "    - What are dicts?\n",
    "    - Reading from them, writing to them\n",
    "    - The different paradigms for working with dicts\n",
    "    - How do they work behind the scenes?\n",
    "    - Reading from and writing to text files\n",
    "4. Functions\n",
    "    - What is a function?\n",
    "    - Writing functions\n",
    "    - Arguments and parameters\n",
    "    - Local vs. global variables\n",
    "    - Return values\n",
    "5. Modules and packages\n",
    "    - What are these, and why do we need them?\n",
    "    - Using modules that Python provides\n",
    "    - Writing our own modules\n",
    "    - Third-party packages and downloading them from PyPI\n",
    "    - What next?"
   ]
  },
  {
   "cell_type": "markdown",
   "metadata": {},
   "source": [
    "# What is Jupyter?\n",
    "\n",
    "Jupyter is a Web-based interface for Python. If you're using Jupyter, then you have the illusion of writing Python inside of your browser. \n",
    "\n",
    "You can install Jupyter on your own computer. It can be complex for someone who is new to programming.\n",
    "\n",
    "One way to get Jupyter (or something like it) on your computer is to use Google Colab. "
   ]
  },
  {
   "cell_type": "markdown",
   "metadata": {},
   "source": [
    "# What is a programming language? What is Python?\n",
    "\n",
    "A general-purpose computer can be given instructions as to what it should do. Those instructions come in the form of binary numbers (1s and 0s). You can, in theory, write those 1s and 0s yourself -- but it's not fun or easy.\n",
    "\n",
    "Instead, we write programs in a \"high-level language,\" one that is closer to how humans think and write, and then our program is translated into binary format.\n",
    "\n",
    "Every programming language works in a slightly different way. Some are closer to the binary code, and some are closer to how humans think and write.\n",
    "\n",
    "- C is a \"low-level language,\" because it's closer to the hardware\n",
    "- Java and C# are mid-level languages, because they're higher level than C, taking care of such things as managing the memory in your program, but they still require you to think a lot like a computer\n",
    "- Python is a \"very high level language,\" where it tries to look and feel like a natural language.\n",
    "\n",
    "Programming languages need to be unambiguous and clear. Python, though, is designed to be as easy as possible for people to learn, while still providing us with the same power as other languages.  \"Low floors and high ceilings\"\n",
    "\n",
    "Who is using Python, and for what?\n",
    "- Python is the #1 language for data science and machine learning\n",
    "- Web applications\n",
    "- Devops\n",
    "- APIs (consumption and production)\n",
    "- Education\n",
    "\n",
    "The one place where Python is missing (sort of) is on mobile apps. But that is (slowly) changing.\n",
    "\n",
    "What's the drawback of Python? It doesn't execute as quickly as Java, C#, or even C.  Python is a perfect language for an age in which people are expensive, and computers are cheap.\n",
    "\n"
   ]
  },
  {
   "cell_type": "markdown",
   "metadata": {},
   "source": [
    "# Quick intro to Jupyter\n",
    "\n",
    "Everything in Jupyter is done inside of \"cells.\" I'm typing, right now, into a cell.\n",
    "\n",
    "Every cell has a \"mode,\" typically either Python code or Markdown. (Right now, I'm in Markdown mode.) Markdown is used for creating HTML/stylized text easily, with just plain text.\n",
    "\n",
    "When I'm in Markdown mode, I'm just typing. I can format it by using shift+ENTER. (Some computers, control-ENTER, some alt-ENTER.)"
   ]
  },
  {
   "cell_type": "code",
   "execution_count": 1,
   "metadata": {},
   "outputs": [
    {
     "name": "stdout",
     "output_type": "stream",
     "text": [
      "Hello, world!\n"
     ]
    }
   ],
   "source": [
    "# the below line is Python code; we're running the \"print\" function, and telling it to display text \n",
    "\n",
    "# anything with a # before it in Python is a comment. It is completely ignored by the language\n",
    "# comments are notes to yourself in the future, or to colleagues who will want to read your code.\n",
    "\n",
    "print('Hello, world!')  \n",
    "\n",
    "# how can I execute this code cell? I press shift+ENTER"
   ]
  },
  {
   "cell_type": "markdown",
   "metadata": {},
   "source": [
    "# What did we do above?\n",
    "\n",
    "- `print` is a function -- a verb -- in the Python world. It displays things on the screen.\n",
    "- To execute the function, and get it to do something, we put parentheses after its name.\n",
    "- We can ask it to print text by putting that text inside of the parentheses\n",
    "- Note that text must be inside of quotes, either `''` or `\"\"`. (You can use either; there is no difference, but the start quotes must match the end quotes.)"
   ]
  },
  {
   "cell_type": "code",
   "execution_count": 2,
   "metadata": {},
   "outputs": [
    {
     "name": "stdout",
     "output_type": "stream",
     "text": [
      "Reuven\n"
     ]
    }
   ],
   "source": [
    "print('Reuven')"
   ]
  },
  {
   "cell_type": "code",
   "execution_count": 3,
   "metadata": {},
   "outputs": [
    {
     "name": "stdout",
     "output_type": "stream",
     "text": [
      "50\n"
     ]
    }
   ],
   "source": [
    "# I can even print numbers\n",
    "print(50)"
   ]
  },
  {
   "cell_type": "code",
   "execution_count": 4,
   "metadata": {},
   "outputs": [
    {
     "name": "stdout",
     "output_type": "stream",
     "text": [
      "53\n"
     ]
    }
   ],
   "source": [
    "print(50+3)   # here, I add 50+3, getting 53, and that number is then displayed on the screen"
   ]
  },
  {
   "cell_type": "code",
   "execution_count": 5,
   "metadata": {},
   "outputs": [
    {
     "name": "stdout",
     "output_type": "stream",
     "text": [
      "503\n"
     ]
    }
   ],
   "source": [
    "# numbers don't have quotes around them\n",
    "# text does\n",
    "\n",
    "# what if I add together something slightly different:\n",
    "print('50' + '3')   # can I add together two pieces of text with +?"
   ]
  },
  {
   "cell_type": "code",
   "execution_count": 7,
   "metadata": {},
   "outputs": [
    {
     "ename": "TypeError",
     "evalue": "unsupported operand type(s) for +: 'int' and 'str'",
     "output_type": "error",
     "traceback": [
      "\u001b[1;31m---------------------------------------------------------------------------\u001b[0m",
      "\u001b[1;31mTypeError\u001b[0m                                 Traceback (most recent call last)",
      "Cell \u001b[1;32mIn[7], line 6\u001b[0m\n\u001b[0;32m      1\u001b[0m \u001b[38;5;66;03m# What happens, by  the way, if I try to add together a number and text?\u001b[39;00m\n\u001b[0;32m      2\u001b[0m \n\u001b[0;32m      3\u001b[0m \u001b[38;5;66;03m# will Python turn the number into text, and give us '503'?\u001b[39;00m\n\u001b[0;32m      4\u001b[0m \u001b[38;5;66;03m# will Python turn the text into a number, and give us 53?\u001b[39;00m\n\u001b[0;32m      5\u001b[0m \u001b[38;5;66;03m# or will it give up, and give us an error?  *** this is the answer\u001b[39;00m\n\u001b[1;32m----> 6\u001b[0m \u001b[38;5;28mprint\u001b[39m(\u001b[38;5;241;43m50\u001b[39;49m\u001b[43m \u001b[49m\u001b[38;5;241;43m+\u001b[39;49m\u001b[43m \u001b[49m\u001b[38;5;124;43m'\u001b[39;49m\u001b[38;5;124;43m3\u001b[39;49m\u001b[38;5;124;43m'\u001b[39;49m)\n",
      "\u001b[1;31mTypeError\u001b[0m: unsupported operand type(s) for +: 'int' and 'str'"
     ]
    }
   ],
   "source": [
    "# What happens, by  the way, if I try to add together a number and text?\n",
    "\n",
    "# will Python turn the number into text, and give us '503'?\n",
    "# will Python turn the text into a number, and give us 53?\n",
    "# or will it give up, and give us an error?  *** this is the answer\n",
    "print(50 + '3')"
   ]
  },
  {
   "cell_type": "code",
   "execution_count": 11,
   "metadata": {},
   "outputs": [
    {
     "ename": "IndentationError",
     "evalue": "unexpected indent (765528687.py, line 2)",
     "output_type": "error",
     "traceback": [
      "\u001b[1;36m  Cell \u001b[1;32mIn[11], line 2\u001b[1;36m\u001b[0m\n\u001b[1;33m    print(50 + 3)\u001b[0m\n\u001b[1;37m    ^\u001b[0m\n\u001b[1;31mIndentationError\u001b[0m\u001b[1;31m:\u001b[0m unexpected indent\n"
     ]
    }
   ],
   "source": [
    "print(50 + 3)\n",
    "    print(50 + 3)\n",
    "print(50 + 3)"
   ]
  },
  {
   "cell_type": "code",
   "execution_count": 12,
   "metadata": {},
   "outputs": [
    {
     "name": "stdout",
     "output_type": "stream",
     "text": [
      "30\n"
     ]
    }
   ],
   "source": [
    "# what if I want to keep values around, rather than typing them explicitly at the computer?\n",
    "# we can assign a value to a variable. Then we can refer to that value with the variable.\n",
    "\n",
    "# assignment is done with the = sign. This is *NOT* the same = as you use in mathematics!\n",
    "# In math, = means that the left side is the same as the right side.\n",
    "# In Python, = means that we take the value from the right side, and assign it to the variable on the left side.\n",
    "\n",
    "x = 10    \n",
    "y = 20\n",
    "\n",
    "# after executing the above lines, we can refer to x and y, rather than to 10 and 20\n",
    "\n",
    "print(x+y)"
   ]
  },
  {
   "cell_type": "code",
   "execution_count": 13,
   "metadata": {},
   "outputs": [
    {
     "data": {
      "text/plain": [
       "10"
      ]
     },
     "execution_count": 13,
     "metadata": {},
     "output_type": "execute_result"
    }
   ],
   "source": [
    "# by the way, in Jupyter (not in regular Python code!), if the final line of a cell is\n",
    "# a value, then we don't need to use print to display it. Jupyter will just show it to us\n",
    "\n",
    "x"
   ]
  },
  {
   "cell_type": "code",
   "execution_count": 14,
   "metadata": {},
   "outputs": [
    {
     "data": {
      "text/plain": [
       "30"
      ]
     },
     "execution_count": 14,
     "metadata": {},
     "output_type": "execute_result"
    }
   ],
   "source": [
    "x+y"
   ]
  },
  {
   "cell_type": "markdown",
   "metadata": {},
   "source": [
    "# Variables\n",
    "\n",
    "1. What names can we give our variables?\n",
    "- Any combination of letters, digits, and `_` is acceptable\n",
    "    - Except: Don't start with a digit (not allowed)\n",
    "    - Except: Don't start with `_` (per convention)\n",
    "- Capital and lowercase letters are different! By tradition, in Python, we only use lowercase letters in our variable names\n",
    "- Try to use variable names that mean something; Python couldn't care less what you call your variables, but your colleagues will care a lot!\n",
    "\n",
    "2. Don't we need to declare them at some point?\n",
    "\n",
    "No! The first time you assign to a variable, it is created. Next times, the value will be assigned to that variable.\n",
    "\n",
    "In some languages, you need to declare variables in advance, to tell the language what type of value it will contain. Python variables can refer to any type of value at all! The notion of declaring them doesn't really exist. "
   ]
  },
  {
   "cell_type": "code",
   "execution_count": 15,
   "metadata": {},
   "outputs": [
    {
     "name": "stdout",
     "output_type": "stream",
     "text": [
      "Hello, Reuven!\n"
     ]
    }
   ],
   "source": [
    "name = 'Reuven'\n",
    "\n",
    "print('Hello, ' + name + '!')"
   ]
  },
  {
   "cell_type": "code",
   "execution_count": 16,
   "metadata": {},
   "outputs": [
    {
     "name": "stdout",
     "output_type": "stream",
     "text": [
      "30\n"
     ]
    }
   ],
   "source": [
    "x = 10\n",
    "y = 20\n",
    "\n",
    "print(x + y)"
   ]
  },
  {
   "cell_type": "markdown",
   "metadata": {},
   "source": [
    "# Exercise: Simple assignment and displaying\n",
    "\n",
    "1. Assign the variable `name` to your name, and print a nice greeting to yourself.\n",
    "2. Assign two numbers to `x` and `y`, and print the result of adding them together with `+`.\n",
    "\n"
   ]
  },
  {
   "cell_type": "code",
   "execution_count": 17,
   "metadata": {},
   "outputs": [
    {
     "name": "stdout",
     "output_type": "stream",
     "text": [
      "Variable   Type    Data/Info\n",
      "----------------------------\n",
      "name       str     Reuven\n",
      "x          int     10\n",
      "y          int     20\n"
     ]
    }
   ],
   "source": [
    "# if you're in Jupyter, you can use the \"magic command\" of %whos to get a list of all assigned variables\n",
    "\n",
    "%whos"
   ]
  },
  {
   "cell_type": "code",
   "execution_count": 18,
   "metadata": {},
   "outputs": [
    {
     "name": "stdout",
     "output_type": "stream",
     "text": [
      "Hello, Reuven!\n"
     ]
    }
   ],
   "source": [
    "name = 'Reuven'    # don't forget that text needs to have quotes around it -- variables *never* have quotes around them!\n",
    "\n",
    "print('Hello, ' + name + '!')"
   ]
  },
  {
   "cell_type": "code",
   "execution_count": 20,
   "metadata": {},
   "outputs": [
    {
     "name": "stdout",
     "output_type": "stream",
     "text": [
      "Hello,Reuven!\n"
     ]
    }
   ],
   "source": [
    "print('Hello,' + name + '!')  # no space at the end of the first string "
   ]
  },
  {
   "cell_type": "code",
   "execution_count": 22,
   "metadata": {},
   "outputs": [
    {
     "name": "stdout",
     "output_type": "stream",
     "text": [
      "Hello, Reuven!\n"
     ]
    }
   ],
   "source": [
    "greeting = 'Hello, ' + name + '!'    # assign a variable the value of our new text string\n",
    "print(greeting)"
   ]
  },
  {
   "cell_type": "code",
   "execution_count": 23,
   "metadata": {},
   "outputs": [
    {
     "name": "stdout",
     "output_type": "stream",
     "text": [
      "253\n"
     ]
    }
   ],
   "source": [
    "x = 15\n",
    "y = 238\n",
    "print(x + y)"
   ]
  },
  {
   "cell_type": "code",
   "execution_count": 24,
   "metadata": {},
   "outputs": [
    {
     "data": {
      "text/plain": [
       "str"
      ]
     },
     "execution_count": 24,
     "metadata": {},
     "output_type": "execute_result"
    }
   ],
   "source": [
    "# we can always ask Python what type of value is in a variable (or what type of value something is)\n",
    "# we can use the \"type\" function\n",
    "\n",
    "type('Reuven')"
   ]
  },
  {
   "cell_type": "code",
   "execution_count": 25,
   "metadata": {},
   "outputs": [
    {
     "data": {
      "text/plain": [
       "str"
      ]
     },
     "execution_count": 25,
     "metadata": {},
     "output_type": "execute_result"
    }
   ],
   "source": [
    "type(name)   # we assigned the variable 'name' to the text string 'Reuven'"
   ]
  },
  {
   "cell_type": "code",
   "execution_count": 26,
   "metadata": {},
   "outputs": [
    {
     "name": "stdout",
     "output_type": "stream",
     "text": [
      "Hello, Reuven!\n"
     ]
    }
   ],
   "source": [
    "print(\"Hello, \" + name + \"!\")"
   ]
  },
  {
   "cell_type": "code",
   "execution_count": 27,
   "metadata": {},
   "outputs": [
    {
     "data": {
      "text/plain": [
       "int"
      ]
     },
     "execution_count": 27,
     "metadata": {},
     "output_type": "execute_result"
    }
   ],
   "source": [
    "type(x)"
   ]
  },
  {
   "cell_type": "code",
   "execution_count": 28,
   "metadata": {},
   "outputs": [
    {
     "name": "stdout",
     "output_type": "stream",
     "text": [
      "hello\n"
     ]
    }
   ],
   "source": [
    "print('hello')  # this works fine"
   ]
  },
  {
   "cell_type": "code",
   "execution_count": 29,
   "metadata": {},
   "outputs": [
    {
     "ename": "NameError",
     "evalue": "name 'Print' is not defined",
     "output_type": "error",
     "traceback": [
      "\u001b[1;31m---------------------------------------------------------------------------\u001b[0m",
      "\u001b[1;31mNameError\u001b[0m                                 Traceback (most recent call last)",
      "Cell \u001b[1;32mIn[29], line 1\u001b[0m\n\u001b[1;32m----> 1\u001b[0m \u001b[43mPrint\u001b[49m(\u001b[38;5;124m'\u001b[39m\u001b[38;5;124mhello\u001b[39m\u001b[38;5;124m'\u001b[39m)   \u001b[38;5;66;03m# why does this not work?\u001b[39;00m\n",
      "\u001b[1;31mNameError\u001b[0m: name 'Print' is not defined"
     ]
    }
   ],
   "source": [
    "Print('hello')   # why does this not work?"
   ]
  },
  {
   "cell_type": "code",
   "execution_count": 30,
   "metadata": {},
   "outputs": [
    {
     "ename": "TypeError",
     "evalue": "can only concatenate str (not \"int\") to str",
     "output_type": "error",
     "traceback": [
      "\u001b[1;31m---------------------------------------------------------------------------\u001b[0m",
      "\u001b[1;31mTypeError\u001b[0m                                 Traceback (most recent call last)",
      "Cell \u001b[1;32mIn[30], line 10\u001b[0m\n\u001b[0;32m      6\u001b[0m total \u001b[38;5;241m=\u001b[39m x \u001b[38;5;241m+\u001b[39m y\n\u001b[0;32m      8\u001b[0m \u001b[38;5;66;03m# never mind that this code is super ugly!\u001b[39;00m\n\u001b[0;32m      9\u001b[0m \u001b[38;5;66;03m# it also won't work!\u001b[39;00m\n\u001b[1;32m---> 10\u001b[0m \u001b[38;5;28mprint\u001b[39m(\u001b[38;5;124;43m'\u001b[39;49m\u001b[38;5;124;43mWhen you add \u001b[39;49m\u001b[38;5;124;43m'\u001b[39;49m\u001b[43m \u001b[49m\u001b[38;5;241;43m+\u001b[39;49m\u001b[43m \u001b[49m\u001b[43mx\u001b[49m \u001b[38;5;241m+\u001b[39m \u001b[38;5;124m'\u001b[39m\u001b[38;5;124m and \u001b[39m\u001b[38;5;124m'\u001b[39m \u001b[38;5;241m+\u001b[39m y \u001b[38;5;241m+\u001b[39m \u001b[38;5;124m'\u001b[39m\u001b[38;5;124m, you get \u001b[39m\u001b[38;5;124m'\u001b[39m \u001b[38;5;241m+\u001b[39m total \u001b[38;5;241m+\u001b[39m \u001b[38;5;124m'\u001b[39m\u001b[38;5;124m.\u001b[39m\u001b[38;5;124m'\u001b[39m)\n",
      "\u001b[1;31mTypeError\u001b[0m: can only concatenate str (not \"int\") to str"
     ]
    }
   ],
   "source": [
    "# what if I want to display numbers and text together?\n",
    "# we've seen that this will fail in a big way.\n",
    "\n",
    "x = 10\n",
    "y = 20\n",
    "total = x + y\n",
    "\n",
    "# never mind that this code is super ugly!\n",
    "# it also won't work!\n",
    "print('When you add ' + x + ' and ' + y + ', you get ' + total + '.')"
   ]
  },
  {
   "cell_type": "code",
   "execution_count": 31,
   "metadata": {},
   "outputs": [
    {
     "name": "stdout",
     "output_type": "stream",
     "text": [
      "When you add 10 and 20, you get 30.\n"
     ]
    }
   ],
   "source": [
    "# we can solve this problem by using a special kind of string\n",
    "# known as an \"f-string\"\n",
    "# basically: Put an f before the opening quote\n",
    "# then inside of the string, you can put {}, and inside of those, you can put Python values\n",
    "# they will automatically be turned into strings, if they aren't already\n",
    "\n",
    "print(f'When you add {x} and {y}, you get {total}.')"
   ]
  },
  {
   "cell_type": "code",
   "execution_count": 32,
   "metadata": {},
   "outputs": [
    {
     "name": "stdout",
     "output_type": "stream",
     "text": [
      "When you add 10 and 20, you get 30.\n"
     ]
    }
   ],
   "source": [
    "# we can do even better!\n",
    "\n",
    "print(f'When you add {x} and {y}, you get {x+y}.')"
   ]
  },
  {
   "cell_type": "markdown",
   "metadata": {},
   "source": [
    "# Next up\n",
    "\n",
    "- Getting input from the user\n",
    "- Equality and comparisons\n",
    "- `if` and making decisions in our programs"
   ]
  },
  {
   "cell_type": "code",
   "execution_count": 33,
   "metadata": {},
   "outputs": [
    {
     "name": "stdin",
     "output_type": "stream",
     "text": [
      "Enter your name:  Reuven\n"
     ]
    }
   ],
   "source": [
    "# how can we get input from the user?\n",
    "# answer: the input function!\n",
    "\n",
    "# the input function takes an argument, a text string -- the question that will be presented to the user\n",
    "# whatever the user enters is returned by the input function -- and is returned as a text string\n",
    "# normally, we'll then take that input and assign it to a variable\n",
    "\n",
    "# in assignment in Python, *ALWAYS* the right side executes before the left\n",
    "# here, the input function will run, and wait for the user's input\n",
    "# whatever the user types will be assigned to the name variable\n",
    "name = input('Enter your name: ')"
   ]
  },
  {
   "cell_type": "code",
   "execution_count": 34,
   "metadata": {},
   "outputs": [
    {
     "name": "stdout",
     "output_type": "stream",
     "text": [
      "Reuven\n"
     ]
    }
   ],
   "source": [
    "print(name)"
   ]
  },
  {
   "cell_type": "code",
   "execution_count": 35,
   "metadata": {},
   "outputs": [
    {
     "data": {
      "text/plain": [
       "str"
      ]
     },
     "execution_count": 35,
     "metadata": {},
     "output_type": "execute_result"
    }
   ],
   "source": [
    "type(name)"
   ]
  },
  {
   "cell_type": "code",
   "execution_count": 36,
   "metadata": {},
   "outputs": [
    {
     "name": "stdin",
     "output_type": "stream",
     "text": [
      "Enter your favorite number:  72\n"
     ]
    }
   ],
   "source": [
    "favorite_number = input('Enter your favorite number: ')"
   ]
  },
  {
   "cell_type": "code",
   "execution_count": 37,
   "metadata": {},
   "outputs": [
    {
     "name": "stdout",
     "output_type": "stream",
     "text": [
      "7272\n"
     ]
    }
   ],
   "source": [
    "# remember: input always returns a text string\n",
    "# it so happens that in Python, multiplying a text string by an integer gives you a new, longer string\n",
    "\n",
    "print(favorite_number * 2)   # what will happen?"
   ]
  },
  {
   "cell_type": "code",
   "execution_count": 38,
   "metadata": {},
   "outputs": [
    {
     "data": {
      "text/plain": [
       "4"
      ]
     },
     "execution_count": 38,
     "metadata": {},
     "output_type": "execute_result"
    }
   ],
   "source": [
    "# we can think of a function as something that calculates a value and then \"returns it\" to us.\n",
    "# so far, we haven't seen much of that, because print doesn't really return something -- it displays on the screen.\n",
    "# most functions are invoked to get their value back\n",
    "\n",
    "# input's value is whatever the user typed.\n",
    "\n",
    "# another function is \"len\", which tells us the length of a string\n",
    "len('abcd')"
   ]
  },
  {
   "cell_type": "code",
   "execution_count": 39,
   "metadata": {},
   "outputs": [],
   "source": [
    "# because len('abcd') returns 4\n",
    "# and because we're assigning that value to length_of_the_string\n",
    "\n",
    "length_of_the_string = len('abcd')"
   ]
  },
  {
   "cell_type": "code",
   "execution_count": 40,
   "metadata": {},
   "outputs": [
    {
     "name": "stdout",
     "output_type": "stream",
     "text": [
      "4\n"
     ]
    }
   ],
   "source": [
    "print(length_of_the_string)"
   ]
  },
  {
   "cell_type": "markdown",
   "metadata": {},
   "source": [
    "# Exercise: Friendly greeting\n",
    "\n",
    "1. Ask the user to enter their name, and assign that to the variable `name`.\n",
    "2. Ask the user to enter their country, and assign to the variable `country`.\n",
    "3. Print a friendly greeting, showing both the name and the country.\n",
    "\n"
   ]
  },
  {
   "cell_type": "code",
   "execution_count": 41,
   "metadata": {},
   "outputs": [
    {
     "name": "stdin",
     "output_type": "stream",
     "text": [
      "Enter your name:  Reuven\n",
      "Enter your country:  Israel\n"
     ]
    },
    {
     "name": "stdout",
     "output_type": "stream",
     "text": [
      "Hello, Reuven from Israel!\n"
     ]
    }
   ],
   "source": [
    "name = input('Enter your name: ')\n",
    "country = input('Enter your country: ')\n",
    "\n",
    "print(f'Hello, {name} from {country}!')"
   ]
  },
  {
   "cell_type": "code",
   "execution_count": 42,
   "metadata": {},
   "outputs": [
    {
     "data": {
      "text/plain": [
       "True"
      ]
     },
     "execution_count": 42,
     "metadata": {},
     "output_type": "execute_result"
    }
   ],
   "source": [
    "# we've seen at least one operator, namely +, which lets us add things together\n",
    "# the result of + is a new integer or a new text string\n",
    "\n",
    "# there are a bunch of other operators, comparison operators, that return True/False\n",
    "# they are around to tell us whether things are the same or different.\n",
    "# they are:\n",
    "\n",
    "# == -- this is the \"equality\" operator. It returns True if the things on both sides are the same\n",
    "\n",
    "x = 10\n",
    "y = 10\n",
    "\n",
    "x == y   # this returns True/False"
   ]
  },
  {
   "cell_type": "code",
   "execution_count": 43,
   "metadata": {},
   "outputs": [
    {
     "data": {
      "text/plain": [
       "False"
      ]
     },
     "execution_count": 43,
     "metadata": {},
     "output_type": "execute_result"
    }
   ],
   "source": [
    "x = 10\n",
    "y = 20\n",
    "\n",
    "x == y  "
   ]
  },
  {
   "cell_type": "code",
   "execution_count": 44,
   "metadata": {},
   "outputs": [
    {
     "data": {
      "text/plain": [
       "False"
      ]
     },
     "execution_count": 44,
     "metadata": {},
     "output_type": "execute_result"
    }
   ],
   "source": [
    "x = 10\n",
    "y = '10'   # text string 10\n",
    "\n",
    "x == y"
   ]
  },
  {
   "cell_type": "markdown",
   "metadata": {},
   "source": [
    "# Comparison operators\n",
    "\n",
    "- `==` -- equality, returns `True` if they are equal in value\n",
    "- `!=` -- inequality, returns `True` if they are *not* equal in value\n",
    "- `<` -- less than\n",
    "- `>` -- greater than\n",
    "- `<=` -- less than or equal\n",
    "- `>=` -- greater than or equal\n",
    "\n",
    "Note that `!=` is one operator, all together. It is *not* the `!` operator that flips the logic of whatever comes to its right."
   ]
  },
  {
   "cell_type": "markdown",
   "metadata": {},
   "source": [
    "# Conditionals\n",
    "\n",
    "The core of all programming is the ability to make a decision based on data. If something is `True`, then we want to do one thing. If it's `False`, then we want to do another thing. \n",
    "\n",
    "The way that we make these decisions is with \"conditionals.\""
   ]
  },
  {
   "cell_type": "markdown",
   "metadata": {},
   "source": [
    "# How do we write conditionals?\n",
    "\n",
    "1. We start with `if`. To the right of `if` is an expression that returns `True` or `False`.\n",
    "    - No parentheses are needed around the condition\n",
    "    - At the end of the line, you *must* have a colon (`:`)\n",
    "2. Following `if`, you have one or more lines that are indented, known as a \"block\"\n",
    "    - Must have at least one line\n",
    "    - Indentation can be any combination of tabs and spaces, *but* you must be consistent; the Python world has generally standardized on 4 spaces\n",
    "    - If you're typing on the space bar to indent, then you're doing something wrong -- your tools for writing Python should know how to indent\n",
    "    - To finish indentation, just use backspace\n",
    "3. You can then have an `else`, which is optional\n",
    "    - Must have a colon at the end of the line\n",
    "    - This block executes if the `if`'s expression was `False`\n",
    "    - Another indented block, just like the previous one\n",
    "  \n",
    "If you use `if`/`else`, then one -- and only one! -- of those blocks is guaranteed to run. "
   ]
  },
  {
   "cell_type": "code",
   "execution_count": 47,
   "metadata": {},
   "outputs": [
    {
     "name": "stdin",
     "output_type": "stream",
     "text": [
      "Enter your name:  someone else\n"
     ]
    },
    {
     "name": "stdout",
     "output_type": "stream",
     "text": [
      "Hello, someone else. Who are you?\n"
     ]
    }
   ],
   "source": [
    "name = input('Enter your name: ')\n",
    "\n",
    "if name == 'Reuven':\n",
    "    print('Hello, boss!')\n",
    "    print('It has been far too long!')\n",
    "else:\n",
    "    print(f'Hello, {name}. Who are you?')    "
   ]
  },
  {
   "cell_type": "markdown",
   "metadata": {},
   "source": [
    "#  Exercise: Which word comes first?\n",
    "\n",
    "1. "
   ]
  }
 ],
 "metadata": {
  "kernelspec": {
   "display_name": "Python 3 (ipykernel)",
   "language": "python",
   "name": "python3"
  },
  "language_info": {
   "codemirror_mode": {
    "name": "ipython",
    "version": 3
   },
   "file_extension": ".py",
   "mimetype": "text/x-python",
   "name": "python",
   "nbconvert_exporter": "python",
   "pygments_lexer": "ipython3",
   "version": "3.12.1"
  }
 },
 "nbformat": 4,
 "nbformat_minor": 4
}
