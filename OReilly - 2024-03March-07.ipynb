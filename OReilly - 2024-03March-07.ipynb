{
 "cells": [
  {
   "cell_type": "markdown",
   "metadata": {},
   "source": [
    "# Agenda: Day 5 -- modules and packages\n",
    "\n",
    "1. Q&A\n",
    "2. What are modules? What do they contain? How do we use them?\n",
    "3. The `import` statement -- what it does, and how to use it (different forms)\n",
    "4. Developing a simple module\n",
    "5. Python's standard library\n",
    "6. Modules vs. packages\n",
    "7. PyPI and `pip`\n",
    "8. What's next?\n"
   ]
  },
  {
   "cell_type": "markdown",
   "metadata": {},
   "source": [
    "# What are modules?\n",
    "\n",
    "Remember DRY (don't repeat yourself): We want to have every piece of code in a single location.\n",
    "\n",
    "1. If we have several lines in a row that are roughly the same, we can combine them into a loop.\n",
    "2. If we have the same code repeated across several parts of our program, we can write that code once as a function, and then invoke the function multiple times.\n",
    "3. If we have the same code repeated across several different programs, we can use a \"library\" to store that functionality, and then load it into any programs that might want to make use of it.\n",
    "\n",
    "Libraries are everywhere in software:\n",
    "- Your OS is a bunch of libraries\n",
    "- Libraries for handling health, finance, statistics, or any other topic you can imagine -- why re-invent the wheel?\n",
    "\n",
    "Python's version of libraries are known as \"modules\" and \"packages.\" You can think of a module as a single file containing code we want to reuse, and a package as a folder/directory containing modules.\n",
    "\n",
    "Modules in Python actually play two different roles:\n",
    "\n",
    "1. They let us put functionality into a module, and then load that functionality (variables, data structures, functions, or data types) wherever we might need them.\n",
    "2. Modules in Python give us \"namespaces,\" ensuring that if two programmers use the same variable or function name, they won't conflict with one another in a \"namespace collision.\"\n",
    "\n",
    "You can think of namespaces as last names (surnames), ensuring that we don't confuse variables of the same name with one another.\n",
    "\n",
    "It's a rare Python program that doesn't use at least one module to do its work. "
   ]
  },
  {
   "cell_type": "markdown",
   "metadata": {},
   "source": [
    "# How do we use a module?\n",
    "\n",
    "Using a module in Python is done with the `import` statement:\n",
    "\n",
    "1. It's a keyword and a statement. It's not a function, so don't use parentheses.\n",
    "2. In many programming languages, we give a filename (i.e., a string) to the equivalent of `import`, and that file is then loaded. As we'll see, that's not how it works in Python; we give a module name, i.e., a variable name that we want defined, and then Python has to figure out how to translate that into a filename.\n",
    "\n",
    "When we use `import`:\n",
    "- Python looks for the module on disk, and loads it, creating what we can call a \"module object,\" basically a storage facility for variables and functions.\n",
    "- Python then assigns the variable that we named after the `import` statement to that module object.\n",
    "- If the module was loaded already, then the variable is still assigned, but it isn't loaded a second time."
   ]
  },
  {
   "cell_type": "code",
   "execution_count": 2,
   "metadata": {},
   "outputs": [],
   "source": [
    "# let's load the \"random\" module, which comes with Python\n",
    "\n",
    "import random    "
   ]
  },
  {
   "cell_type": "code",
   "execution_count": 3,
   "metadata": {},
   "outputs": [
    {
     "data": {
      "text/plain": [
       "module"
      ]
     },
     "execution_count": 3,
     "metadata": {},
     "output_type": "execute_result"
    }
   ],
   "source": [
    "type(random)   # what kind of value is random referring to?"
   ]
  },
  {
   "cell_type": "code",
   "execution_count": 4,
   "metadata": {},
   "outputs": [
    {
     "data": {
      "text/plain": [
       "['BPF',\n",
       " 'LOG4',\n",
       " 'NV_MAGICCONST',\n",
       " 'RECIP_BPF',\n",
       " 'Random',\n",
       " 'SG_MAGICCONST',\n",
       " 'SystemRandom',\n",
       " 'TWOPI',\n",
       " '_ONE',\n",
       " '_Sequence',\n",
       " '__all__',\n",
       " '__builtins__',\n",
       " '__cached__',\n",
       " '__doc__',\n",
       " '__file__',\n",
       " '__loader__',\n",
       " '__name__',\n",
       " '__package__',\n",
       " '__spec__',\n",
       " '_accumulate',\n",
       " '_acos',\n",
       " '_bisect',\n",
       " '_ceil',\n",
       " '_cos',\n",
       " '_e',\n",
       " '_exp',\n",
       " '_fabs',\n",
       " '_floor',\n",
       " '_index',\n",
       " '_inst',\n",
       " '_isfinite',\n",
       " '_lgamma',\n",
       " '_log',\n",
       " '_log2',\n",
       " '_os',\n",
       " '_pi',\n",
       " '_random',\n",
       " '_repeat',\n",
       " '_sha512',\n",
       " '_sin',\n",
       " '_sqrt',\n",
       " '_test',\n",
       " '_test_generator',\n",
       " '_urandom',\n",
       " '_warn',\n",
       " 'betavariate',\n",
       " 'binomialvariate',\n",
       " 'choice',\n",
       " 'choices',\n",
       " 'expovariate',\n",
       " 'gammavariate',\n",
       " 'gauss',\n",
       " 'getrandbits',\n",
       " 'getstate',\n",
       " 'lognormvariate',\n",
       " 'normalvariate',\n",
       " 'paretovariate',\n",
       " 'randbytes',\n",
       " 'randint',\n",
       " 'random',\n",
       " 'randrange',\n",
       " 'sample',\n",
       " 'seed',\n",
       " 'setstate',\n",
       " 'shuffle',\n",
       " 'triangular',\n",
       " 'uniform',\n",
       " 'vonmisesvariate',\n",
       " 'weibullvariate']"
      ]
     },
     "execution_count": 4,
     "metadata": {},
     "output_type": "execute_result"
    }
   ],
   "source": [
    "# what names does it contain?\n",
    "# one easy way to find out is (in Jupyter) to run the \"dir\" function on it\n",
    "# this returns a list of strings, the names that the module contains\n",
    "# (inventory of our warehouse)\n",
    "\n",
    "dir(random)"
   ]
  },
  {
   "cell_type": "markdown",
   "metadata": {},
   "source": [
    "Names without a `_` at the start and/or end are fair game for us to use in a module. These are all \"attributes\" of the module, meaning that they're names which come after a `.` and the module's name.\n",
    "\n"
   ]
  },
  {
   "cell_type": "code",
   "execution_count": 5,
   "metadata": {},
   "outputs": [
    {
     "data": {
      "text/plain": [
       "85"
      ]
     },
     "execution_count": 5,
     "metadata": {},
     "output_type": "execute_result"
    }
   ],
   "source": [
    "# randint is a function defined in the random module\n",
    "# we can invoke it by calling random.randint, passing two arguments (min and max values)\n",
    "\n",
    "random.randint(0, 100)"
   ]
  },
  {
   "cell_type": "markdown",
   "metadata": {},
   "source": [
    "# Underscores in Python names\n",
    "\n",
    "In variables, functions, and also in modules, you'll often see names that start and/or end with `_`. These (can) have special meanings:\n",
    "\n",
    "- If a name *starts* with a single `_`, that means it's supposed to be private to the module. The author is trying to tell you that there are no promises regarding this working, not changing, etc. in the future. Try to avoid using these names, because there are not guarantees.\n",
    "- If a name *ends* with a single `_`, that's usually in scientific/AI applications and means that it was the results of running a model.\n",
    "- If a name *both starts and ends* with double underscores (`__`), these are known in Python as \"dunders.\" These names have special meaning for Python. If one is defined, and Python is looking for it, then you can really influence the way that the language works. Setting a dunder name without knowing what it does is asking for trouble."
   ]
  },
  {
   "cell_type": "markdown",
   "metadata": {},
   "source": [
    "# Exercise: Number guessing\n",
    "\n",
    "1. Load the `random` module into memory. We are (again) going to use `random.randint` in our program.\n",
    "2. Generate a random number using that module. Assign the result to `number`.\n",
    "3. Ask the user, repeatedly, to guess the random number:\n",
    "    - If they get it, congratulate them and exit\n",
    "    - If they are too low, tell them that\n",
    "    - If they are too high, tell them that\n",
    "4. Until the user guesses the number, the loop will continue."
   ]
  },
  {
   "cell_type": "code",
   "execution_count": null,
   "metadata": {},
   "outputs": [],
   "source": []
  }
 ],
 "metadata": {
  "kernelspec": {
   "display_name": "Python 3 (ipykernel)",
   "language": "python",
   "name": "python3"
  },
  "language_info": {
   "codemirror_mode": {
    "name": "ipython",
    "version": 3
   },
   "file_extension": ".py",
   "mimetype": "text/x-python",
   "name": "python",
   "nbconvert_exporter": "python",
   "pygments_lexer": "ipython3",
   "version": "3.12.1"
  }
 },
 "nbformat": 4,
 "nbformat_minor": 4
}
