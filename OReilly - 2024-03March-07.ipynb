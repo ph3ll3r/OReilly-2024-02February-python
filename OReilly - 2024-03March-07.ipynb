{
 "cells": [
  {
   "cell_type": "markdown",
   "metadata": {},
   "source": [
    "# Agenda: Day 5 -- modules and packages\n",
    "\n",
    "1. Q&A\n",
    "2. What are modules? What do they contain? How do we use them?\n",
    "3. The `import` statement -- what it does, and how to use it (different forms)\n",
    "4. Developing a simple module\n",
    "5. Python's standard library\n",
    "6. Modules vs. packages\n",
    "7. PyPI and `pip`\n",
    "8. What's next?\n"
   ]
  },
  {
   "cell_type": "markdown",
   "metadata": {},
   "source": [
    "# What are modules?\n",
    "\n",
    "Remember DRY (don't repeat yourself): We want to have every piece of code in a single location.\n",
    "\n",
    "1. If we have several lines in a row that are roughly the same, we can combine them into a loop.\n",
    "2. If we have the same code repeated across several parts of our program, we can write that code once as a function, and then invoke the function multiple times.\n",
    "3. If we have the same code repeated across several different programs, we can use a \"library\" to store that functionality, and then load it into any programs that might want to make use of it.\n",
    "\n",
    "Libraries are everywhere in software:\n",
    "- Your OS is a bunch of libraries\n",
    "- Libraries for handling health, finance, statistics, or any other topic you can imagine -- why re-invent the wheel?\n",
    "\n",
    "Python's version of libraries are known as \"modules\" and \"packages.\" You can think of a module as a single file containing code we want to reuse, and a package as a folder/directory containing modules.\n",
    "\n"
   ]
  }
 ],
 "metadata": {
  "kernelspec": {
   "display_name": "Python 3 (ipykernel)",
   "language": "python",
   "name": "python3"
  },
  "language_info": {
   "codemirror_mode": {
    "name": "ipython",
    "version": 3
   },
   "file_extension": ".py",
   "mimetype": "text/x-python",
   "name": "python",
   "nbconvert_exporter": "python",
   "pygments_lexer": "ipython3",
   "version": "3.12.1"
  }
 },
 "nbformat": 4,
 "nbformat_minor": 4
}
