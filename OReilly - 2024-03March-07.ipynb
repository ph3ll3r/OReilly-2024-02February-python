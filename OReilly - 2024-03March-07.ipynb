{
 "cells": [
  {
   "cell_type": "markdown",
   "metadata": {},
   "source": [
    "# Agenda: Day 5 -- modules and packages\n",
    "\n",
    "1. Q&A\n",
    "2. What are modules? What do they contain? How do we use them?\n",
    "3. The `import` statement -- what it does, and how to use it (different forms)\n",
    "4. Developing a simple module\n",
    "5. Python's standard library\n",
    "6. Modules vs. packages\n",
    "7. PyPI and `pip`\n",
    "8. What's next?\n"
   ]
  },
  {
   "cell_type": "markdown",
   "metadata": {},
   "source": [
    "# What are modules?\n",
    "\n",
    "Remember DRY (don't repeat yourself): We want to have every piece of code in a single location.\n",
    "\n",
    "1. If we have several lines in a row that are roughly the same, we can combine them into a loop.\n",
    "2. If we have the same code repeated across several parts of our program, we can write that code once as a function, and then invoke the function multiple times.\n",
    "3. If we have the same code repeated across several different programs, we can use a \"library\" to store that functionality, and then load it into any programs that might want to make use of it.\n",
    "\n",
    "Libraries are everywhere in software:\n",
    "- Your OS is a bunch of libraries\n",
    "- Libraries for handling health, finance, statistics, or any other topic you can imagine -- why re-invent the wheel?\n",
    "\n",
    "Python's version of libraries are known as \"modules\" and \"packages.\" You can think of a module as a single file containing code we want to reuse, and a package as a folder/directory containing modules.\n",
    "\n",
    "Modules in Python actually play two different roles:\n",
    "\n",
    "1. They let us put functionality into a module, and then load that functionality (variables, data structures, functions, or data types) wherever we might need them.\n",
    "2. Modules in Python give us \"namespaces,\" ensuring that if two programmers use the same variable or function name, they won't conflict with one another in a \"namespace collision.\"\n",
    "\n",
    "You can think of namespaces as last names (surnames), ensuring that we don't confuse variables of the same name with one another.\n",
    "\n",
    "It's a rare Python program that doesn't use at least one module to do its work. "
   ]
  },
  {
   "cell_type": "markdown",
   "metadata": {},
   "source": [
    "# How do we use a module?\n",
    "\n",
    "Using a module in Python is done with the `import` statement:\n",
    "\n",
    "1. It's a keyword and a statement. It's not a function, so don't use parentheses.\n",
    "2. In many programming languages, we give a filename (i.e., a string) to the equivalent of `import`, and that file is then loaded. As we'll see, that's not how it works in Python; we give a module name, i.e., a variable name that we want defined, and then Python has to figure out how to translate that into a filename.\n",
    "\n",
    "When we use `import`:\n",
    "- Python looks for the module on disk, and loads it, creating what we can call a \"module object,\" basically a storage facility for variables and functions.\n",
    "- Python then assigns the variable that we named after the `import` statement to that module object.\n",
    "- If the module was loaded already, then the variable is still assigned, but it isn't loaded a second time."
   ]
  },
  {
   "cell_type": "code",
   "execution_count": 2,
   "metadata": {},
   "outputs": [],
   "source": [
    "# let's load the \"random\" module, which comes with Python\n",
    "\n",
    "import random    "
   ]
  },
  {
   "cell_type": "code",
   "execution_count": 3,
   "metadata": {},
   "outputs": [
    {
     "data": {
      "text/plain": [
       "module"
      ]
     },
     "execution_count": 3,
     "metadata": {},
     "output_type": "execute_result"
    }
   ],
   "source": [
    "type(random)   # what kind of value is random referring to?"
   ]
  },
  {
   "cell_type": "code",
   "execution_count": 4,
   "metadata": {},
   "outputs": [
    {
     "data": {
      "text/plain": [
       "['BPF',\n",
       " 'LOG4',\n",
       " 'NV_MAGICCONST',\n",
       " 'RECIP_BPF',\n",
       " 'Random',\n",
       " 'SG_MAGICCONST',\n",
       " 'SystemRandom',\n",
       " 'TWOPI',\n",
       " '_ONE',\n",
       " '_Sequence',\n",
       " '__all__',\n",
       " '__builtins__',\n",
       " '__cached__',\n",
       " '__doc__',\n",
       " '__file__',\n",
       " '__loader__',\n",
       " '__name__',\n",
       " '__package__',\n",
       " '__spec__',\n",
       " '_accumulate',\n",
       " '_acos',\n",
       " '_bisect',\n",
       " '_ceil',\n",
       " '_cos',\n",
       " '_e',\n",
       " '_exp',\n",
       " '_fabs',\n",
       " '_floor',\n",
       " '_index',\n",
       " '_inst',\n",
       " '_isfinite',\n",
       " '_lgamma',\n",
       " '_log',\n",
       " '_log2',\n",
       " '_os',\n",
       " '_pi',\n",
       " '_random',\n",
       " '_repeat',\n",
       " '_sha512',\n",
       " '_sin',\n",
       " '_sqrt',\n",
       " '_test',\n",
       " '_test_generator',\n",
       " '_urandom',\n",
       " '_warn',\n",
       " 'betavariate',\n",
       " 'binomialvariate',\n",
       " 'choice',\n",
       " 'choices',\n",
       " 'expovariate',\n",
       " 'gammavariate',\n",
       " 'gauss',\n",
       " 'getrandbits',\n",
       " 'getstate',\n",
       " 'lognormvariate',\n",
       " 'normalvariate',\n",
       " 'paretovariate',\n",
       " 'randbytes',\n",
       " 'randint',\n",
       " 'random',\n",
       " 'randrange',\n",
       " 'sample',\n",
       " 'seed',\n",
       " 'setstate',\n",
       " 'shuffle',\n",
       " 'triangular',\n",
       " 'uniform',\n",
       " 'vonmisesvariate',\n",
       " 'weibullvariate']"
      ]
     },
     "execution_count": 4,
     "metadata": {},
     "output_type": "execute_result"
    }
   ],
   "source": [
    "# what names does it contain?\n",
    "# one easy way to find out is (in Jupyter) to run the \"dir\" function on it\n",
    "# this returns a list of strings, the names that the module contains\n",
    "# (inventory of our warehouse)\n",
    "\n",
    "dir(random)"
   ]
  },
  {
   "cell_type": "markdown",
   "metadata": {},
   "source": [
    "Names without a `_` at the start and/or end are fair game for us to use in a module. These are all \"attributes\" of the module, meaning that they're names which come after a `.` and the module's name.\n",
    "\n"
   ]
  },
  {
   "cell_type": "code",
   "execution_count": 5,
   "metadata": {},
   "outputs": [
    {
     "data": {
      "text/plain": [
       "85"
      ]
     },
     "execution_count": 5,
     "metadata": {},
     "output_type": "execute_result"
    }
   ],
   "source": [
    "# randint is a function defined in the random module\n",
    "# we can invoke it by calling random.randint, passing two arguments (min and max values)\n",
    "\n",
    "random.randint(0, 100)"
   ]
  },
  {
   "cell_type": "markdown",
   "metadata": {},
   "source": [
    "# Underscores in Python names\n",
    "\n",
    "In variables, functions, and also in modules, you'll often see names that start and/or end with `_`. These (can) have special meanings:\n",
    "\n",
    "- If a name *starts* with a single `_`, that means it's supposed to be private to the module. The author is trying to tell you that there are no promises regarding this working, not changing, etc. in the future. Try to avoid using these names, because there are not guarantees.\n",
    "- If a name *ends* with a single `_`, that's usually in scientific/AI applications and means that it was the results of running a model.\n",
    "- If a name *both starts and ends* with double underscores (`__`), these are known in Python as \"dunders.\" These names have special meaning for Python. If one is defined, and Python is looking for it, then you can really influence the way that the language works. Setting a dunder name without knowing what it does is asking for trouble."
   ]
  },
  {
   "cell_type": "markdown",
   "metadata": {},
   "source": [
    "# Exercise: Number guessing\n",
    "\n",
    "1. Load the `random` module into memory. We are (again) going to use `random.randint` in our program.\n",
    "2. Generate a random number using that module. Assign the result to `number`.\n",
    "3. Ask the user, repeatedly, to guess the random number:\n",
    "    - If they get it, congratulate them and exit\n",
    "    - If they are too low, tell them that\n",
    "    - If they are too high, tell them that\n",
    "4. Until the user guesses the number, the loop will continue."
   ]
  },
  {
   "cell_type": "code",
   "execution_count": 7,
   "metadata": {},
   "outputs": [
    {
     "name": "stdin",
     "output_type": "stream",
     "text": [
      "Enter guess:  50\n"
     ]
    },
    {
     "name": "stdout",
     "output_type": "stream",
     "text": [
      "Too low!\n"
     ]
    },
    {
     "name": "stdin",
     "output_type": "stream",
     "text": [
      "Enter guess:  75\n"
     ]
    },
    {
     "name": "stdout",
     "output_type": "stream",
     "text": [
      "Too low!\n"
     ]
    },
    {
     "name": "stdin",
     "output_type": "stream",
     "text": [
      "Enter guess:  90\n"
     ]
    },
    {
     "name": "stdout",
     "output_type": "stream",
     "text": [
      "Too high!\n"
     ]
    },
    {
     "name": "stdin",
     "output_type": "stream",
     "text": [
      "Enter guess:  85\n"
     ]
    },
    {
     "name": "stdout",
     "output_type": "stream",
     "text": [
      "Too high!\n"
     ]
    },
    {
     "name": "stdin",
     "output_type": "stream",
     "text": [
      "Enter guess:  80\n"
     ]
    },
    {
     "name": "stdout",
     "output_type": "stream",
     "text": [
      "Too high!\n"
     ]
    },
    {
     "name": "stdin",
     "output_type": "stream",
     "text": [
      "Enter guess:  77\n"
     ]
    },
    {
     "name": "stdout",
     "output_type": "stream",
     "text": [
      "Too low!\n"
     ]
    },
    {
     "name": "stdin",
     "output_type": "stream",
     "text": [
      "Enter guess:  78\n"
     ]
    },
    {
     "name": "stdout",
     "output_type": "stream",
     "text": [
      "You got it!\n"
     ]
    }
   ],
   "source": [
    "# import random  \n",
    "\n",
    "number = random.randint(0, 100)   # get a random number\n",
    "\n",
    "while True:\n",
    "    s = input('Enter guess: ').strip()\n",
    "\n",
    "    if not s.isdigit():\n",
    "        print(f'{s} is not numeric; try again')\n",
    "        continue\n",
    "\n",
    "    n = int(s)\n",
    "\n",
    "    if n == number:\n",
    "        print('You got it!')\n",
    "        break\n",
    "    elif n < number:\n",
    "        print('Too low!')\n",
    "    else:\n",
    "        print('Too high!')\n"
   ]
  },
  {
   "cell_type": "code",
   "execution_count": null,
   "metadata": {},
   "outputs": [],
   "source": [
    "# AB\n",
    "\n",
    "import random\n",
    "rando_num = random.randint(0,100)\n",
    "\n",
    "while True:\n",
    "    number = int(input(\"what is the random number?\"))\n",
    "    if rando_num > number:\n",
    "        print(\"You are too low!\")\n",
    "    elif rando_num < number:\n",
    "        print(\"You are too high!\")\n",
    "    else:\n",
    "        print(\"You have found the number!\")\n",
    "        break"
   ]
  },
  {
   "cell_type": "markdown",
   "metadata": {},
   "source": [
    "The best way to check if the user gave us a legit integer as input is to let the function fail, and trap that failure, known as \"exception handling.\" \n",
    "\n",
    "Next best, which is what I showed in class, is to check the string to be sure it contains only digits. Python offers three string methods that are almost identical:\n",
    "\n",
    "- `str.isdigit()`\n",
    "- `str.isnumeric()`\n",
    "- `str.isdecimal()`\n",
    "\n",
    "For most cases, these will give identical results. I tend to use `isdigit`, just because it's shorter."
   ]
  },
  {
   "cell_type": "markdown",
   "metadata": {},
   "source": [
    "In Jupyter, you can stop the `input` process by going to the Kernel menu and choosing \"interrupt.\" If that doesn't work, then you can choose \"restart kernel,\" which erases all defined variables/functions since Jupyter started, but is more likely to succeed."
   ]
  },
  {
   "cell_type": "markdown",
   "metadata": {},
   "source": [
    "What if I am going to be calling `random.randint` many times? Can I just call `randint`?"
   ]
  },
  {
   "cell_type": "code",
   "execution_count": 8,
   "metadata": {},
   "outputs": [
    {
     "ename": "NameError",
     "evalue": "name 'randint' is not defined",
     "output_type": "error",
     "traceback": [
      "\u001b[1;31m---------------------------------------------------------------------------\u001b[0m",
      "\u001b[1;31mNameError\u001b[0m                                 Traceback (most recent call last)",
      "Cell \u001b[1;32mIn[8], line 1\u001b[0m\n\u001b[1;32m----> 1\u001b[0m \u001b[43mrandint\u001b[49m(\u001b[38;5;241m0\u001b[39m, \u001b[38;5;241m100\u001b[39m)\n",
      "\u001b[1;31mNameError\u001b[0m: name 'randint' is not defined"
     ]
    }
   ],
   "source": [
    "randint(0, 100)"
   ]
  },
  {
   "cell_type": "markdown",
   "metadata": {},
   "source": [
    "We can see that when we used `import random`, we defined the variable `random`. It, as as module, then gives us access to all of its attributes. So we can call `random.randint`. But `randint` by itself doesn't exist.\n",
    "\n",
    "However, we can define it!\n",
    "\n",
    "We can use a different syntax for `import`:\n",
    "\n",
    "    from MODULE import name\n",
    "\n",
    "What this does is:\n",
    "- Imports the module, just like before, except that it doesn't define the variable\n",
    "- It does define the specific variable you asked about\n",
    "\n",
    "So if you were to say\n",
    "\n",
    "    from random import randint\n",
    "\n",
    "The `random` module would still be imported from disk in its entirety, and would be stored in Python's memory. However, there would be no `random` variable referring to the module. Rather, there would be the `randint` variable referring to what `random.randint` had previously referred to."
   ]
  },
  {
   "cell_type": "code",
   "execution_count": 1,
   "metadata": {},
   "outputs": [
    {
     "ename": "NameError",
     "evalue": "name 'random' is not defined",
     "output_type": "error",
     "traceback": [
      "\u001b[1;31m---------------------------------------------------------------------------\u001b[0m",
      "\u001b[1;31mNameError\u001b[0m                                 Traceback (most recent call last)",
      "Cell \u001b[1;32mIn[1], line 1\u001b[0m\n\u001b[1;32m----> 1\u001b[0m \u001b[43mrandom\u001b[49m\u001b[38;5;241m.\u001b[39mrandint(\u001b[38;5;241m0\u001b[39m, \u001b[38;5;241m100\u001b[39m)\n",
      "\u001b[1;31mNameError\u001b[0m: name 'random' is not defined"
     ]
    }
   ],
   "source": [
    "random.randint(0, 100)"
   ]
  },
  {
   "cell_type": "code",
   "execution_count": 2,
   "metadata": {},
   "outputs": [],
   "source": [
    "from random import randint   # this means: I want to define randint as a variable"
   ]
  },
  {
   "cell_type": "code",
   "execution_count": 3,
   "metadata": {},
   "outputs": [
    {
     "ename": "NameError",
     "evalue": "name 'random' is not defined",
     "output_type": "error",
     "traceback": [
      "\u001b[1;31m---------------------------------------------------------------------------\u001b[0m",
      "\u001b[1;31mNameError\u001b[0m                                 Traceback (most recent call last)",
      "Cell \u001b[1;32mIn[3], line 1\u001b[0m\n\u001b[1;32m----> 1\u001b[0m \u001b[43mrandom\u001b[49m\n",
      "\u001b[1;31mNameError\u001b[0m: name 'random' is not defined"
     ]
    }
   ],
   "source": [
    "random"
   ]
  },
  {
   "cell_type": "code",
   "execution_count": 4,
   "metadata": {},
   "outputs": [
    {
     "data": {
      "text/plain": [
       "86"
      ]
     },
     "execution_count": 4,
     "metadata": {},
     "output_type": "execute_result"
    }
   ],
   "source": [
    "randint(0, 100)"
   ]
  },
  {
   "cell_type": "markdown",
   "metadata": {},
   "source": [
    "If you say `from random import randint`, then you don't have access to the other names in the `random` module. You can import them one by one:\n",
    "\n",
    "    from random import randint, choice, choose\n",
    "\n",
    "Now those three names will be defined as variables, rather than as attributes under `random`."
   ]
  },
  {
   "cell_type": "code",
   "execution_count": 5,
   "metadata": {},
   "outputs": [],
   "source": [
    "import random as r    # this gives the module an alias; it won't be known as \"random\""
   ]
  },
  {
   "cell_type": "code",
   "execution_count": 6,
   "metadata": {},
   "outputs": [
    {
     "data": {
      "text/plain": [
       "58"
      ]
     },
     "execution_count": 6,
     "metadata": {},
     "output_type": "execute_result"
    }
   ],
   "source": [
    "r.randint(0, 100)"
   ]
  },
  {
   "cell_type": "code",
   "execution_count": 7,
   "metadata": {},
   "outputs": [
    {
     "data": {
      "text/plain": [
       "<module 'random' from '/Users/reuven/.pyenv/versions/3.12.1/lib/python3.12/random.py'>"
      ]
     },
     "execution_count": 7,
     "metadata": {},
     "output_type": "execute_result"
    }
   ],
   "source": [
    "r"
   ]
  },
  {
   "cell_type": "markdown",
   "metadata": {},
   "source": [
    "You might want to use `import .. as` in cases where the module is deep in a hierarchy of packages. Also, there are many modules that expect you to import them with an alias, out of convention.\n",
    "\n",
    "For example, the `numpy` module assumes that you'll say `import numpy as np`\n",
    "\n",
    "Finally, you can say `from MODULE import NAME as ALIAS`. This way, you get one imported name, with the alias you choose."
   ]
  },
  {
   "cell_type": "markdown",
   "metadata": {},
   "source": [
    "# Ways to `import`\n",
    "\n",
    "- `import MODNAME`\n",
    "- `from MODNAME import NAME`\n",
    "- `import MODNAME as ALIAS`\n",
    "- `from MODNAME import NAME as ALIAS`\n",
    "\n",
    "All of these work, and all are common in Python programs.\n",
    "\n",
    "There is a fifth version of this:\n",
    "\n",
    "- `from MODNAME import *`\n",
    "\n",
    "What that means is: Load the module and everything defined in the module should then be defined as a variable in you program.\n",
    "\n",
    "If `MODNAME` were to have 20 attributes defined in the module, you would now have 20 new global variables by those names.\n",
    "\n",
    "**PLEASE DO NOT USE THIS SYNTAX!**  It will just cause trouble and pain at some point down the road.\n",
    "\n"
   ]
  },
  {
   "cell_type": "markdown",
   "metadata": {},
   "source": [
    "# Where are modules loaded from?\n",
    "\n",
    "We saw two things:\n",
    "\n",
    "- When we use `import`, we don't specify a filename to load\n",
    "- When we asked to see the printed representation of `random`, it told us from which file it was loaded\n",
    "\n",
    "How does Python know how to find the module file based on the name I gave?\n",
    "\n",
    "Answer: It takes the module name we gave, and adds `.py` to it to get a filename. It then looks for this filename in every directory in the special list `sys.path`. Python runs a `for` loop on `sys.path`, looking for our filename. The first match that it finds is the winner.\n",
    "\n",
    "That means that if you have a file in the current directory whose name is the same as a module in a later directory, you'll never see the file in the later directory."
   ]
  },
  {
   "cell_type": "code",
   "execution_count": 9,
   "metadata": {},
   "outputs": [
    {
     "data": {
      "text/plain": [
       "<module 'random' from '/Users/reuven/.pyenv/versions/3.12.1/lib/python3.12/random.py'>"
      ]
     },
     "execution_count": 9,
     "metadata": {},
     "output_type": "execute_result"
    }
   ],
   "source": [
    "r"
   ]
  },
  {
   "cell_type": "code",
   "execution_count": 10,
   "metadata": {},
   "outputs": [],
   "source": [
    "import sys"
   ]
  },
  {
   "cell_type": "code",
   "execution_count": 11,
   "metadata": {},
   "outputs": [
    {
     "data": {
      "text/plain": [
       "['/Users/reuven/Courses/Current/OReilly-2024-02February-python',\n",
       " '/Users/reuven/.pyenv/versions/3.12.1/lib/python312.zip',\n",
       " '/Users/reuven/.pyenv/versions/3.12.1/lib/python3.12',\n",
       " '/Users/reuven/.pyenv/versions/3.12.1/lib/python3.12/lib-dynload',\n",
       " '',\n",
       " '/Users/reuven/.pyenv/versions/3.12.1/lib/python3.12/site-packages']"
      ]
     },
     "execution_count": 11,
     "metadata": {},
     "output_type": "execute_result"
    }
   ],
   "source": [
    "sys.path"
   ]
  },
  {
   "cell_type": "markdown",
   "metadata": {},
   "source": [
    "# Next up\n",
    "\n",
    "- Develop a module\n",
    "- Special names (\"dunders\") that are defined in modules\n",
    "- Add functionality to our module\n",
    "- Reloading them, as well"
   ]
  },
  {
   "cell_type": "code",
   "execution_count": 12,
   "metadata": {},
   "outputs": [],
   "source": [
    "# import some_name   # Python will look for some_name.py in all the sys.path locations\n",
    "\n",
    "# if I create a file called mymod.py in the current directory,\n",
    "# then Python will load the module, and give me access to its contents."
   ]
  },
  {
   "cell_type": "code",
   "execution_count": 13,
   "metadata": {},
   "outputs": [],
   "source": [
    "import mymod"
   ]
  },
  {
   "cell_type": "code",
   "execution_count": 14,
   "metadata": {},
   "outputs": [
    {
     "data": {
      "text/plain": [
       "<module 'mymod' from '/Users/reuven/Courses/Current/OReilly-2024-02February-python/mymod.py'>"
      ]
     },
     "execution_count": 14,
     "metadata": {},
     "output_type": "execute_result"
    }
   ],
   "source": [
    "mymod"
   ]
  },
  {
   "cell_type": "code",
   "execution_count": 15,
   "metadata": {},
   "outputs": [
    {
     "data": {
      "text/plain": [
       "['__builtins__',\n",
       " '__cached__',\n",
       " '__doc__',\n",
       " '__file__',\n",
       " '__loader__',\n",
       " '__name__',\n",
       " '__package__',\n",
       " '__spec__']"
      ]
     },
     "execution_count": 15,
     "metadata": {},
     "output_type": "execute_result"
    }
   ],
   "source": [
    "# we loaded my empty module.\n",
    "# what attributes will we see when we run \"dir\" on it?\n",
    "\n",
    "dir(mymod)"
   ]
  },
  {
   "cell_type": "markdown",
   "metadata": {},
   "source": [
    "# Some of the dunders on our module\n",
    "\n",
    "When we `import` a module, even an empty module, Python defines a bunch of dunders (names with double underscore before/after them):\n",
    "\n",
    "- `__builtins__` -- this is an alias to the \"builtins\" namespace, where things like `len` and `str` and `dict` are all defined.\n",
    "- `__file__` -- the filename that was loaded\n",
    "- `__name__` -- this is the name of the module itself. For `random`, it's the string `'random'`. "
   ]
  },
  {
   "cell_type": "code",
   "execution_count": 16,
   "metadata": {},
   "outputs": [
    {
     "data": {
      "text/plain": [
       "'/Users/reuven/Courses/Current/OReilly-2024-02February-python/mymod.py'"
      ]
     },
     "execution_count": 16,
     "metadata": {},
     "output_type": "execute_result"
    }
   ],
   "source": [
    "mymod.__file__"
   ]
  },
  {
   "cell_type": "code",
   "execution_count": 18,
   "metadata": {},
   "outputs": [
    {
     "data": {
      "text/plain": [
       "'mymod'"
      ]
     },
     "execution_count": 18,
     "metadata": {},
     "output_type": "execute_result"
    }
   ],
   "source": [
    "mymod.__name__"
   ]
  },
  {
   "cell_type": "markdown",
   "metadata": {},
   "source": [
    "# Loading and reloading\n",
    "\n",
    "Normally, a Python program runs starting in an empty environment, without anything defined. This means that when you say `import`, the module is imported, and its contents are available until the program exits.\n",
    "\n",
    "In Jupyter, we don't start Python many times. Rather, Python is always running. If you `import` once, you'll get the module loaded, as per usual. But if you modify the module and then `import` a second time, you'll get the old version, because `import` only works once per file in a Python session.\n",
    "\n",
    "I have configured my Jupyter to automatically reload modules. But that is not the norm! Usually, you need to tell Python that you want to reload a module; otherwise, it won't do that.\n",
    "\n",
    "We will use the `reload` function in the `importlib` module to reload things:"
   ]
  },
  {
   "cell_type": "code",
   "execution_count": 20,
   "metadata": {},
   "outputs": [
    {
     "data": {
      "text/plain": [
       "<module 'mymod' from '/Users/reuven/Courses/Current/OReilly-2024-02February-python/mymod.py'>"
      ]
     },
     "execution_count": 20,
     "metadata": {},
     "output_type": "execute_result"
    }
   ],
   "source": [
    "import importlib            # provides import-related functionality\n",
    "importlib.reload(mymod)     # reloads a module that was already loaded before"
   ]
  },
  {
   "cell_type": "code",
   "execution_count": 21,
   "metadata": {},
   "outputs": [
    {
     "data": {
      "text/plain": [
       "['__builtins__',\n",
       " '__cached__',\n",
       " '__file__',\n",
       " '__loader__',\n",
       " '__name__',\n",
       " '__package__',\n",
       " '__spec__',\n",
       " 'hello',\n",
       " 'x',\n",
       " 'y',\n",
       " 'z']"
      ]
     },
     "execution_count": 21,
     "metadata": {},
     "output_type": "execute_result"
    }
   ],
   "source": [
    "# let's look at what our module includes now!\n",
    "\n",
    "dir(mymod)"
   ]
  },
  {
   "cell_type": "code",
   "execution_count": 22,
   "metadata": {},
   "outputs": [
    {
     "data": {
      "text/plain": [
       "100"
      ]
     },
     "execution_count": 22,
     "metadata": {},
     "output_type": "execute_result"
    }
   ],
   "source": [
    "mymod.x"
   ]
  },
  {
   "cell_type": "code",
   "execution_count": 23,
   "metadata": {},
   "outputs": [
    {
     "data": {
      "text/plain": [
       "[10, 20, 30]"
      ]
     },
     "execution_count": 23,
     "metadata": {},
     "output_type": "execute_result"
    }
   ],
   "source": [
    "mymod.y"
   ]
  },
  {
   "cell_type": "code",
   "execution_count": 24,
   "metadata": {},
   "outputs": [
    {
     "data": {
      "text/plain": [
       "10"
      ]
     },
     "execution_count": 24,
     "metadata": {},
     "output_type": "execute_result"
    }
   ],
   "source": [
    "mymod.z['a']"
   ]
  },
  {
   "cell_type": "markdown",
   "metadata": {},
   "source": [
    "# Notice how variables (in the module) become attributes (out of the module)\n",
    "\n",
    "In the module file, we defined `x`, `y`, `z`, and `hello` as global variables.\n",
    "\n",
    "When we used `import` on `mymod`, we got all of those -- but not as variables. Rather, we got them as attributes on the module object."
   ]
  },
  {
   "cell_type": "markdown",
   "metadata": {},
   "source": [
    "# What are attributes?\n",
    "\n",
    "In Python, we have two storage systems for values:\n",
    "\n",
    "- Variables, which are names (`x`, `name`, and `s`)\n",
    "- Attributes, which are names that belong to someone else. These all come after a `.`.  So if we see `a.b`, then we say that `a` is a variable, but `b` is an attribute of `a`.\n",
    "\n",
    "When we `import` a module, the module object gets a bunch of attributes, meaning names that we can access via the module, using `.`.\n",
    "\n",
    "When we said `import mymod`, we now not only had the `mymod` variable (referring to the module object), but we also had four attributes -- `mymod.x`, `mymod.y`, `mymod.z`, and `mymod.hello`. Just as variable names can be for data or functions, attributes can also be data or functions."
   ]
  },
  {
   "cell_type": "markdown",
   "metadata": {},
   "source": [
    "# Exercise: `menu` module, first stage\n",
    "\n",
    "We are going to write a module that lets programs present the user with a bunch of options. The user will need to choose one of those options. We'll then find out which option they chose.\n",
    "\n",
    "This will all be in the `menu` module (i.e., `menu.py`). We'll start with a simpler function:\n",
    "\n",
    "1. Create a file, `menu.py`, in the same directory as Jupyter.\n",
    "2. Inside of `menu.py`, write a function, `get_input`. When this function is invoked, it asks the user to enter some input. It returns the user's input to the caller, but removing any whitespace on the start and end. In other words, it'll run `str.strip` on the user's input.\n",
    "\n",
    "I should be able to, when this module is working/done, say:\n",
    "\n",
    "    import menu\n",
    "    s = menu.get_input()\n",
    "    print(f'You typed {s}')"
   ]
  },
  {
   "cell_type": "code",
   "execution_count": 27,
   "metadata": {},
   "outputs": [
    {
     "name": "stdin",
     "output_type": "stream",
     "text": [
      "Enter something:         something       \n"
     ]
    },
    {
     "name": "stdout",
     "output_type": "stream",
     "text": [
      "You typed something\n"
     ]
    }
   ],
   "source": [
    "import menu\n",
    "s = menu.get_input()\n",
    "print(f'You typed {s}')"
   ]
  },
  {
   "cell_type": "markdown",
   "metadata": {},
   "source": [
    "# Exercise: Get the user's choice\n",
    "\n",
    "Now define a new function in our module, `get_choice`. \n",
    "\n",
    "1. `get_choice` takes a list of strings as arguments.\n",
    "2. It asks the user to enter one of those strings.\n",
    "3. If the user enters one of those strings, it is returned to the caller.\n",
    "4. If not, then the function scold the user and asks again.\n",
    "\n",
    "So `get_choice` will be an infinite loop, which only exits when the user chooses one of the options that was passed as an argument to the `get_choice` function.\n",
    "\n",
    "Example:\n",
    "\n",
    "    user_choice = get_choice(['a', 'b', 'c'])\n",
    "\n",
    "    Choose from a/b/c: d\n",
    "    d is not a legit option; try again\n",
    "    Choose from a/b/c: b\n",
    "    [function returns b]"
   ]
  },
  {
   "cell_type": "code",
   "execution_count": 29,
   "metadata": {},
   "outputs": [
    {
     "name": "stdin",
     "output_type": "stream",
     "text": [
      "Choose from ['a', 'b', 'c']:  d\n"
     ]
    },
    {
     "name": "stdout",
     "output_type": "stream",
     "text": [
      "d is invalid; try again\n"
     ]
    },
    {
     "name": "stdin",
     "output_type": "stream",
     "text": [
      "Choose from ['a', 'b', 'c']:  b\n"
     ]
    }
   ],
   "source": [
    "import menu\n",
    "user_choice = menu.get_choice(['a', 'b', 'c'])"
   ]
  },
  {
   "cell_type": "code",
   "execution_count": 30,
   "metadata": {},
   "outputs": [
    {
     "name": "stdout",
     "output_type": "stream",
     "text": [
      "User chose b\n"
     ]
    }
   ],
   "source": [
    "print(f'User chose {user_choice}')"
   ]
  },
  {
   "cell_type": "markdown",
   "metadata": {},
   "source": [
    "# What happens when we `import`?\n",
    "\n",
    "It turns out that when we `import` a module, we are actually causing the module file to be executed, from start to finish.\n",
    "\n",
    "Normally, our module contains `def` (to define functions) and assignments to variables (with `=`).\n",
    "\n",
    "Think about it: After I `import` a module, I want to use the functions in the module. They are only available if the `def` already executed."
   ]
  },
  {
   "cell_type": "code",
   "execution_count": 32,
   "metadata": {},
   "outputs": [
    {
     "name": "stdout",
     "output_type": "stream",
     "text": [
      "Hello from mymod!\n",
      "Goodbye from mymod!\n"
     ]
    },
    {
     "data": {
      "text/plain": [
       "<module 'mymod' from '/Users/reuven/Courses/Current/OReilly-2024-02February-python/mymod.py'>"
      ]
     },
     "execution_count": 32,
     "metadata": {},
     "output_type": "execute_result"
    }
   ],
   "source": [
    "importlib.reload(mymod)"
   ]
  },
  {
   "cell_type": "markdown",
   "metadata": {},
   "source": [
    "# Next up\n",
    "\n",
    "- `__name__` and its magical qualities\n",
    "- Python's standard library\n",
    "- Third-party modules, PyPI, and `pip`"
   ]
  },
  {
   "cell_type": "code",
   "execution_count": 33,
   "metadata": {},
   "outputs": [
    {
     "data": {
      "text/plain": [
       "['__builtins__',\n",
       " '__cached__',\n",
       " '__file__',\n",
       " '__loader__',\n",
       " '__name__',\n",
       " '__package__',\n",
       " '__spec__',\n",
       " 'hello',\n",
       " 'x',\n",
       " 'y',\n",
       " 'z']"
      ]
     },
     "execution_count": 33,
     "metadata": {},
     "output_type": "execute_result"
    }
   ],
   "source": [
    "dir(mymod)"
   ]
  },
  {
   "cell_type": "code",
   "execution_count": 35,
   "metadata": {},
   "outputs": [
    {
     "name": "stdout",
     "output_type": "stream",
     "text": [
      "Hello from mymod!\n",
      "Goodbye from mymod!\n"
     ]
    },
    {
     "data": {
      "text/plain": [
       "<module 'mymod' from '/Users/reuven/Courses/Current/OReilly-2024-02February-python/mymod.py'>"
      ]
     },
     "execution_count": 35,
     "metadata": {},
     "output_type": "execute_result"
    }
   ],
   "source": [
    "importlib.reload(mymod)"
   ]
  },
  {
   "cell_type": "markdown",
   "metadata": {},
   "source": [
    "# `__name__` (\"dunder name\")\n",
    "\n",
    "The variable `__name__` always exists and is defined in Python. \n",
    "\n",
    "If we have it in a module file, then it can have one of two values:\n",
    "\n",
    "- If we have imported the module, the `__name__` is a string, the name of the module. So in `mymod.py`, its value would be the string `'mymod'`.\n",
    "- If the module is run as a standalone program, then `__name__` is the string `'__main__'`. In fact, any Python program that we run has `__name__` equal to `'__main__'`. Any value that isn't this means that we have imported that module for use of its definitions.\n",
    "\n",
    "The reason I'm telling you this is that there's a very famous line that is in nearly every Python module:\n",
    "\n",
    "```python\n",
    "if __name__ == '__main__':\n",
    "    # STUFF HERE\n",
    "```\n",
    "\n",
    "This is usually at the end of the module. It means: The below code will only run when you execute this file. It will *not* run when you `import` this file.\n",
    "\n",
    "Many, *many* modules use this, but in different ways:\n",
    "- Some will provide an interactive interface to the functions that were defined in the module\n",
    "- Some will run automated tests on themselves\n",
    "- Some will demo the functionality they offer"
   ]
  },
  {
   "cell_type": "code",
   "execution_count": 37,
   "metadata": {},
   "outputs": [
    {
     "data": {
      "text/plain": [
       "<module 'menu' from '/Users/reuven/Courses/Current/OReilly-2024-02February-python/menu.py'>"
      ]
     },
     "execution_count": 37,
     "metadata": {},
     "output_type": "execute_result"
    }
   ],
   "source": [
    "importlib.reload(menu)"
   ]
  },
  {
   "cell_type": "markdown",
   "metadata": {},
   "source": [
    "# Python standard library\n",
    "\n",
    "When you install Python, you get a large number of modules with it. These are collectively known as the \"standard library.\"\n",
    "\n",
    "If you use a module from the standard library in your program, you stil need to `import` it. But if you give your program to a friend, and they're also running Python, then they don't need to install anything special. The standard library is available to anyone with Python installed. Given a particular version of Python (e.g., 3.12), all users, on all platforms, have access to the same standard library.\n",
    "\n",
    "Let's look at the list of modules in the standard library! \n",
    "\n",
    "    https://docs.python.org/3/library/index.html"
   ]
  },
  {
   "cell_type": "code",
   "execution_count": 38,
   "metadata": {},
   "outputs": [],
   "source": [
    "import glob   # this module lets us get a list of files matching a pattern"
   ]
  },
  {
   "cell_type": "code",
   "execution_count": 39,
   "metadata": {},
   "outputs": [
    {
     "data": {
      "text/plain": [
       "['mini-access-log.txt',\n",
       " 'nums.txt',\n",
       " 'config.txt',\n",
       " 'shoe-data.txt',\n",
       " 'linux-etc-passwd.txt',\n",
       " 'wcfile.txt',\n",
       " 'myfile.txt']"
      ]
     },
     "execution_count": 39,
     "metadata": {},
     "output_type": "execute_result"
    }
   ],
   "source": [
    "# module is glob\n",
    "# function is also glob!\n",
    "glob.glob('*.txt')"
   ]
  },
  {
   "cell_type": "code",
   "execution_count": 41,
   "metadata": {},
   "outputs": [
    {
     "data": {
      "text/plain": [
       "os.stat_result(st_mode=33188, st_ino=213565303, st_dev=16777221, st_nlink=1, st_uid=501, st_gid=20, st_size=42, st_atime=1709798364, st_mtime=1505818936, st_ctime=1709798281)"
      ]
     },
     "execution_count": 41,
     "metadata": {},
     "output_type": "execute_result"
    }
   ],
   "source": [
    "import os\n",
    "\n",
    "os.stat('nums.txt')  # this returns info about that file, including the size"
   ]
  },
  {
   "cell_type": "code",
   "execution_count": 42,
   "metadata": {},
   "outputs": [
    {
     "data": {
      "text/plain": [
       "42"
      ]
     },
     "execution_count": 42,
     "metadata": {},
     "output_type": "execute_result"
    }
   ],
   "source": [
    "os.stat('nums.txt').st_size   # this returns the size of the file we named"
   ]
  },
  {
   "cell_type": "markdown",
   "metadata": {},
   "source": [
    "# Exercise: File sizes\n",
    "\n",
    "1. Ask the user to enter a globbing pattern, such as `*.txt`.\n",
    "2. Iterate over the filenames that you got, and run `os.stat` on each file.\n",
    "3. Then retrieve the `st_size` attribute from the result of `os.stat`.\n",
    "4. Print the filename and its size on the screen.\n",
    "5. "
   ]
  },
  {
   "cell_type": "code",
   "execution_count": 43,
   "metadata": {},
   "outputs": [
    {
     "name": "stdin",
     "output_type": "stream",
     "text": [
      "Enter a pattern:  *.txt\n"
     ]
    },
    {
     "name": "stdout",
     "output_type": "stream",
     "text": [
      "mini-access-log.txt: 36562\n",
      "nums.txt: 42\n",
      "config.txt: 15\n",
      "shoe-data.txt: 1676\n",
      "linux-etc-passwd.txt: 2683\n",
      "wcfile.txt: 165\n",
      "myfile.txt: 27\n"
     ]
    }
   ],
   "source": [
    "import glob\n",
    "import os\n",
    "\n",
    "pattern = input('Enter a pattern: ').strip()\n",
    "\n",
    "for one_filename in glob.glob(pattern):\n",
    "    stat_results = os.stat(one_filename)\n",
    "    print(f'{one_filename}: {stat_results.st_size}')"
   ]
  },
  {
   "cell_type": "code",
   "execution_count": null,
   "metadata": {},
   "outputs": [],
   "source": [
    "# AB\n",
    "\n",
    "import glob\n",
    "import os\n",
    "patt = input(\"Enter a globbing pattern: \")\n",
    "txt_list = glob.glob(patt)\n",
    "for x in txt_list:\n",
    "    print(f\"{x}: {os.stat(x)} > Size: {os.stat(x).st_size}\")"
   ]
  },
  {
   "cell_type": "code",
   "execution_count": 44,
   "metadata": {},
   "outputs": [
    {
     "data": {
      "text/plain": [
       "['mini-access-log.txt',\n",
       " 'nums.txt',\n",
       " 'config.txt',\n",
       " 'shoe-data.txt',\n",
       " 'linux-etc-passwd.txt',\n",
       " 'wcfile.txt',\n",
       " 'myfile.txt']"
      ]
     },
     "execution_count": 44,
     "metadata": {},
     "output_type": "execute_result"
    }
   ],
   "source": [
    "glob.glob('*x*')"
   ]
  },
  {
   "cell_type": "code",
   "execution_count": 45,
   "metadata": {},
   "outputs": [
    {
     "data": {
      "text/plain": [
       "[]"
      ]
     },
     "execution_count": 45,
     "metadata": {},
     "output_type": "execute_result"
    }
   ],
   "source": [
    "glob.glob('*j*')"
   ]
  },
  {
   "cell_type": "code",
   "execution_count": 47,
   "metadata": {},
   "outputs": [
    {
     "data": {
      "text/plain": [
       "['config.txt']"
      ]
     },
     "execution_count": 47,
     "metadata": {},
     "output_type": "execute_result"
    }
   ],
   "source": [
    "glob.glob('c*')"
   ]
  },
  {
   "cell_type": "markdown",
   "metadata": {},
   "source": [
    "# What if a module isn't in the standard library?\n",
    "\n",
    "The standard library is huge -- but there many, *many* modules that we might want to install that aren't part of the standard library. Where are they? How can I download and install them?\n",
    "\n",
    "They are all on PyPI, the Python Package Index, at https://PyPI.org"
   ]
  },
  {
   "cell_type": "markdown",
   "metadata": {},
   "source": [
    "# Next up\n",
    "\n",
    "1. Practice installing with `pip` and using something from PyPI\n",
    "2. What next? Where do we go from here (with Python)?"
   ]
  },
  {
   "cell_type": "markdown",
   "metadata": {},
   "source": [
    "# To install from PyPI\n",
    "\n",
    "1. Find the package on PyPI\n",
    "2. On the command line (i.e., not in Jupyter!) run the `pip` command, as `pip install PACKAGE`.\n",
    "    - If you already have the package installed, and there's a newer version on PyPI, the newer one will *not* be installed unless you add the `-U` (or `--update`) option"
   ]
  }
 ],
 "metadata": {
  "kernelspec": {
   "display_name": "Python 3 (ipykernel)",
   "language": "python",
   "name": "python3"
  },
  "language_info": {
   "codemirror_mode": {
    "name": "ipython",
    "version": 3
   },
   "file_extension": ".py",
   "mimetype": "text/x-python",
   "name": "python",
   "nbconvert_exporter": "python",
   "pygments_lexer": "ipython3",
   "version": "3.12.1"
  }
 },
 "nbformat": 4,
 "nbformat_minor": 4
}
