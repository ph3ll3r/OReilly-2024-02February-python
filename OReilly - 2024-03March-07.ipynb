{
 "cells": [
  {
   "cell_type": "markdown",
   "metadata": {},
   "source": [
    "# Agenda: Day 5 -- modules and packages\n",
    "\n",
    "1. Q&A\n",
    "2. What are modules? What do they contain? How do we use them?\n",
    "3. The `import` statement -- what it does, and how to use it (different forms)\n",
    "4. Developing a simple module\n",
    "5. Python's standard library\n",
    "6. Modules vs. packages\n",
    "7. PyPI and `pip`\n",
    "8. What's next?\n"
   ]
  },
  {
   "cell_type": "code",
   "execution_count": null,
   "metadata": {},
   "outputs": [],
   "source": []
  }
 ],
 "metadata": {
  "kernelspec": {
   "display_name": "Python 3 (ipykernel)",
   "language": "python",
   "name": "python3"
  },
  "language_info": {
   "codemirror_mode": {
    "name": "ipython",
    "version": 3
   },
   "file_extension": ".py",
   "mimetype": "text/x-python",
   "name": "python",
   "nbconvert_exporter": "python",
   "pygments_lexer": "ipython3",
   "version": "3.12.1"
  }
 },
 "nbformat": 4,
 "nbformat_minor": 4
}
