{
 "cells": [
  {
   "cell_type": "markdown",
   "metadata": {},
   "source": [
    "# Agenda: Day 4 -- functions\n",
    "\n",
    "1. Questions\n",
    "2. What are functions?\n",
    "3. How do we define functions?\n",
    "4. Arguments and parameters\n",
    "5. Return values (return values vs. printing)\n",
    "6. Default argument values\n",
    "7. Complex return values (and some unpacking)\n",
    "8. Local vs. global variables"
   ]
  },
  {
   "cell_type": "markdown",
   "metadata": {},
   "source": [
    "# What are functions?\n",
    "\n",
    "We've been using functions (and methods) throughout this course:\n",
    "\n",
    "- `len`\n",
    "- `print`\n",
    "- `input`\n",
    "- `str.strip`\n",
    "- `str.split`\n",
    "\n",
    "Functions are the verbs of a programming language; they get things done.\n",
    "\n",
    "You might remember the DRY (\"don't repeat yourself\") rule, which says:\n",
    "\n",
    "- If we have the same code several times in a row, we can \"DRY it up\" into a loop\n",
    "- If we have the same code in several different places in our program, we can \"DRY it up\" into a function. That is: We define the function in one place, and then use it in many other places.\n",
    "\n",
    "Defining functions gives us many practical and semantic advantages:\n",
    "- We only have to write the code a single time.\n",
    "- When it comes time to debug/improve/change/optimize our code, having things in a function makes that so much easier\n",
    "- We gain semantic power by using a function, creating a higher level of abstraction.\n",
    "\n",
    "Abstraction is the idea that we can take some functionality, wrap it up under a name, and not think about the underlying implementation. We can treat it as a black box that accomplishes a goal. Once we've created that abstraction, we can use it in higher-level things.\n",
    "\n",
    "By writing functions, we create higher-level abstractions. We can think at a higher level, and solve bigger problems by ignoring the nitty-gritty that's going on inside of the function. A great deal of programming involves writing functions so that we can think at that higher level."
   ]
  },
  {
   "cell_type": "markdown",
   "metadata": {},
   "source": [
    "# How do I define a function?\n",
    "\n",
    "- We write `def`, a reserved word\n",
    "- We give the function a name -- it's a variable name, so it has to follow variable-name rules\n",
    "- After the name, we put `()`, currently empty, but we will fill them with parameters in the coming hour\n",
    "- The line ends with a `:`\n",
    "- Following a `:`, we always have an indented block in Python. This is known as the \"function body,\" and it is what executes every time we invoke the function. You can put whatever code you want inside of the function body -- `if`, `input`, `print`, `for`, `while`...\n",
    "- When the block ends, the function definition ends, too."
   ]
  },
  {
   "cell_type": "code",
   "execution_count": 1,
   "metadata": {},
   "outputs": [],
   "source": [
    "def hello():\n",
    "    print('Hello!')"
   ]
  },
  {
   "cell_type": "code",
   "execution_count": 2,
   "metadata": {},
   "outputs": [
    {
     "name": "stdout",
     "output_type": "stream",
     "text": [
      "Hello!\n"
     ]
    }
   ],
   "source": [
    "# every time I want to print hello on the screen, I just run the hello() function\n",
    "\n",
    "hello()"
   ]
  },
  {
   "cell_type": "code",
   "execution_count": 3,
   "metadata": {},
   "outputs": [
    {
     "name": "stdout",
     "output_type": "stream",
     "text": [
      "Hello!\n",
      "Hello!\n",
      "Hello!\n"
     ]
    }
   ],
   "source": [
    "# once I have the function defined, I can use it inside of other constructs\n",
    "\n",
    "for i in range(3):\n",
    "    hello()"
   ]
  },
  {
   "cell_type": "markdown",
   "metadata": {},
   "source": [
    "# Exercise: Simple greeting\n",
    "\n",
    "Define a function, `greet`, that when run asks the user to enter their first and last names (separately, assigned to two variables), and then prints a nice greeting that uses both of their names.\n",
    "\n",
    "Example:\n",
    "\n",
    "    greet()\n",
    "    Enter your first name: Reuven\n",
    "    Enter your last name: Lerner\n",
    "    Hello, Reuven Lerner!"
   ]
  },
  {
   "cell_type": "code",
   "execution_count": 1,
   "metadata": {},
   "outputs": [],
   "source": [
    "def greet():\n",
    "    first_name = input('Enter first name: ').strip()\n",
    "    last_name = input('Enter last name: ').strip()\n",
    "    print(f'Hello, {first_name} {last_name}!')"
   ]
  },
  {
   "cell_type": "code",
   "execution_count": 2,
   "metadata": {},
   "outputs": [
    {
     "name": "stdin",
     "output_type": "stream",
     "text": [
      "Enter first name:  Reuven\n",
      "Enter last name:  Lerner\n"
     ]
    },
    {
     "name": "stdout",
     "output_type": "stream",
     "text": [
      "Hello, Reuven Lerner!\n"
     ]
    }
   ],
   "source": [
    "greet()"
   ]
  },
  {
   "cell_type": "markdown",
   "metadata": {},
   "source": [
    "# Arguments and parameters\n",
    "\n",
    "When we call a function, we can pass values to it. These values are known as *arguments*. We've done this many times already:\n",
    "\n",
    "```python\n",
    "len('abcd')   # here, 'abcd' is the argument\n",
    "len([10, 20, 30])  # here, [10, 20, 30] is the argument\n",
    "print('hello')  # here, 'hello' is the argument\n",
    "```\n",
    "\n",
    "In order for our function to accept arguments, we will need to redefine it such it has one or more *parameters*. Meaning: It'll need to have variables into which the arguments will be assigned.\n",
    "\n",
    "You can think of parameters as variables that get their values from whoever calls the function; you never need to worry about defining their values yourself.\n",
    "\n",
    "Almost every programmer I know confuses the terms \"arguments\" and \"parameters.\" If you use one for the other, that's mostly OK. But you should try to keep them separate:\n",
    "\n",
    "- Arguments are values\n",
    "- Parameters are variables\n",
    "\n",
    "Arguments are assigned to parameters when we call a function."
   ]
  },
  {
   "cell_type": "code",
   "execution_count": 3,
   "metadata": {},
   "outputs": [],
   "source": [
    "# let's rewrite our \"hello\" function\n",
    "\n",
    "def hello(name):    # name is a parameter, which will get the value of whatever argument we pass\n",
    "    print(f'Hello, {name}!')"
   ]
  },
  {
   "cell_type": "code",
   "execution_count": 5,
   "metadata": {},
   "outputs": [
    {
     "name": "stdout",
     "output_type": "stream",
     "text": [
      "Hello, world!\n"
     ]
    }
   ],
   "source": [
    "# parameters:   name\n",
    "# arguments:   'world'   \n",
    "\n",
    "hello('world')    # positional argument -- it is assigned to a parameter based on their positions"
   ]
  },
  {
   "cell_type": "code",
   "execution_count": 6,
   "metadata": {},
   "outputs": [
    {
     "ename": "TypeError",
     "evalue": "hello() missing 1 required positional argument: 'name'",
     "output_type": "error",
     "traceback": [
      "\u001b[1;31m---------------------------------------------------------------------------\u001b[0m",
      "\u001b[1;31mTypeError\u001b[0m                                 Traceback (most recent call last)",
      "Cell \u001b[1;32mIn[6], line 3\u001b[0m\n\u001b[0;32m      1\u001b[0m \u001b[38;5;66;03m# what if I now try to call hello without any argument?\u001b[39;00m\n\u001b[1;32m----> 3\u001b[0m \u001b[43mhello\u001b[49m\u001b[43m(\u001b[49m\u001b[43m)\u001b[49m\n",
      "\u001b[1;31mTypeError\u001b[0m: hello() missing 1 required positional argument: 'name'"
     ]
    }
   ],
   "source": [
    "# what if I now try to call hello without any argument?\n",
    "\n",
    "hello()"
   ]
  },
  {
   "cell_type": "markdown",
   "metadata": {},
   "source": [
    "In Python, defining a function includes assigning the new function to a variable.\n",
    "\n",
    "Just as a variable cannot refer to both 5 and 7 at the same time, a variable cannot refer to two different versions of the same function at the same time.\n",
    "\n",
    "The most recent assignment to a variable (with `=` or with `def`) is the one that currently stands."
   ]
  },
  {
   "cell_type": "code",
   "execution_count": 7,
   "metadata": {},
   "outputs": [],
   "source": [
    "# let's rewrite our \"greet\" function to take arguments\n",
    "\n",
    "def greet(first_name, last_name):   # notice -- two parameters, separated by commas\n",
    "    print(f'Hello, {first_name} {last_name}!')"
   ]
  },
  {
   "cell_type": "code",
   "execution_count": 8,
   "metadata": {},
   "outputs": [
    {
     "name": "stdout",
     "output_type": "stream",
     "text": [
      "Hello, Reuven Lerner!\n"
     ]
    }
   ],
   "source": [
    "# parameters: first_name   last_name\n",
    "# arguments:   'Reuven'      'Lerner'\n",
    "\n",
    "greet('Reuven', 'Lerner')"
   ]
  },
  {
   "cell_type": "markdown",
   "metadata": {},
   "source": [
    "# Exercise: Calculator\n",
    "\n",
    "1. Define a function, `calc`, that takes three arguments:\n",
    "    - an integer\n",
    "    - a string, either `+` or `-`\n",
    "    - another integer\n",
    "2. If the user passed `+` or `-`, then show the full math expression, including a result\n",
    "3. If not, then indicate that the operator wasn't known\n",
    "\n",
    "Example:\n",
    "\n",
    "    calc(2, '+', 3)   # prints '2 + 3 = 5'\n",
    "    calc(20, '-', 5)  # prints '20 - 5 = 15'\n",
    "    calc(3, '*', 4)   # prints '3 * 4 = (unknown operator *)'\n",
    "    "
   ]
  },
  {
   "cell_type": "code",
   "execution_count": 9,
   "metadata": {},
   "outputs": [],
   "source": [
    "def calc(first, op, second):\n",
    "    if op == '+':\n",
    "        result = first + second\n",
    "    elif op == '-':\n",
    "        result = first - second\n",
    "    else:\n",
    "        result = f'(unknown operator {op})'\n",
    "\n",
    "    print(f'{first} {op} {second} = {result}')"
   ]
  },
  {
   "cell_type": "code",
   "execution_count": 10,
   "metadata": {},
   "outputs": [
    {
     "name": "stdout",
     "output_type": "stream",
     "text": [
      "10 + 3 = 13\n"
     ]
    }
   ],
   "source": [
    "# parameters:   first   op   second\n",
    "# arguments:     10     '+'    3\n",
    "\n",
    "calc(10, '+', 3)"
   ]
  },
  {
   "cell_type": "code",
   "execution_count": 11,
   "metadata": {},
   "outputs": [
    {
     "name": "stdout",
     "output_type": "stream",
     "text": [
      "200 - 150 = 50\n"
     ]
    }
   ],
   "source": [
    "calc(200, '-', 150)"
   ]
  },
  {
   "cell_type": "code",
   "execution_count": 12,
   "metadata": {},
   "outputs": [
    {
     "name": "stdout",
     "output_type": "stream",
     "text": [
      "3 * 5 = (unknown operator *)\n"
     ]
    }
   ],
   "source": [
    "calc(3, '*', 5)"
   ]
  },
  {
   "cell_type": "code",
   "execution_count": 13,
   "metadata": {},
   "outputs": [
    {
     "name": "stdout",
     "output_type": "stream",
     "text": [
      "Hello, world!\n"
     ]
    }
   ],
   "source": [
    "# remember hello?\n",
    "\n",
    "hello('world')"
   ]
  },
  {
   "cell_type": "code",
   "execution_count": 14,
   "metadata": {},
   "outputs": [
    {
     "name": "stdout",
     "output_type": "stream",
     "text": [
      "Hello, 5!\n"
     ]
    }
   ],
   "source": [
    "# what happens if I call hello with an integer?\n",
    "hello(5)"
   ]
  },
  {
   "cell_type": "code",
   "execution_count": 15,
   "metadata": {},
   "outputs": [
    {
     "name": "stdout",
     "output_type": "stream",
     "text": [
      "Hello, [10, 20, 30]!\n"
     ]
    }
   ],
   "source": [
    "hello([10, 20, 30])"
   ]
  },
  {
   "cell_type": "code",
   "execution_count": 16,
   "metadata": {},
   "outputs": [
    {
     "name": "stdout",
     "output_type": "stream",
     "text": [
      "Hello, <function hello at 0x10e9ca200>!\n"
     ]
    }
   ],
   "source": [
    "# can I go completly bananas and call hello with a function argument?!?\n",
    "hello(hello)"
   ]
  },
  {
   "cell_type": "markdown",
   "metadata": {},
   "source": [
    "# Arguments and type checking\n",
    "\n",
    "In Python, and other dynamic languages, there is no way to tell a variable that it can only contain a certain type of value. If you define `x` to be `'abcd'`, and then you set `x` to be `123`, that's totally fine.\n",
    "\n",
    "Statically typed languages don't let you do this: You have to tell the language what kind(s) of values will be assigned to a variable. If it sees you assigning the wrong type, it gives you an error message -- before you run the program.\n",
    "\n",
    "There isn't any way to prevent someone from calling your function with the wrong kind of value. What can you do?\n",
    "\n",
    "1. Document your functions (with docstrings)\n",
    "2. Put in some checks in your functions (yuck)\n",
    "3. Use a type checker in Python (e.g., Mypy), which we won't be discussing in this course\n",
    "4. Have errors\n",
    "5. Trap exceptions (which we won't be discussing in this course) -- this is the most Pythonic way"
   ]
  },
  {
   "cell_type": "code",
   "execution_count": 17,
   "metadata": {},
   "outputs": [
    {
     "data": {
      "text/plain": [
       "True"
      ]
     },
     "execution_count": 17,
     "metadata": {},
     "output_type": "execute_result"
    }
   ],
   "source": [
    "# SC tried to use the \"isnumeric\" or \"isdigit\" methods, but they didn't work on integers\n",
    "# that's right -- they are string methods!\n",
    "\n",
    "x = '123'\n",
    "x.isdigit()"
   ]
  },
  {
   "cell_type": "code",
   "execution_count": 18,
   "metadata": {},
   "outputs": [
    {
     "ename": "AttributeError",
     "evalue": "'int' object has no attribute 'isdigit'",
     "output_type": "error",
     "traceback": [
      "\u001b[1;31m---------------------------------------------------------------------------\u001b[0m",
      "\u001b[1;31mAttributeError\u001b[0m                            Traceback (most recent call last)",
      "Cell \u001b[1;32mIn[18], line 2\u001b[0m\n\u001b[0;32m      1\u001b[0m x \u001b[38;5;241m=\u001b[39m \u001b[38;5;241m123\u001b[39m  \u001b[38;5;66;03m# integer\u001b[39;00m\n\u001b[1;32m----> 2\u001b[0m \u001b[43mx\u001b[49m\u001b[38;5;241;43m.\u001b[39;49m\u001b[43misdigit\u001b[49m()\n",
      "\u001b[1;31mAttributeError\u001b[0m: 'int' object has no attribute 'isdigit'"
     ]
    }
   ],
   "source": [
    "x = 123  # integer\n",
    "x.isdigit()"
   ]
  },
  {
   "cell_type": "code",
   "execution_count": 19,
   "metadata": {},
   "outputs": [
    {
     "data": {
      "text/plain": [
       "True"
      ]
     },
     "execution_count": 19,
     "metadata": {},
     "output_type": "execute_result"
    }
   ],
   "source": [
    "# if you really want, you can use isinstance\n",
    "\n",
    "isinstance(x, int)"
   ]
  },
  {
   "cell_type": "markdown",
   "metadata": {},
   "source": [
    "In dynamic languages, we often talk about \"duck typing\" -- meaning that we don't care what kind of value we get, but we do care what it does.\n",
    "\n"
   ]
  },
  {
   "cell_type": "markdown",
   "metadata": {},
   "source": [
    "# Next up\n",
    "\n",
    "1. Docstrings (documenting our functions)\n",
    "2. Keyword arguments\n",
    "3. Return values"
   ]
  },
  {
   "cell_type": "code",
   "execution_count": null,
   "metadata": {},
   "outputs": [],
   "source": []
  }
 ],
 "metadata": {
  "kernelspec": {
   "display_name": "Python 3 (ipykernel)",
   "language": "python",
   "name": "python3"
  },
  "language_info": {
   "codemirror_mode": {
    "name": "ipython",
    "version": 3
   },
   "file_extension": ".py",
   "mimetype": "text/x-python",
   "name": "python",
   "nbconvert_exporter": "python",
   "pygments_lexer": "ipython3",
   "version": "3.12.1"
  }
 },
 "nbformat": 4,
 "nbformat_minor": 4
}
