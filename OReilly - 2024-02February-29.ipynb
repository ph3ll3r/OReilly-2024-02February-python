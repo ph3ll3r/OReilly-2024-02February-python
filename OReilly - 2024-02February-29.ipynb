{
 "cells": [
  {
   "cell_type": "markdown",
   "metadata": {},
   "source": [
    "# Agenda: Day 4 -- functions\n",
    "\n",
    "1. Questions\n",
    "2. What are functions?\n",
    "3. How do we define functions?\n",
    "4. Arguments and parameters\n",
    "5. Return values (return values vs. printing)\n",
    "6. Default argument values\n",
    "7. Complex return values (and some unpacking)\n",
    "8. Local vs. global variables"
   ]
  },
  {
   "cell_type": "markdown",
   "metadata": {},
   "source": [
    "# What are functions?\n",
    "\n",
    "We've been using functions (and methods) throughout this course:\n",
    "\n",
    "- `len`\n",
    "- `print`\n",
    "- `input`\n",
    "- `str.strip`\n",
    "- `str.split`\n",
    "\n",
    "Functions are the verbs of a programming language; they get things done.\n",
    "\n",
    "You might remember the DRY (\"don't repeat yourself\") rule, which says:\n",
    "\n",
    "- If we have the same code several times in a row, we can \"DRY it up\" into a loop\n",
    "- If we have the same code in several different places in our program, we can \"DRY it up\" into a function. That is: We define the function in one place, and then use it in many other places.\n",
    "\n",
    "Defining functions gives us many practical and semantic advantages:\n",
    "- We only have to write the code a single time.\n",
    "- When it comes time to debug/improve/change/optimize our code, having things in a function makes that so much easier\n",
    "- We gain semantic power by using a function, creating a higher level of abstraction.\n",
    "\n",
    "Abstraction is the idea that we can take some functionality, wrap it up under a name, and not think about the underlying implementation. We can treat it as a black box that accomplishes a goal. Once we've created that abstraction, we can use it in higher-level things.\n",
    "\n"
   ]
  }
 ],
 "metadata": {
  "kernelspec": {
   "display_name": "Python 3 (ipykernel)",
   "language": "python",
   "name": "python3"
  },
  "language_info": {
   "codemirror_mode": {
    "name": "ipython",
    "version": 3
   },
   "file_extension": ".py",
   "mimetype": "text/x-python",
   "name": "python",
   "nbconvert_exporter": "python",
   "pygments_lexer": "ipython3",
   "version": "3.12.1"
  }
 },
 "nbformat": 4,
 "nbformat_minor": 4
}
