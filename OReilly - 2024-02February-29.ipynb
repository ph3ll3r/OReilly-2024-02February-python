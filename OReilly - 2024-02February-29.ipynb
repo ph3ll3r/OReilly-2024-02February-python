{
 "cells": [
  {
   "cell_type": "markdown",
   "metadata": {},
   "source": [
    "# Agenda: Day 4 -- functions\n",
    "\n",
    "1. Questions\n",
    "2. What are functions?\n",
    "3. How do we define functions?\n",
    "4. Arguments and parameters\n",
    "5. Return values (return values vs. printing)\n",
    "6. Default argument values\n",
    "7. Complex return values (and some unpacking)\n",
    "8. Local vs. global variables"
   ]
  },
  {
   "cell_type": "markdown",
   "metadata": {},
   "source": [
    "# What are functions?\n",
    "\n",
    "We've been using functions (and methods) throughout this course:\n",
    "\n",
    "- `len`\n",
    "- `print`\n",
    "- `input`\n",
    "- `str.strip`\n",
    "- `str.split`\n",
    "\n",
    "Functions are the verbs of a programming language; they get things done.\n",
    "\n",
    "You might remember the DRY (\"don't repeat yourself\") rule, which says:\n",
    "\n",
    "- If we have the same code several times in a row, we can \"DRY it up\" into a loop\n",
    "- If we have the same code in several different places in our program, we can \"DRY it up\" into a function. That is: We define the function in one place, and then use it in many other places.\n",
    "\n",
    "Defining functions gives us many practical and semantic advantages:\n",
    "- We only have to write the code a single time.\n",
    "- When it comes time to debug/improve/change/optimize our code, having things in a function makes that so much easier\n",
    "- We gain semantic power by using a function, creating a higher level of abstraction.\n",
    "\n",
    "Abstraction is the idea that we can take some functionality, wrap it up under a name, and not think about the underlying implementation. We can treat it as a black box that accomplishes a goal. Once we've created that abstraction, we can use it in higher-level things.\n",
    "\n",
    "By writing functions, we create higher-level abstractions. We can think at a higher level, and solve bigger problems by ignoring the nitty-gritty that's going on inside of the function. A great deal of programming involves writing functions so that we can think at that higher level."
   ]
  },
  {
   "cell_type": "markdown",
   "metadata": {},
   "source": [
    "# How do I define a function?\n",
    "\n",
    "- We write `def`, a reserved word\n",
    "- We give the function a name -- it's a variable name, so it has to follow variable-name rules\n",
    "- After the name, we put `()`, currently empty, but we will fill them with parameters in the coming hour\n",
    "- The line ends with a `:`\n",
    "- Following a `:`, we always have an indented block in Python. This is known as the \"function body,\" and it is what executes every time we invoke the function. You can put whatever code you want inside of the function body -- `if`, `input`, `print`, `for`, `while`...\n",
    "- When the block ends, the function definition ends, too."
   ]
  },
  {
   "cell_type": "code",
   "execution_count": 1,
   "metadata": {},
   "outputs": [],
   "source": [
    "def hello():\n",
    "    print('Hello!')"
   ]
  },
  {
   "cell_type": "code",
   "execution_count": 2,
   "metadata": {},
   "outputs": [
    {
     "name": "stdout",
     "output_type": "stream",
     "text": [
      "Hello!\n"
     ]
    }
   ],
   "source": [
    "# every time I want to print hello on the screen, I just run the hello() function\n",
    "\n",
    "hello()"
   ]
  },
  {
   "cell_type": "code",
   "execution_count": 3,
   "metadata": {},
   "outputs": [
    {
     "name": "stdout",
     "output_type": "stream",
     "text": [
      "Hello!\n",
      "Hello!\n",
      "Hello!\n"
     ]
    }
   ],
   "source": [
    "# once I have the function defined, I can use it inside of other constructs\n",
    "\n",
    "for i in range(3):\n",
    "    hello()"
   ]
  },
  {
   "cell_type": "markdown",
   "metadata": {},
   "source": [
    "# Exercise: Simple greeting\n",
    "\n",
    "Define a function, `greet`, that when run asks the user to enter their first and last names (separately, assigned to two variables), and then prints a nice greeting that uses both of their names.\n",
    "\n",
    "Example:\n",
    "\n",
    "    greet()\n",
    "    Enter your first name: Reuven\n",
    "    Enter your last name: Lerner\n",
    "    Hello, Reuven Lerner!"
   ]
  },
  {
   "cell_type": "code",
   "execution_count": 1,
   "metadata": {},
   "outputs": [],
   "source": [
    "def greet():\n",
    "    first_name = input('Enter first name: ').strip()\n",
    "    last_name = input('Enter last name: ').strip()\n",
    "    print(f'Hello, {first_name} {last_name}!')"
   ]
  },
  {
   "cell_type": "code",
   "execution_count": 2,
   "metadata": {},
   "outputs": [
    {
     "name": "stdin",
     "output_type": "stream",
     "text": [
      "Enter first name:  Reuven\n",
      "Enter last name:  Lerner\n"
     ]
    },
    {
     "name": "stdout",
     "output_type": "stream",
     "text": [
      "Hello, Reuven Lerner!\n"
     ]
    }
   ],
   "source": [
    "greet()"
   ]
  },
  {
   "cell_type": "markdown",
   "metadata": {},
   "source": [
    "# Arguments and parameters\n",
    "\n",
    "When we call a function, we can pass values to it. These values are known as *arguments*. We've done this many times already:\n",
    "\n",
    "```python\n",
    "len('abcd')   # here, 'abcd' is the argument\n",
    "len([10, 20, 30])  # here, [10, 20, 30] is the argument\n",
    "print('hello')  # here, 'hello' is the argument\n",
    "```\n",
    "\n",
    "In order for our function to accept arguments, we will need to redefine it such it has one or more *parameters*. Meaning: It'll need to have variables into which the arguments will be assigned.\n",
    "\n",
    "You can think of parameters as variables that get their values from whoever calls the function; you never need to worry about defining their values yourself.\n",
    "\n",
    "Almost every programmer I know confuses the terms \"arguments\" and \"parameters.\" If you use one for the other, that's mostly OK. But you should try to keep them separate:\n",
    "\n",
    "- Arguments are values\n",
    "- Parameters are variables\n",
    "\n",
    "Arguments are assigned to parameters when we call a function."
   ]
  },
  {
   "cell_type": "code",
   "execution_count": 3,
   "metadata": {},
   "outputs": [],
   "source": [
    "# let's rewrite our \"hello\" function\n",
    "\n",
    "def hello(name):    # name is a parameter, which will get the value of whatever argument we pass\n",
    "    print(f'Hello, {name}!')"
   ]
  },
  {
   "cell_type": "code",
   "execution_count": 5,
   "metadata": {},
   "outputs": [
    {
     "name": "stdout",
     "output_type": "stream",
     "text": [
      "Hello, world!\n"
     ]
    }
   ],
   "source": [
    "# parameters:   name\n",
    "# arguments:   'world'   \n",
    "\n",
    "hello('world')    # positional argument -- it is assigned to a parameter based on their positions"
   ]
  },
  {
   "cell_type": "code",
   "execution_count": 6,
   "metadata": {},
   "outputs": [
    {
     "ename": "TypeError",
     "evalue": "hello() missing 1 required positional argument: 'name'",
     "output_type": "error",
     "traceback": [
      "\u001b[1;31m---------------------------------------------------------------------------\u001b[0m",
      "\u001b[1;31mTypeError\u001b[0m                                 Traceback (most recent call last)",
      "Cell \u001b[1;32mIn[6], line 3\u001b[0m\n\u001b[0;32m      1\u001b[0m \u001b[38;5;66;03m# what if I now try to call hello without any argument?\u001b[39;00m\n\u001b[1;32m----> 3\u001b[0m \u001b[43mhello\u001b[49m\u001b[43m(\u001b[49m\u001b[43m)\u001b[49m\n",
      "\u001b[1;31mTypeError\u001b[0m: hello() missing 1 required positional argument: 'name'"
     ]
    }
   ],
   "source": [
    "# what if I now try to call hello without any argument?\n",
    "\n",
    "hello()"
   ]
  },
  {
   "cell_type": "markdown",
   "metadata": {},
   "source": [
    "In Python, defining a function includes assigning the new function to a variable.\n",
    "\n",
    "Just as a variable cannot refer to both 5 and 7 at the same time, a variable cannot refer to two different versions of the same function at the same time.\n",
    "\n",
    "The most recent assignment to a variable (with `=` or with `def`) is the one that currently stands."
   ]
  },
  {
   "cell_type": "code",
   "execution_count": 7,
   "metadata": {},
   "outputs": [],
   "source": [
    "# let's rewrite our \"greet\" function to take arguments\n",
    "\n",
    "def greet(first_name, last_name):   # notice -- two parameters, separated by commas\n",
    "    print(f'Hello, {first_name} {last_name}!')"
   ]
  },
  {
   "cell_type": "code",
   "execution_count": 8,
   "metadata": {},
   "outputs": [
    {
     "name": "stdout",
     "output_type": "stream",
     "text": [
      "Hello, Reuven Lerner!\n"
     ]
    }
   ],
   "source": [
    "# parameters: first_name   last_name\n",
    "# arguments:   'Reuven'      'Lerner'\n",
    "\n",
    "greet('Reuven', 'Lerner')"
   ]
  },
  {
   "cell_type": "markdown",
   "metadata": {},
   "source": [
    "# Exercise: Calculator\n",
    "\n",
    "1. Define a function, `calc`, that takes three arguments:\n",
    "    - an integer\n",
    "    - a string, either `+` or `-`\n",
    "    - another integer\n",
    "2. If the user passed `+` or `-`, then show the full math expression, including a result\n",
    "3. If not, then indicate that the operator wasn't known\n",
    "\n",
    "Example:\n",
    "\n",
    "    calc(2, '+', 3)   # prints '2 + 3 = 5'\n",
    "    calc(20, '-', 5)  # prints '20 - 5 = 15'\n",
    "    calc(3, '*', 4)   # prints '3 * 4 = (unknown operator *)'\n",
    "    "
   ]
  },
  {
   "cell_type": "code",
   "execution_count": 9,
   "metadata": {},
   "outputs": [],
   "source": [
    "def calc(first, op, second):\n",
    "    if op == '+':\n",
    "        result = first + second\n",
    "    elif op == '-':\n",
    "        result = first - second\n",
    "    else:\n",
    "        result = f'(unknown operator {op})'\n",
    "\n",
    "    print(f'{first} {op} {second} = {result}')"
   ]
  },
  {
   "cell_type": "code",
   "execution_count": 10,
   "metadata": {},
   "outputs": [
    {
     "name": "stdout",
     "output_type": "stream",
     "text": [
      "10 + 3 = 13\n"
     ]
    }
   ],
   "source": [
    "# parameters:   first   op   second\n",
    "# arguments:     10     '+'    3\n",
    "\n",
    "calc(10, '+', 3)"
   ]
  },
  {
   "cell_type": "code",
   "execution_count": 11,
   "metadata": {},
   "outputs": [
    {
     "name": "stdout",
     "output_type": "stream",
     "text": [
      "200 - 150 = 50\n"
     ]
    }
   ],
   "source": [
    "calc(200, '-', 150)"
   ]
  },
  {
   "cell_type": "code",
   "execution_count": 12,
   "metadata": {},
   "outputs": [
    {
     "name": "stdout",
     "output_type": "stream",
     "text": [
      "3 * 5 = (unknown operator *)\n"
     ]
    }
   ],
   "source": [
    "calc(3, '*', 5)"
   ]
  },
  {
   "cell_type": "code",
   "execution_count": 13,
   "metadata": {},
   "outputs": [
    {
     "name": "stdout",
     "output_type": "stream",
     "text": [
      "Hello, world!\n"
     ]
    }
   ],
   "source": [
    "# remember hello?\n",
    "\n",
    "hello('world')"
   ]
  },
  {
   "cell_type": "code",
   "execution_count": 14,
   "metadata": {},
   "outputs": [
    {
     "name": "stdout",
     "output_type": "stream",
     "text": [
      "Hello, 5!\n"
     ]
    }
   ],
   "source": [
    "# what happens if I call hello with an integer?\n",
    "hello(5)"
   ]
  },
  {
   "cell_type": "code",
   "execution_count": 15,
   "metadata": {},
   "outputs": [
    {
     "name": "stdout",
     "output_type": "stream",
     "text": [
      "Hello, [10, 20, 30]!\n"
     ]
    }
   ],
   "source": [
    "hello([10, 20, 30])"
   ]
  },
  {
   "cell_type": "code",
   "execution_count": 16,
   "metadata": {},
   "outputs": [
    {
     "name": "stdout",
     "output_type": "stream",
     "text": [
      "Hello, <function hello at 0x10e9ca200>!\n"
     ]
    }
   ],
   "source": [
    "# can I go completly bananas and call hello with a function argument?!?\n",
    "hello(hello)"
   ]
  },
  {
   "cell_type": "markdown",
   "metadata": {},
   "source": [
    "# Arguments and type checking\n",
    "\n",
    "In Python, and other dynamic languages, there is no way to tell a variable that it can only contain a certain type of value. If you define `x` to be `'abcd'`, and then you set `x` to be `123`, that's totally fine.\n",
    "\n",
    "Statically typed languages don't let you do this: You have to tell the language what kind(s) of values will be assigned to a variable. If it sees you assigning the wrong type, it gives you an error message -- before you run the program.\n",
    "\n",
    "There isn't any way to prevent someone from calling your function with the wrong kind of value. What can you do?\n",
    "\n",
    "1. Document your functions (with docstrings)\n",
    "2. Put in some checks in your functions (yuck)\n",
    "3. Use a type checker in Python (e.g., Mypy), which we won't be discussing in this course\n",
    "4. Have errors\n",
    "5. Trap exceptions (which we won't be discussing in this course) -- this is the most Pythonic way"
   ]
  },
  {
   "cell_type": "code",
   "execution_count": 17,
   "metadata": {},
   "outputs": [
    {
     "data": {
      "text/plain": [
       "True"
      ]
     },
     "execution_count": 17,
     "metadata": {},
     "output_type": "execute_result"
    }
   ],
   "source": [
    "# SC tried to use the \"isnumeric\" or \"isdigit\" methods, but they didn't work on integers\n",
    "# that's right -- they are string methods!\n",
    "\n",
    "x = '123'\n",
    "x.isdigit()"
   ]
  },
  {
   "cell_type": "code",
   "execution_count": 18,
   "metadata": {},
   "outputs": [
    {
     "ename": "AttributeError",
     "evalue": "'int' object has no attribute 'isdigit'",
     "output_type": "error",
     "traceback": [
      "\u001b[1;31m---------------------------------------------------------------------------\u001b[0m",
      "\u001b[1;31mAttributeError\u001b[0m                            Traceback (most recent call last)",
      "Cell \u001b[1;32mIn[18], line 2\u001b[0m\n\u001b[0;32m      1\u001b[0m x \u001b[38;5;241m=\u001b[39m \u001b[38;5;241m123\u001b[39m  \u001b[38;5;66;03m# integer\u001b[39;00m\n\u001b[1;32m----> 2\u001b[0m \u001b[43mx\u001b[49m\u001b[38;5;241;43m.\u001b[39;49m\u001b[43misdigit\u001b[49m()\n",
      "\u001b[1;31mAttributeError\u001b[0m: 'int' object has no attribute 'isdigit'"
     ]
    }
   ],
   "source": [
    "x = 123  # integer\n",
    "x.isdigit()"
   ]
  },
  {
   "cell_type": "code",
   "execution_count": 19,
   "metadata": {},
   "outputs": [
    {
     "data": {
      "text/plain": [
       "True"
      ]
     },
     "execution_count": 19,
     "metadata": {},
     "output_type": "execute_result"
    }
   ],
   "source": [
    "# if you really want, you can use isinstance\n",
    "\n",
    "isinstance(x, int)"
   ]
  },
  {
   "cell_type": "markdown",
   "metadata": {},
   "source": [
    "In dynamic languages, we often talk about \"duck typing\" -- meaning that we don't care what kind of value we get, but we do care what it does.\n",
    "\n"
   ]
  },
  {
   "cell_type": "markdown",
   "metadata": {},
   "source": [
    "# Next up\n",
    "\n",
    "1. Docstrings (documenting our functions)\n",
    "2. Keyword arguments\n",
    "3. Return values"
   ]
  },
  {
   "cell_type": "code",
   "execution_count": 23,
   "metadata": {},
   "outputs": [],
   "source": [
    "# SC\n",
    "# when you define a function inside of a function, it's known as an \"inner function\"\n",
    "\n",
    "def foo():\n",
    "    def fun():\n",
    "        return 1\n",
    "    return fun()\n",
    "\n",
    "def bar():\n",
    "    def fun():\n",
    "        return 2\n",
    "    return fun()"
   ]
  },
  {
   "cell_type": "code",
   "execution_count": 21,
   "metadata": {},
   "outputs": [
    {
     "data": {
      "text/plain": [
       "1"
      ]
     },
     "execution_count": 21,
     "metadata": {},
     "output_type": "execute_result"
    }
   ],
   "source": [
    "foo()"
   ]
  },
  {
   "cell_type": "code",
   "execution_count": 22,
   "metadata": {},
   "outputs": [
    {
     "data": {
      "text/plain": [
       "2"
      ]
     },
     "execution_count": 22,
     "metadata": {},
     "output_type": "execute_result"
    }
   ],
   "source": [
    "bar()"
   ]
  },
  {
   "cell_type": "markdown",
   "metadata": {},
   "source": [
    "# Documenting your function\n",
    "\n",
    "So far, we've hoped/assumed that someone calling our function would know what the function does, and what kinds of arguments it takes. That's not a good strategy. We should document that somewhere.\n",
    "\n",
    "The way that we document functions in Python is with \"docstrings\" -- if the first line of a function is a string, then it is taken as the documentation.\n",
    "\n",
    "Don't confuse this documentation with comments in the code!\n",
    "\n",
    "- comments are for the people who will be maintaining the software\n",
    "- docstrings are for people who will be using the software "
   ]
  },
  {
   "cell_type": "code",
   "execution_count": 26,
   "metadata": {},
   "outputs": [],
   "source": [
    "def hello(name):\n",
    "    'This is the best function ever written!'\n",
    "    print(f'Hello, {name}!')"
   ]
  },
  {
   "cell_type": "code",
   "execution_count": 27,
   "metadata": {},
   "outputs": [
    {
     "name": "stdout",
     "output_type": "stream",
     "text": [
      "Hello, world!\n"
     ]
    }
   ],
   "source": [
    "hello('world')"
   ]
  },
  {
   "cell_type": "code",
   "execution_count": 28,
   "metadata": {},
   "outputs": [
    {
     "name": "stdout",
     "output_type": "stream",
     "text": [
      "Help on function hello in module __main__:\n",
      "\n",
      "hello(name)\n",
      "    This is the best function ever written!\n",
      "\n"
     ]
    }
   ],
   "source": [
    "# in Jupyter, we can use the \"help\" function\n",
    "# in most editors/IDEs, you can hover over a function name and get the docs.\n",
    "\n",
    "help(hello) "
   ]
  },
  {
   "cell_type": "code",
   "execution_count": 29,
   "metadata": {},
   "outputs": [],
   "source": [
    "# what if we want a longer docstring?\n",
    "# we can use triple-quoted strings, with \"\"\" and \"\"\" at the start and end\n",
    "# this way, you can have more than one line\n",
    "\n",
    "def hello(name):\n",
    "    \"\"\"Print a friendly greeting to the user.\n",
    "\n",
    "    Expects: One argument, a string, which will be assigned to name\n",
    "    Modifies: Nothing\n",
    "    Returns: Nothing\n",
    "    \"\"\"\n",
    "    print(f'Hello, {name}!')"
   ]
  },
  {
   "cell_type": "code",
   "execution_count": 30,
   "metadata": {},
   "outputs": [
    {
     "name": "stdout",
     "output_type": "stream",
     "text": [
      "Help on function hello in module __main__:\n",
      "\n",
      "hello(name)\n",
      "    Print a friendly greeting to the user.\n",
      "\n",
      "    Expects: One argument, a string, which will be assigned to name\n",
      "    Modifies: Nothing\n",
      "    Returns: Nothing\n",
      "\n"
     ]
    }
   ],
   "source": [
    "help(hello)"
   ]
  },
  {
   "cell_type": "markdown",
   "metadata": {},
   "source": [
    "# Return values\n",
    "\n",
    "When we call a function like `len`, we expect to get a value back:\n",
    "\n",
    "```python\n",
    "x = len('abcd')     # x will be 4\n",
    "```\n",
    "\n",
    "So far, none of our functions have returned values. They have displayed values on the screen, but they have not returned values that we could store in variables.\n",
    "\n",
    "The difference between printing and returning is very big, but it's less obvious when you're using Jupyter, because returned values are automatically displayed.\n",
    "\n",
    "- If a function returns a value, then that value can be assigned to a variable, passed to another function, or printed\n",
    "- If a function prints a value, then that value is printed, and we can't do anything more with it.\n",
    "\n",
    "Also: A function can print as much (or as little) as it wants. But it can only return one value per invocation of the function.\n",
    "\n",
    "As a general rule, I encourage you to return values from your functions (not print them), but to print any debugging info that you might find useful.\n",
    "\n",
    "How do we return a value? We use the `return` statement in Python. We can return any value we want, without any exceptions. \n",
    "\n",
    "- If you invoke `return` without giving it a value, it returns the special value `None`\n",
    "- If your function never calls `return`, then it also returns `None` when it's done\n",
    "\n",
    "You can use parentheses with `return`, but we normally don't."
   ]
  },
  {
   "cell_type": "code",
   "execution_count": 31,
   "metadata": {},
   "outputs": [],
   "source": [
    "def hello(name):\n",
    "    return f'Hello, {name}!'  "
   ]
  },
  {
   "cell_type": "code",
   "execution_count": 32,
   "metadata": {},
   "outputs": [
    {
     "data": {
      "text/plain": [
       "'Hello, world!'"
      ]
     },
     "execution_count": 32,
     "metadata": {},
     "output_type": "execute_result"
    }
   ],
   "source": [
    "hello('world')   # I'm running it in Jupyter, so I'll get a value back, and it'll be displayed"
   ]
  },
  {
   "cell_type": "code",
   "execution_count": 33,
   "metadata": {},
   "outputs": [
    {
     "name": "stdout",
     "output_type": "stream",
     "text": [
      "Hello, world!\n"
     ]
    }
   ],
   "source": [
    "x = hello('world')\n",
    "print(x)"
   ]
  },
  {
   "cell_type": "markdown",
   "metadata": {},
   "source": [
    "# Exercise: Calculator\n",
    "\n",
    "1. Write a new `calc` function that takes one string argument in the format of `'X op Y'`, where `X` and `Y` are digits and `op` is either `+` or `-`.\n",
    "2. Break that string apart into pieces, and convert `X` and `Y` into integers.\n",
    "3. Return the same kind of string as before, with `'2 + 3 = 5'` and if the operator isn't valid, indicate that in the result."
   ]
  },
  {
   "cell_type": "code",
   "execution_count": 40,
   "metadata": {},
   "outputs": [],
   "source": [
    "def calc(s):\n",
    "    fields = s.split()  \n",
    "    first = fields[0]\n",
    "    op = fields[1]\n",
    "    second = fields[2]\n",
    "\n",
    "    first = int(first)\n",
    "    second = int(second)\n",
    "\n",
    "    if op == '+':\n",
    "        result = first + second\n",
    "    elif op == '-':\n",
    "        result = first - second\n",
    "    else:\n",
    "        result = f'(Unrecognized operator {op})'\n",
    "\n",
    "    return f'{first} {op} {second} = {result}'"
   ]
  },
  {
   "cell_type": "code",
   "execution_count": 41,
   "metadata": {},
   "outputs": [
    {
     "data": {
      "text/plain": [
       "'2 + 3 = 5'"
      ]
     },
     "execution_count": 41,
     "metadata": {},
     "output_type": "execute_result"
    }
   ],
   "source": [
    "calc('2 + 3')"
   ]
  },
  {
   "cell_type": "code",
   "execution_count": 42,
   "metadata": {},
   "outputs": [
    {
     "data": {
      "text/plain": [
       "'20 - 3 = 17'"
      ]
     },
     "execution_count": 42,
     "metadata": {},
     "output_type": "execute_result"
    }
   ],
   "source": [
    "calc('20 - 3')"
   ]
  },
  {
   "cell_type": "code",
   "execution_count": 43,
   "metadata": {},
   "outputs": [
    {
     "data": {
      "text/plain": [
       "'20 * 3 = (Unrecognized operator *)'"
      ]
     },
     "execution_count": 43,
     "metadata": {},
     "output_type": "execute_result"
    }
   ],
   "source": [
    "calc('20 * 3')"
   ]
  },
  {
   "cell_type": "code",
   "execution_count": 46,
   "metadata": {},
   "outputs": [],
   "source": [
    "def calc(s):\n",
    "    # use unpacking\n",
    "    first, op, second = s.split()\n",
    "\n",
    "    if first.isdigit() and second.isdigit():\n",
    "\n",
    "        first = int(first)\n",
    "        second = int(second)\n",
    "    \n",
    "        if op == '+':\n",
    "            result = first + second\n",
    "        elif op == '-':\n",
    "            result = first - second\n",
    "        else:\n",
    "            result = f'(Unrecognized operator {op})'\n",
    "    \n",
    "        return f'{first} {op} {second} = {result}'\n",
    "\n",
    "    else:\n",
    "        return f'Bad values -- not numeric!'"
   ]
  },
  {
   "cell_type": "code",
   "execution_count": 47,
   "metadata": {},
   "outputs": [
    {
     "data": {
      "text/plain": [
       "'20 + 4 = 24'"
      ]
     },
     "execution_count": 47,
     "metadata": {},
     "output_type": "execute_result"
    }
   ],
   "source": [
    "calc('20 + 4')"
   ]
  },
  {
   "cell_type": "code",
   "execution_count": 48,
   "metadata": {},
   "outputs": [
    {
     "data": {
      "text/plain": [
       "'Bad values -- not numeric!'"
      ]
     },
     "execution_count": 48,
     "metadata": {},
     "output_type": "execute_result"
    }
   ],
   "source": [
    "calc('cat + dog')"
   ]
  },
  {
   "cell_type": "markdown",
   "metadata": {},
   "source": [
    "# Keyword arguments\n",
    "\n",
    "So far, all of the arguments we have passed to our functions have been *positional* arguments.  However, there is another kind of argument, namely *keyword* arguments. \n",
    "\n",
    "Positional arguments are assigned to their parameters based on their positions. Keyword arguments, by contrast, are assigned to parameters based on the names we pass. That is, we explicitly tell Python which parameter should be assigned which value, regardless of position.\n",
    "\n",
    "All keyword arguments have the form of `NAME=VALUE`, with the `=` in the middle.\n",
    "\n",
    "You can pass any number of positional arguments, and any number of keyword arguments -- but all positional arguments must come before all keyword arguments."
   ]
  },
  {
   "cell_type": "code",
   "execution_count": 49,
   "metadata": {},
   "outputs": [],
   "source": [
    "def hello(name):\n",
    "    return f'Hello, {name}!'"
   ]
  },
  {
   "cell_type": "code",
   "execution_count": 51,
   "metadata": {},
   "outputs": [
    {
     "data": {
      "text/plain": [
       "'Hello, world!'"
      ]
     },
     "execution_count": 51,
     "metadata": {},
     "output_type": "execute_result"
    }
   ],
   "source": [
    "hello('world')  # positional argument"
   ]
  },
  {
   "cell_type": "code",
   "execution_count": 52,
   "metadata": {},
   "outputs": [
    {
     "data": {
      "text/plain": [
       "'Hello, world!'"
      ]
     },
     "execution_count": 52,
     "metadata": {},
     "output_type": "execute_result"
    }
   ],
   "source": [
    "hello(name='world')   #keyword argument"
   ]
  },
  {
   "cell_type": "code",
   "execution_count": 53,
   "metadata": {},
   "outputs": [],
   "source": [
    "def add(first, second):\n",
    "    return first + second"
   ]
  },
  {
   "cell_type": "code",
   "execution_count": 56,
   "metadata": {},
   "outputs": [
    {
     "data": {
      "text/plain": [
       "13"
      ]
     },
     "execution_count": 56,
     "metadata": {},
     "output_type": "execute_result"
    }
   ],
   "source": [
    "# parameters: first second\n",
    "# arguments:   10     3\n",
    "add(10, 3)"
   ]
  },
  {
   "cell_type": "code",
   "execution_count": 57,
   "metadata": {},
   "outputs": [
    {
     "data": {
      "text/plain": [
       "13"
      ]
     },
     "execution_count": 57,
     "metadata": {},
     "output_type": "execute_result"
    }
   ],
   "source": [
    "# parameters: first second\n",
    "# arguments:    10     3\n",
    "add(first=10, second=3)"
   ]
  },
  {
   "cell_type": "code",
   "execution_count": 58,
   "metadata": {},
   "outputs": [
    {
     "data": {
      "text/plain": [
       "13"
      ]
     },
     "execution_count": 58,
     "metadata": {},
     "output_type": "execute_result"
    }
   ],
   "source": [
    "# parameters: first second\n",
    "# arguments:    3    10\n",
    "add(second=10, first=3)"
   ]
  },
  {
   "cell_type": "code",
   "execution_count": 63,
   "metadata": {},
   "outputs": [
    {
     "data": {
      "text/plain": [
       "13"
      ]
     },
     "execution_count": 63,
     "metadata": {},
     "output_type": "execute_result"
    }
   ],
   "source": [
    "# parameters: first  second\n",
    "# arguments    5       8\n",
    "\n",
    "add(5, second=8)"
   ]
  },
  {
   "cell_type": "code",
   "execution_count": 60,
   "metadata": {},
   "outputs": [
    {
     "ename": "SyntaxError",
     "evalue": "positional argument follows keyword argument (3869730590.py, line 1)",
     "output_type": "error",
     "traceback": [
      "\u001b[1;36m  Cell \u001b[1;32mIn[60], line 1\u001b[1;36m\u001b[0m\n\u001b[1;33m    add(first=5, 8)\u001b[0m\n\u001b[1;37m                  ^\u001b[0m\n\u001b[1;31mSyntaxError\u001b[0m\u001b[1;31m:\u001b[0m positional argument follows keyword argument\n"
     ]
    }
   ],
   "source": [
    "add(first=5, 8)"
   ]
  },
  {
   "cell_type": "code",
   "execution_count": 61,
   "metadata": {},
   "outputs": [
    {
     "ename": "SyntaxError",
     "evalue": "keyword argument repeated: second (1492095935.py, line 1)",
     "output_type": "error",
     "traceback": [
      "\u001b[1;36m  Cell \u001b[1;32mIn[61], line 1\u001b[1;36m\u001b[0m\n\u001b[1;33m    add(second=5, second=8)\u001b[0m\n\u001b[1;37m                  ^\u001b[0m\n\u001b[1;31mSyntaxError\u001b[0m\u001b[1;31m:\u001b[0m keyword argument repeated: second\n"
     ]
    }
   ],
   "source": [
    "add(second=5, second=8)"
   ]
  },
  {
   "cell_type": "code",
   "execution_count": 62,
   "metadata": {},
   "outputs": [
    {
     "ename": "TypeError",
     "evalue": "add() got multiple values for argument 'first'",
     "output_type": "error",
     "traceback": [
      "\u001b[1;31m---------------------------------------------------------------------------\u001b[0m",
      "\u001b[1;31mTypeError\u001b[0m                                 Traceback (most recent call last)",
      "Cell \u001b[1;32mIn[62], line 1\u001b[0m\n\u001b[1;32m----> 1\u001b[0m \u001b[43madd\u001b[49m\u001b[43m(\u001b[49m\u001b[38;5;241;43m5\u001b[39;49m\u001b[43m,\u001b[49m\u001b[43m \u001b[49m\u001b[43mfirst\u001b[49m\u001b[38;5;241;43m=\u001b[39;49m\u001b[38;5;241;43m8\u001b[39;49m\u001b[43m)\u001b[49m\n",
      "\u001b[1;31mTypeError\u001b[0m: add() got multiple values for argument 'first'"
     ]
    }
   ],
   "source": [
    "add(5, first=8)"
   ]
  },
  {
   "cell_type": "code",
   "execution_count": 64,
   "metadata": {},
   "outputs": [
    {
     "ename": "TypeError",
     "evalue": "add() got an unexpected keyword argument 'x'",
     "output_type": "error",
     "traceback": [
      "\u001b[1;31m---------------------------------------------------------------------------\u001b[0m",
      "\u001b[1;31mTypeError\u001b[0m                                 Traceback (most recent call last)",
      "Cell \u001b[1;32mIn[64], line 1\u001b[0m\n\u001b[1;32m----> 1\u001b[0m \u001b[43madd\u001b[49m\u001b[43m(\u001b[49m\u001b[43mx\u001b[49m\u001b[38;5;241;43m=\u001b[39;49m\u001b[38;5;241;43m100\u001b[39;49m\u001b[43m,\u001b[49m\u001b[43m \u001b[49m\u001b[43my\u001b[49m\u001b[38;5;241;43m=\u001b[39;49m\u001b[38;5;241;43m200\u001b[39;49m\u001b[43m)\u001b[49m\n",
      "\u001b[1;31mTypeError\u001b[0m: add() got an unexpected keyword argument 'x'"
     ]
    }
   ],
   "source": [
    "add(x=100, y=200)"
   ]
  },
  {
   "cell_type": "markdown",
   "metadata": {},
   "source": [
    "# Exercise: `mysum`\n",
    "\n",
    "Python comes with a function, `sum`, that takes a list of integers and returns their sum. \n",
    "\n",
    "Write your own function, `mysum`, that takes a list of integers and returns their sum. Do *NOT* use the builtin `sum` function in your own function. Rather, think about how you can implement it, and do so.\n",
    "\n",
    "Example:\n",
    "\n",
    "    mysum([10, 20, 30])           # should return 60\n",
    "    mysum(numbers=[10, 20, 30])   # should return 60"
   ]
  },
  {
   "cell_type": "code",
   "execution_count": 65,
   "metadata": {},
   "outputs": [],
   "source": [
    "def mysum(numbers):\n",
    "    total = 0\n",
    "\n",
    "    for one_number in numbers:\n",
    "        total += one_number\n",
    "\n",
    "    return total"
   ]
  },
  {
   "cell_type": "code",
   "execution_count": 66,
   "metadata": {},
   "outputs": [
    {
     "data": {
      "text/plain": [
       "60"
      ]
     },
     "execution_count": 66,
     "metadata": {},
     "output_type": "execute_result"
    }
   ],
   "source": [
    "mysum([10, 20, 30])"
   ]
  },
  {
   "cell_type": "code",
   "execution_count": 67,
   "metadata": {},
   "outputs": [
    {
     "data": {
      "text/plain": [
       "60"
      ]
     },
     "execution_count": 67,
     "metadata": {},
     "output_type": "execute_result"
    }
   ],
   "source": [
    "mysum(numbers=[10, 20, 30])"
   ]
  },
  {
   "cell_type": "code",
   "execution_count": 68,
   "metadata": {},
   "outputs": [
    {
     "name": "stdout",
     "output_type": "stream",
     "text": [
      "60\n"
     ]
    }
   ],
   "source": [
    "# AB\n",
    "\n",
    "# numbers = []\n",
    "# while True:\n",
    "#     numer = input('Type a number or exit if you want to stop: ')\n",
    "#     if numer.isdigit():\n",
    "#         numbers.append(int(numer))\n",
    "#     else:\n",
    "#         break\n",
    "# print(numbers)\n",
    "\n",
    "def mysum(num):\n",
    "    total = 0\n",
    "    for i in num:\n",
    "        total += i\n",
    "    return total\n",
    "\n",
    "print(mysum([10, 20, 30]))"
   ]
  },
  {
   "cell_type": "markdown",
   "metadata": {},
   "source": [
    "# Next up\n",
    "\n",
    "1. Complex return values\n",
    "2. Local vs. global variables\n",
    "3. Special parameters"
   ]
  },
  {
   "cell_type": "code",
   "execution_count": 69,
   "metadata": {},
   "outputs": [
    {
     "data": {
      "text/plain": [
       "[10, 20, 30]"
      ]
     },
     "execution_count": 69,
     "metadata": {},
     "output_type": "execute_result"
    }
   ],
   "source": [
    "def get_numbers():\n",
    "    return [10, 20, 30]\n",
    "\n",
    "get_numbers()"
   ]
  },
  {
   "cell_type": "code",
   "execution_count": 70,
   "metadata": {},
   "outputs": [
    {
     "data": {
      "text/plain": [
       "[10, 20, 30]"
      ]
     },
     "execution_count": 70,
     "metadata": {},
     "output_type": "execute_result"
    }
   ],
   "source": [
    "x = get_numbers()   # this is fine\n",
    "x"
   ]
  },
  {
   "cell_type": "code",
   "execution_count": 71,
   "metadata": {},
   "outputs": [],
   "source": [
    "x,y,z = get_numbers()   # how is this fine? Unpacking!"
   ]
  },
  {
   "cell_type": "code",
   "execution_count": 72,
   "metadata": {},
   "outputs": [
    {
     "data": {
      "text/plain": [
       "10"
      ]
     },
     "execution_count": 72,
     "metadata": {},
     "output_type": "execute_result"
    }
   ],
   "source": [
    "x"
   ]
  },
  {
   "cell_type": "code",
   "execution_count": 73,
   "metadata": {},
   "outputs": [
    {
     "data": {
      "text/plain": [
       "20"
      ]
     },
     "execution_count": 73,
     "metadata": {},
     "output_type": "execute_result"
    }
   ],
   "source": [
    "y"
   ]
  },
  {
   "cell_type": "code",
   "execution_count": 74,
   "metadata": {},
   "outputs": [
    {
     "data": {
      "text/plain": [
       "30"
      ]
     },
     "execution_count": 74,
     "metadata": {},
     "output_type": "execute_result"
    }
   ],
   "source": [
    "z"
   ]
  },
  {
   "cell_type": "code",
   "execution_count": 75,
   "metadata": {},
   "outputs": [],
   "source": [
    "# if a function returns a complex data structure,\n",
    "# we can use unpacking and similar techniques to grab it (or its parts)"
   ]
  },
  {
   "cell_type": "code",
   "execution_count": 76,
   "metadata": {},
   "outputs": [],
   "source": [
    "def get_status():\n",
    "    return 200, {'text':'ok', 'url':'python.org'}"
   ]
  },
  {
   "cell_type": "code",
   "execution_count": 78,
   "metadata": {},
   "outputs": [
    {
     "data": {
      "text/plain": [
       "(200, {'text': 'ok', 'url': 'python.org'})"
      ]
     },
     "execution_count": 78,
     "metadata": {},
     "output_type": "execute_result"
    }
   ],
   "source": [
    "get_status()"
   ]
  },
  {
   "cell_type": "code",
   "execution_count": 79,
   "metadata": {},
   "outputs": [],
   "source": [
    "status_code, status_dict = get_status()  # the 2-element tuple we got back is unpacked to two variables"
   ]
  },
  {
   "cell_type": "code",
   "execution_count": 80,
   "metadata": {},
   "outputs": [
    {
     "data": {
      "text/plain": [
       "200"
      ]
     },
     "execution_count": 80,
     "metadata": {},
     "output_type": "execute_result"
    }
   ],
   "source": [
    "status_code"
   ]
  },
  {
   "cell_type": "code",
   "execution_count": 81,
   "metadata": {},
   "outputs": [
    {
     "data": {
      "text/plain": [
       "{'text': 'ok', 'url': 'python.org'}"
      ]
     },
     "execution_count": 81,
     "metadata": {},
     "output_type": "execute_result"
    }
   ],
   "source": [
    "status_dict"
   ]
  },
  {
   "cell_type": "code",
   "execution_count": 82,
   "metadata": {},
   "outputs": [
    {
     "data": {
      "text/plain": [
       "'ok'"
      ]
     },
     "execution_count": 82,
     "metadata": {},
     "output_type": "execute_result"
    }
   ],
   "source": [
    "status_dict['text']"
   ]
  },
  {
   "cell_type": "code",
   "execution_count": 83,
   "metadata": {},
   "outputs": [
    {
     "data": {
      "text/plain": [
       "'python.org'"
      ]
     },
     "execution_count": 83,
     "metadata": {},
     "output_type": "execute_result"
    }
   ],
   "source": [
    "status_dict['url']"
   ]
  },
  {
   "cell_type": "markdown",
   "metadata": {},
   "source": [
    "# Exercise: Smallest and biggest\n",
    "\n",
    "1. Write a function, `smallest_and_biggest`, that takes a single argument, a list of numbers.\n",
    "2. The function will return a 2-element list, containing the smallest and largest number in the input list\n",
    "\n",
    "Example:\n",
    "\n",
    "    smallest_and_biggest([10, 5, 3, 17, 12])   # returns [3, 17]\n",
    "\n",
    "Hint: Assume that the first"
   ]
  }
 ],
 "metadata": {
  "kernelspec": {
   "display_name": "Python 3 (ipykernel)",
   "language": "python",
   "name": "python3"
  },
  "language_info": {
   "codemirror_mode": {
    "name": "ipython",
    "version": 3
   },
   "file_extension": ".py",
   "mimetype": "text/x-python",
   "name": "python",
   "nbconvert_exporter": "python",
   "pygments_lexer": "ipython3",
   "version": "3.12.1"
  }
 },
 "nbformat": 4,
 "nbformat_minor": 4
}
